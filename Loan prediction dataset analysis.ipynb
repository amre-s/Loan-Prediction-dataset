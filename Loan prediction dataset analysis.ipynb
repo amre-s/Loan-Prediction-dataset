{
 "cells": [
  {
   "cell_type": "code",
   "execution_count": 7,
   "metadata": {},
   "outputs": [],
   "source": [
    "import pandas as pd\n",
    "import numpy as np"
   ]
  },
  {
   "cell_type": "code",
   "execution_count": 8,
   "metadata": {},
   "outputs": [],
   "source": [
    "train = pd.read_csv(\"G:/Loan prediction dataset - Capstone 3/train.csv\")\n",
    "test = pd.read_csv(\"G:/Loan prediction dataset - Capstone 3/test.csv\")"
   ]
  },
  {
   "cell_type": "code",
   "execution_count": 9,
   "metadata": {},
   "outputs": [],
   "source": [
    "train['G:\\Loan prediction dataset - Capstone 3\\train.csv'] = 'train'\n",
    "test['G:\\Loan prediction dataset - Capstone 3\\test.csv'] = 'test'"
   ]
  },
  {
   "cell_type": "code",
   "execution_count": 10,
   "metadata": {},
   "outputs": [
    {
     "name": "stderr",
     "output_type": "stream",
     "text": [
      "C:\\Users\\Balamre\\Anaconda3\\lib\\site-packages\\ipykernel_launcher.py:1: FutureWarning: Sorting because non-concatenation axis is not aligned. A future version\n",
      "of pandas will change to not sort by default.\n",
      "\n",
      "To accept the future behavior, pass 'sort=False'.\n",
      "\n",
      "To retain the current behavior and silence the warning, pass 'sort=True'.\n",
      "\n",
      "  \"\"\"Entry point for launching an IPython kernel.\n"
     ]
    }
   ],
   "source": [
    "df = pd.concat([train,test],ignore_index = 'True')"
   ]
  },
  {
   "cell_type": "code",
   "execution_count": 11,
   "metadata": {},
   "outputs": [
    {
     "data": {
      "text/plain": [
       "ApplicantIncome                                        0\n",
       "CoapplicantIncome                                      0\n",
       "Credit_History                                        79\n",
       "Dependents                                            25\n",
       "Education                                              0\n",
       "G:\\Loan prediction dataset - Capstone 3\\test.csv     614\n",
       "G:\\Loan prediction dataset - Capstone 3\\train.csv    367\n",
       "Gender                                                24\n",
       "LoanAmount                                            27\n",
       "Loan_Amount_Term                                      20\n",
       "Loan_ID                                                0\n",
       "Loan_Status                                          367\n",
       "Married                                                3\n",
       "Property_Area                                          0\n",
       "Self_Employed                                         55\n",
       "dtype: int64"
      ]
     },
     "execution_count": 11,
     "metadata": {},
     "output_type": "execute_result"
    }
   ],
   "source": [
    "df.isna().sum()"
   ]
  },
  {
   "cell_type": "code",
   "execution_count": 12,
   "metadata": {},
   "outputs": [
    {
     "data": {
      "text/html": [
       "<div>\n",
       "<style scoped>\n",
       "    .dataframe tbody tr th:only-of-type {\n",
       "        vertical-align: middle;\n",
       "    }\n",
       "\n",
       "    .dataframe tbody tr th {\n",
       "        vertical-align: top;\n",
       "    }\n",
       "\n",
       "    .dataframe thead th {\n",
       "        text-align: right;\n",
       "    }\n",
       "</style>\n",
       "<table border=\"1\" class=\"dataframe\">\n",
       "  <thead>\n",
       "    <tr style=\"text-align: right;\">\n",
       "      <th></th>\n",
       "      <th>ApplicantIncome</th>\n",
       "      <th>CoapplicantIncome</th>\n",
       "      <th>Credit_History</th>\n",
       "      <th>LoanAmount</th>\n",
       "      <th>Loan_Amount_Term</th>\n",
       "    </tr>\n",
       "  </thead>\n",
       "  <tbody>\n",
       "    <tr>\n",
       "      <td>count</td>\n",
       "      <td>981.000000</td>\n",
       "      <td>981.000000</td>\n",
       "      <td>902.000000</td>\n",
       "      <td>954.000000</td>\n",
       "      <td>961.000000</td>\n",
       "    </tr>\n",
       "    <tr>\n",
       "      <td>mean</td>\n",
       "      <td>5179.795107</td>\n",
       "      <td>1601.916330</td>\n",
       "      <td>0.835920</td>\n",
       "      <td>142.511530</td>\n",
       "      <td>342.201873</td>\n",
       "    </tr>\n",
       "    <tr>\n",
       "      <td>std</td>\n",
       "      <td>5695.104533</td>\n",
       "      <td>2718.772806</td>\n",
       "      <td>0.370553</td>\n",
       "      <td>77.421743</td>\n",
       "      <td>65.100602</td>\n",
       "    </tr>\n",
       "    <tr>\n",
       "      <td>min</td>\n",
       "      <td>0.000000</td>\n",
       "      <td>0.000000</td>\n",
       "      <td>0.000000</td>\n",
       "      <td>9.000000</td>\n",
       "      <td>6.000000</td>\n",
       "    </tr>\n",
       "    <tr>\n",
       "      <td>25%</td>\n",
       "      <td>2875.000000</td>\n",
       "      <td>0.000000</td>\n",
       "      <td>1.000000</td>\n",
       "      <td>100.000000</td>\n",
       "      <td>360.000000</td>\n",
       "    </tr>\n",
       "    <tr>\n",
       "      <td>50%</td>\n",
       "      <td>3800.000000</td>\n",
       "      <td>1110.000000</td>\n",
       "      <td>1.000000</td>\n",
       "      <td>126.000000</td>\n",
       "      <td>360.000000</td>\n",
       "    </tr>\n",
       "    <tr>\n",
       "      <td>75%</td>\n",
       "      <td>5516.000000</td>\n",
       "      <td>2365.000000</td>\n",
       "      <td>1.000000</td>\n",
       "      <td>162.000000</td>\n",
       "      <td>360.000000</td>\n",
       "    </tr>\n",
       "    <tr>\n",
       "      <td>max</td>\n",
       "      <td>81000.000000</td>\n",
       "      <td>41667.000000</td>\n",
       "      <td>1.000000</td>\n",
       "      <td>700.000000</td>\n",
       "      <td>480.000000</td>\n",
       "    </tr>\n",
       "  </tbody>\n",
       "</table>\n",
       "</div>"
      ],
      "text/plain": [
       "       ApplicantIncome  CoapplicantIncome  Credit_History  LoanAmount  \\\n",
       "count       981.000000         981.000000      902.000000  954.000000   \n",
       "mean       5179.795107        1601.916330        0.835920  142.511530   \n",
       "std        5695.104533        2718.772806        0.370553   77.421743   \n",
       "min           0.000000           0.000000        0.000000    9.000000   \n",
       "25%        2875.000000           0.000000        1.000000  100.000000   \n",
       "50%        3800.000000        1110.000000        1.000000  126.000000   \n",
       "75%        5516.000000        2365.000000        1.000000  162.000000   \n",
       "max       81000.000000       41667.000000        1.000000  700.000000   \n",
       "\n",
       "       Loan_Amount_Term  \n",
       "count        961.000000  \n",
       "mean         342.201873  \n",
       "std           65.100602  \n",
       "min            6.000000  \n",
       "25%          360.000000  \n",
       "50%          360.000000  \n",
       "75%          360.000000  \n",
       "max          480.000000  "
      ]
     },
     "execution_count": 12,
     "metadata": {},
     "output_type": "execute_result"
    }
   ],
   "source": [
    "df.describe()"
   ]
  },
  {
   "cell_type": "code",
   "execution_count": 13,
   "metadata": {},
   "outputs": [
    {
     "name": "stdout",
     "output_type": "stream",
     "text": [
      "<class 'pandas.core.frame.DataFrame'>\n",
      "RangeIndex: 981 entries, 0 to 980\n",
      "Data columns (total 15 columns):\n",
      "ApplicantIncome                                     981 non-null int64\n",
      "CoapplicantIncome                                   981 non-null float64\n",
      "Credit_History                                      902 non-null float64\n",
      "Dependents                                          956 non-null object\n",
      "Education                                           981 non-null object\n",
      "G:\\Loan prediction dataset - Capstone 3\test.csv     367 non-null object\n",
      "G:\\Loan prediction dataset - Capstone 3\train.csv    614 non-null object\n",
      "Gender                                              957 non-null object\n",
      "LoanAmount                                          954 non-null float64\n",
      "Loan_Amount_Term                                    961 non-null float64\n",
      "Loan_ID                                             981 non-null object\n",
      "Loan_Status                                         614 non-null object\n",
      "Married                                             978 non-null object\n",
      "Property_Area                                       981 non-null object\n",
      "Self_Employed                                       926 non-null object\n",
      "dtypes: float64(4), int64(1), object(10)\n",
      "memory usage: 115.1+ KB\n"
     ]
    }
   ],
   "source": [
    "df.info()"
   ]
  },
  {
   "cell_type": "code",
   "execution_count": 14,
   "metadata": {},
   "outputs": [
    {
     "data": {
      "text/plain": [
       "ApplicantIncome                                      752\n",
       "CoapplicantIncome                                    437\n",
       "Credit_History                                         3\n",
       "Dependents                                             5\n",
       "Education                                              2\n",
       "G:\\Loan prediction dataset - Capstone 3\\test.csv       2\n",
       "G:\\Loan prediction dataset - Capstone 3\\train.csv      2\n",
       "Gender                                                 3\n",
       "LoanAmount                                           233\n",
       "Loan_Amount_Term                                      13\n",
       "Loan_ID                                              981\n",
       "Loan_Status                                            3\n",
       "Married                                                3\n",
       "Property_Area                                          3\n",
       "Self_Employed                                          3\n",
       "dtype: int64"
      ]
     },
     "execution_count": 14,
     "metadata": {},
     "output_type": "execute_result"
    }
   ],
   "source": [
    "df.apply(lambda x : len(x.unique()))"
   ]
  },
  {
   "cell_type": "code",
   "execution_count": 15,
   "metadata": {},
   "outputs": [],
   "source": [
    "categorical_Columns = [x for x in df.dtypes.index if df.dtypes[x]=='object']\n",
    "categorical_Columns = [x for x in df.dtypes.index if x not in ['G:\\Loan prediction dataset - Capstone 3\\test.csv','G:\\Loan prediction dataset - Capstone 3\\train.csv','Loan_ID']]"
   ]
  },
  {
   "cell_type": "code",
   "execution_count": 16,
   "metadata": {},
   "outputs": [
    {
     "data": {
      "text/plain": [
       "['ApplicantIncome',\n",
       " 'CoapplicantIncome',\n",
       " 'Credit_History',\n",
       " 'Dependents',\n",
       " 'Education',\n",
       " 'Gender',\n",
       " 'LoanAmount',\n",
       " 'Loan_Amount_Term',\n",
       " 'Loan_Status',\n",
       " 'Married',\n",
       " 'Property_Area',\n",
       " 'Self_Employed']"
      ]
     },
     "execution_count": 16,
     "metadata": {},
     "output_type": "execute_result"
    }
   ],
   "source": [
    "categorical_Columns"
   ]
  },
  {
   "cell_type": "code",
   "execution_count": 17,
   "metadata": {},
   "outputs": [
    {
     "name": "stdout",
     "output_type": "stream",
     "text": [
      "2500     13\n",
      "5000     11\n",
      "3333     10\n",
      "3500      9\n",
      "2600      8\n",
      "         ..\n",
      "14999     1\n",
      "4758      1\n",
      "4755      1\n",
      "4364      1\n",
      "3691      1\n",
      "Name: ApplicantIncome, Length: 752, dtype: int64\n",
      "0.0       429\n",
      "2500.0      6\n",
      "2083.0      5\n",
      "2000.0      5\n",
      "2333.0      5\n",
      "         ... \n",
      "1131.0      1\n",
      "4700.0      1\n",
      "2374.0      1\n",
      "5302.0      1\n",
      "3422.0      1\n",
      "Name: CoapplicantIncome, Length: 437, dtype: int64\n",
      "1.0    754\n",
      "0.0    148\n",
      "Name: Credit_History, dtype: int64\n",
      "0     545\n",
      "1     160\n",
      "2     160\n",
      "3+     91\n",
      "Name: Dependents, dtype: int64\n",
      "Graduate        763\n",
      "Not Graduate    218\n",
      "Name: Education, dtype: int64\n",
      "Male      775\n",
      "Female    182\n",
      "Name: Gender, dtype: int64\n",
      "120.0    29\n",
      "110.0    27\n",
      "100.0    24\n",
      "187.0    21\n",
      "150.0    19\n",
      "         ..\n",
      "196.0     1\n",
      "400.0     1\n",
      "250.0     1\n",
      "500.0     1\n",
      "156.0     1\n",
      "Name: LoanAmount, Length: 232, dtype: int64\n",
      "360.0    823\n",
      "180.0     66\n",
      "480.0     23\n",
      "300.0     20\n",
      "240.0      8\n",
      "84.0       7\n",
      "120.0      4\n",
      "36.0       3\n",
      "60.0       3\n",
      "12.0       2\n",
      "350.0      1\n",
      "6.0        1\n",
      "Name: Loan_Amount_Term, dtype: int64\n",
      "Y    422\n",
      "N    192\n",
      "Name: Loan_Status, dtype: int64\n",
      "Yes    631\n",
      "No     347\n",
      "Name: Married, dtype: int64\n",
      "Semiurban    349\n",
      "Urban        342\n",
      "Rural        290\n",
      "Name: Property_Area, dtype: int64\n",
      "No     807\n",
      "Yes    119\n",
      "Name: Self_Employed, dtype: int64\n"
     ]
    }
   ],
   "source": [
    "for col in categorical_Columns:\n",
    "    print(df[col].value_counts())"
   ]
  },
  {
   "cell_type": "code",
   "execution_count": 18,
   "metadata": {},
   "outputs": [
    {
     "data": {
      "text/plain": [
       "ApplicantIncome                                        0\n",
       "CoapplicantIncome                                      0\n",
       "Credit_History                                        79\n",
       "Dependents                                            25\n",
       "Education                                              0\n",
       "G:\\Loan prediction dataset - Capstone 3\\test.csv     614\n",
       "G:\\Loan prediction dataset - Capstone 3\\train.csv    367\n",
       "Gender                                                24\n",
       "LoanAmount                                            27\n",
       "Loan_Amount_Term                                      20\n",
       "Loan_ID                                                0\n",
       "Loan_Status                                          367\n",
       "Married                                                3\n",
       "Property_Area                                          0\n",
       "Self_Employed                                         55\n",
       "dtype: int64"
      ]
     },
     "execution_count": 18,
     "metadata": {},
     "output_type": "execute_result"
    }
   ],
   "source": [
    "df.isna().sum()"
   ]
  },
  {
   "cell_type": "code",
   "execution_count": 19,
   "metadata": {},
   "outputs": [
    {
     "data": {
      "text/html": [
       "<div>\n",
       "<style scoped>\n",
       "    .dataframe tbody tr th:only-of-type {\n",
       "        vertical-align: middle;\n",
       "    }\n",
       "\n",
       "    .dataframe tbody tr th {\n",
       "        vertical-align: top;\n",
       "    }\n",
       "\n",
       "    .dataframe thead th {\n",
       "        text-align: right;\n",
       "    }\n",
       "</style>\n",
       "<table border=\"1\" class=\"dataframe\">\n",
       "  <thead>\n",
       "    <tr style=\"text-align: right;\">\n",
       "      <th></th>\n",
       "      <th>ApplicantIncome</th>\n",
       "      <th>CoapplicantIncome</th>\n",
       "      <th>Credit_History</th>\n",
       "      <th>Dependents</th>\n",
       "      <th>Education</th>\n",
       "      <th>G:\\Loan prediction dataset - Capstone 3\\test.csv</th>\n",
       "      <th>G:\\Loan prediction dataset - Capstone 3\\train.csv</th>\n",
       "      <th>Gender</th>\n",
       "      <th>LoanAmount</th>\n",
       "      <th>Loan_Amount_Term</th>\n",
       "      <th>Loan_ID</th>\n",
       "      <th>Loan_Status</th>\n",
       "      <th>Married</th>\n",
       "      <th>Property_Area</th>\n",
       "      <th>Self_Employed</th>\n",
       "    </tr>\n",
       "  </thead>\n",
       "  <tbody>\n",
       "    <tr>\n",
       "      <td>0</td>\n",
       "      <td>5849</td>\n",
       "      <td>0.0</td>\n",
       "      <td>1.0</td>\n",
       "      <td>0</td>\n",
       "      <td>Graduate</td>\n",
       "      <td>NaN</td>\n",
       "      <td>train</td>\n",
       "      <td>Male</td>\n",
       "      <td>NaN</td>\n",
       "      <td>360.0</td>\n",
       "      <td>LP001002</td>\n",
       "      <td>Y</td>\n",
       "      <td>No</td>\n",
       "      <td>Urban</td>\n",
       "      <td>No</td>\n",
       "    </tr>\n",
       "    <tr>\n",
       "      <td>1</td>\n",
       "      <td>4583</td>\n",
       "      <td>1508.0</td>\n",
       "      <td>1.0</td>\n",
       "      <td>1</td>\n",
       "      <td>Graduate</td>\n",
       "      <td>NaN</td>\n",
       "      <td>train</td>\n",
       "      <td>Male</td>\n",
       "      <td>128.0</td>\n",
       "      <td>360.0</td>\n",
       "      <td>LP001003</td>\n",
       "      <td>N</td>\n",
       "      <td>Yes</td>\n",
       "      <td>Rural</td>\n",
       "      <td>No</td>\n",
       "    </tr>\n",
       "    <tr>\n",
       "      <td>2</td>\n",
       "      <td>3000</td>\n",
       "      <td>0.0</td>\n",
       "      <td>1.0</td>\n",
       "      <td>0</td>\n",
       "      <td>Graduate</td>\n",
       "      <td>NaN</td>\n",
       "      <td>train</td>\n",
       "      <td>Male</td>\n",
       "      <td>66.0</td>\n",
       "      <td>360.0</td>\n",
       "      <td>LP001005</td>\n",
       "      <td>Y</td>\n",
       "      <td>Yes</td>\n",
       "      <td>Urban</td>\n",
       "      <td>Yes</td>\n",
       "    </tr>\n",
       "    <tr>\n",
       "      <td>3</td>\n",
       "      <td>2583</td>\n",
       "      <td>2358.0</td>\n",
       "      <td>1.0</td>\n",
       "      <td>0</td>\n",
       "      <td>Not Graduate</td>\n",
       "      <td>NaN</td>\n",
       "      <td>train</td>\n",
       "      <td>Male</td>\n",
       "      <td>120.0</td>\n",
       "      <td>360.0</td>\n",
       "      <td>LP001006</td>\n",
       "      <td>Y</td>\n",
       "      <td>Yes</td>\n",
       "      <td>Urban</td>\n",
       "      <td>No</td>\n",
       "    </tr>\n",
       "    <tr>\n",
       "      <td>4</td>\n",
       "      <td>6000</td>\n",
       "      <td>0.0</td>\n",
       "      <td>1.0</td>\n",
       "      <td>0</td>\n",
       "      <td>Graduate</td>\n",
       "      <td>NaN</td>\n",
       "      <td>train</td>\n",
       "      <td>Male</td>\n",
       "      <td>141.0</td>\n",
       "      <td>360.0</td>\n",
       "      <td>LP001008</td>\n",
       "      <td>Y</td>\n",
       "      <td>No</td>\n",
       "      <td>Urban</td>\n",
       "      <td>No</td>\n",
       "    </tr>\n",
       "    <tr>\n",
       "      <td>...</td>\n",
       "      <td>...</td>\n",
       "      <td>...</td>\n",
       "      <td>...</td>\n",
       "      <td>...</td>\n",
       "      <td>...</td>\n",
       "      <td>...</td>\n",
       "      <td>...</td>\n",
       "      <td>...</td>\n",
       "      <td>...</td>\n",
       "      <td>...</td>\n",
       "      <td>...</td>\n",
       "      <td>...</td>\n",
       "      <td>...</td>\n",
       "      <td>...</td>\n",
       "      <td>...</td>\n",
       "    </tr>\n",
       "    <tr>\n",
       "      <td>976</td>\n",
       "      <td>4009</td>\n",
       "      <td>1777.0</td>\n",
       "      <td>1.0</td>\n",
       "      <td>3+</td>\n",
       "      <td>Not Graduate</td>\n",
       "      <td>test</td>\n",
       "      <td>NaN</td>\n",
       "      <td>Male</td>\n",
       "      <td>113.0</td>\n",
       "      <td>360.0</td>\n",
       "      <td>LP002971</td>\n",
       "      <td>NaN</td>\n",
       "      <td>Yes</td>\n",
       "      <td>Urban</td>\n",
       "      <td>Yes</td>\n",
       "    </tr>\n",
       "    <tr>\n",
       "      <td>977</td>\n",
       "      <td>4158</td>\n",
       "      <td>709.0</td>\n",
       "      <td>1.0</td>\n",
       "      <td>0</td>\n",
       "      <td>Graduate</td>\n",
       "      <td>test</td>\n",
       "      <td>NaN</td>\n",
       "      <td>Male</td>\n",
       "      <td>115.0</td>\n",
       "      <td>360.0</td>\n",
       "      <td>LP002975</td>\n",
       "      <td>NaN</td>\n",
       "      <td>Yes</td>\n",
       "      <td>Urban</td>\n",
       "      <td>No</td>\n",
       "    </tr>\n",
       "    <tr>\n",
       "      <td>978</td>\n",
       "      <td>3250</td>\n",
       "      <td>1993.0</td>\n",
       "      <td>NaN</td>\n",
       "      <td>0</td>\n",
       "      <td>Graduate</td>\n",
       "      <td>test</td>\n",
       "      <td>NaN</td>\n",
       "      <td>Male</td>\n",
       "      <td>126.0</td>\n",
       "      <td>360.0</td>\n",
       "      <td>LP002980</td>\n",
       "      <td>NaN</td>\n",
       "      <td>No</td>\n",
       "      <td>Semiurban</td>\n",
       "      <td>No</td>\n",
       "    </tr>\n",
       "    <tr>\n",
       "      <td>979</td>\n",
       "      <td>5000</td>\n",
       "      <td>2393.0</td>\n",
       "      <td>1.0</td>\n",
       "      <td>0</td>\n",
       "      <td>Graduate</td>\n",
       "      <td>test</td>\n",
       "      <td>NaN</td>\n",
       "      <td>Male</td>\n",
       "      <td>158.0</td>\n",
       "      <td>360.0</td>\n",
       "      <td>LP002986</td>\n",
       "      <td>NaN</td>\n",
       "      <td>Yes</td>\n",
       "      <td>Rural</td>\n",
       "      <td>No</td>\n",
       "    </tr>\n",
       "    <tr>\n",
       "      <td>980</td>\n",
       "      <td>9200</td>\n",
       "      <td>0.0</td>\n",
       "      <td>1.0</td>\n",
       "      <td>0</td>\n",
       "      <td>Graduate</td>\n",
       "      <td>test</td>\n",
       "      <td>NaN</td>\n",
       "      <td>Male</td>\n",
       "      <td>98.0</td>\n",
       "      <td>180.0</td>\n",
       "      <td>LP002989</td>\n",
       "      <td>NaN</td>\n",
       "      <td>No</td>\n",
       "      <td>Rural</td>\n",
       "      <td>Yes</td>\n",
       "    </tr>\n",
       "  </tbody>\n",
       "</table>\n",
       "<p>981 rows × 15 columns</p>\n",
       "</div>"
      ],
      "text/plain": [
       "     ApplicantIncome  CoapplicantIncome  Credit_History Dependents  \\\n",
       "0               5849                0.0             1.0          0   \n",
       "1               4583             1508.0             1.0          1   \n",
       "2               3000                0.0             1.0          0   \n",
       "3               2583             2358.0             1.0          0   \n",
       "4               6000                0.0             1.0          0   \n",
       "..               ...                ...             ...        ...   \n",
       "976             4009             1777.0             1.0         3+   \n",
       "977             4158              709.0             1.0          0   \n",
       "978             3250             1993.0             NaN          0   \n",
       "979             5000             2393.0             1.0          0   \n",
       "980             9200                0.0             1.0          0   \n",
       "\n",
       "        Education G:\\Loan prediction dataset - Capstone 3\\test.csv  \\\n",
       "0        Graduate                                              NaN   \n",
       "1        Graduate                                              NaN   \n",
       "2        Graduate                                              NaN   \n",
       "3    Not Graduate                                              NaN   \n",
       "4        Graduate                                              NaN   \n",
       "..            ...                                              ...   \n",
       "976  Not Graduate                                             test   \n",
       "977      Graduate                                             test   \n",
       "978      Graduate                                             test   \n",
       "979      Graduate                                             test   \n",
       "980      Graduate                                             test   \n",
       "\n",
       "    G:\\Loan prediction dataset - Capstone 3\\train.csv Gender  LoanAmount  \\\n",
       "0                                               train   Male         NaN   \n",
       "1                                               train   Male       128.0   \n",
       "2                                               train   Male        66.0   \n",
       "3                                               train   Male       120.0   \n",
       "4                                               train   Male       141.0   \n",
       "..                                                ...    ...         ...   \n",
       "976                                               NaN   Male       113.0   \n",
       "977                                               NaN   Male       115.0   \n",
       "978                                               NaN   Male       126.0   \n",
       "979                                               NaN   Male       158.0   \n",
       "980                                               NaN   Male        98.0   \n",
       "\n",
       "     Loan_Amount_Term   Loan_ID Loan_Status Married Property_Area  \\\n",
       "0               360.0  LP001002           Y      No         Urban   \n",
       "1               360.0  LP001003           N     Yes         Rural   \n",
       "2               360.0  LP001005           Y     Yes         Urban   \n",
       "3               360.0  LP001006           Y     Yes         Urban   \n",
       "4               360.0  LP001008           Y      No         Urban   \n",
       "..                ...       ...         ...     ...           ...   \n",
       "976             360.0  LP002971         NaN     Yes         Urban   \n",
       "977             360.0  LP002975         NaN     Yes         Urban   \n",
       "978             360.0  LP002980         NaN      No     Semiurban   \n",
       "979             360.0  LP002986         NaN     Yes         Rural   \n",
       "980             180.0  LP002989         NaN      No         Rural   \n",
       "\n",
       "    Self_Employed  \n",
       "0              No  \n",
       "1              No  \n",
       "2             Yes  \n",
       "3              No  \n",
       "4              No  \n",
       "..            ...  \n",
       "976           Yes  \n",
       "977            No  \n",
       "978            No  \n",
       "979            No  \n",
       "980           Yes  \n",
       "\n",
       "[981 rows x 15 columns]"
      ]
     },
     "execution_count": 19,
     "metadata": {},
     "output_type": "execute_result"
    }
   ],
   "source": [
    "df"
   ]
  },
  {
   "cell_type": "code",
   "execution_count": 20,
   "metadata": {},
   "outputs": [],
   "source": [
    "import seaborn as sns"
   ]
  },
  {
   "cell_type": "code",
   "execution_count": 21,
   "metadata": {},
   "outputs": [
    {
     "name": "stderr",
     "output_type": "stream",
     "text": [
      "C:\\Users\\Balamre\\Anaconda3\\lib\\site-packages\\statsmodels\\nonparametric\\kde.py:447: RuntimeWarning: invalid value encountered in greater\n",
      "  X = X[np.logical_and(X > clip[0], X < clip[1])] # won't work for two columns.\n",
      "C:\\Users\\Balamre\\Anaconda3\\lib\\site-packages\\statsmodels\\nonparametric\\kde.py:447: RuntimeWarning: invalid value encountered in less\n",
      "  X = X[np.logical_and(X > clip[0], X < clip[1])] # won't work for two columns.\n"
     ]
    },
    {
     "data": {
      "text/plain": [
       "<seaborn.axisgrid.PairGrid at 0x1ea3f8df608>"
      ]
     },
     "execution_count": 21,
     "metadata": {},
     "output_type": "execute_result"
    },
    {
     "data": {
      "image/png": "[encoded data removed]",
      "text/plain": [
       "<Figure size 968.75x900 with 30 Axes>"
      ]
     },
     "metadata": {
      "needs_background": "light"
     },
     "output_type": "display_data"
    }
   ],
   "source": [
    "sns.pairplot(df,hue = 'Loan_Status', dropna = True)"
   ]
  },
  {
   "cell_type": "code",
   "execution_count": 22,
   "metadata": {},
   "outputs": [
    {
     "data": {
      "text/plain": [
       "<seaborn.axisgrid.FacetGrid at 0x1ea3f8df548>"
      ]
     },
     "execution_count": 22,
     "metadata": {},
     "output_type": "execute_result"
    },
    {
     "data": {
      "image/png": "[encoded data removed]",
      "text/plain": [
       "<Figure size 360x360 with 1 Axes>"
      ]
     },
     "metadata": {
      "needs_background": "light"
     },
     "output_type": "display_data"
    }
   ],
   "source": [
    "sns.relplot(x = 'ApplicantIncome', y ='LoanAmount', data = df)"
   ]
  },
  {
   "cell_type": "code",
   "execution_count": 23,
   "metadata": {},
   "outputs": [
    {
     "data": {
      "text/plain": [
       "<seaborn.axisgrid.FacetGrid at 0x1ea42afb108>"
      ]
     },
     "execution_count": 23,
     "metadata": {},
     "output_type": "execute_result"
    },
    {
     "data": {
      "image/png": "[encoded data removed]",
      "text/plain": [
       "<Figure size 360x360 with 1 Axes>"
      ]
     },
     "metadata": {
      "needs_background": "light"
     },
     "output_type": "display_data"
    }
   ],
   "source": [
    "sns.relplot(x = 'CoapplicantIncome', y ='LoanAmount', data = df)"
   ]
  },
  {
   "cell_type": "code",
   "execution_count": 24,
   "metadata": {},
   "outputs": [
    {
     "data": {
      "text/plain": [
       "<seaborn.axisgrid.FacetGrid at 0x1ea42e69ec8>"
      ]
     },
     "execution_count": 24,
     "metadata": {},
     "output_type": "execute_result"
    },
    {
     "data": {
      "image/png": "[encoded data removed]",
      "text/plain": [
       "<Figure size 360x360 with 1 Axes>"
      ]
     },
     "metadata": {
      "needs_background": "light"
     },
     "output_type": "display_data"
    }
   ],
   "source": [
    "sns.relplot(x = 'ApplicantIncome', y ='Loan_Amount_Term', data = df)"
   ]
  },
  {
   "cell_type": "code",
   "execution_count": 25,
   "metadata": {},
   "outputs": [
    {
     "data": {
      "text/plain": [
       "<seaborn.axisgrid.FacetGrid at 0x1ea42f0d308>"
      ]
     },
     "execution_count": 25,
     "metadata": {},
     "output_type": "execute_result"
    },
    {
     "data": {
      "image/png": "[encoded data removed]",
      "text/plain": [
       "<Figure size 428.75x360 with 1 Axes>"
      ]
     },
     "metadata": {
      "needs_background": "light"
     },
     "output_type": "display_data"
    }
   ],
   "source": [
    "sns.catplot(x = 'Dependents', y = 'Credit_History', data = df, hue = 'Loan_Status')"
   ]
  },
  {
   "cell_type": "code",
   "execution_count": 26,
   "metadata": {},
   "outputs": [
    {
     "data": {
      "text/plain": [
       "<seaborn.axisgrid.FacetGrid at 0x1ea42f328c8>"
      ]
     },
     "execution_count": 26,
     "metadata": {},
     "output_type": "execute_result"
    },
    {
     "data": {
      "image/png": "[encoded data removed]",
      "text/plain": [
       "<Figure size 428.75x360 with 1 Axes>"
      ]
     },
     "metadata": {
      "needs_background": "light"
     },
     "output_type": "display_data"
    }
   ],
   "source": [
    "sns.catplot(x = 'Married', y = 'Credit_History', data = df, hue = 'Loan_Status')"
   ]
  },
  {
   "cell_type": "code",
   "execution_count": 27,
   "metadata": {},
   "outputs": [
    {
     "data": {
      "text/plain": [
       "<seaborn.axisgrid.FacetGrid at 0x1ea43fb83c8>"
      ]
     },
     "execution_count": 27,
     "metadata": {},
     "output_type": "execute_result"
    },
    {
     "data": {
      "image/png": "[encoded data removed]",
      "text/plain": [
       "<Figure size 428.75x360 with 1 Axes>"
      ]
     },
     "metadata": {
      "needs_background": "light"
     },
     "output_type": "display_data"
    }
   ],
   "source": [
    "sns.catplot(x = 'Self_Employed', y = 'Credit_History', data = df, hue = 'Loan_Status')"
   ]
  },
  {
   "cell_type": "code",
   "execution_count": 28,
   "metadata": {},
   "outputs": [
    {
     "data": {
      "text/plain": [
       "<seaborn.axisgrid.FacetGrid at 0x1ea42f86e88>"
      ]
     },
     "execution_count": 28,
     "metadata": {},
     "output_type": "execute_result"
    },
    {
     "data": {
      "image/png": "[encoded data removed]",
      "text/plain": [
       "<Figure size 428.75x360 with 1 Axes>"
      ]
     },
     "metadata": {
      "needs_background": "light"
     },
     "output_type": "display_data"
    }
   ],
   "source": [
    "sns.catplot(x = 'Property_Area', y = 'Credit_History', data = df, hue = 'Loan_Status')"
   ]
  },
  {
   "cell_type": "code",
   "execution_count": 29,
   "metadata": {},
   "outputs": [
    {
     "data": {
      "text/plain": [
       "<seaborn.axisgrid.FacetGrid at 0x1ea4408f348>"
      ]
     },
     "execution_count": 29,
     "metadata": {},
     "output_type": "execute_result"
    },
    {
     "data": {
      "image/png": "[encoded data removed]",
      "text/plain": [
       "<Figure size 428.75x360 with 1 Axes>"
      ]
     },
     "metadata": {
      "needs_background": "light"
     },
     "output_type": "display_data"
    }
   ],
   "source": [
    "sns.catplot(x = 'Gender', y = 'Credit_History', data = df, hue = 'Loan_Status')"
   ]
  },
  {
   "cell_type": "code",
   "execution_count": 30,
   "metadata": {},
   "outputs": [
    {
     "data": {
      "text/plain": [
       "<seaborn.axisgrid.FacetGrid at 0x1ea44162388>"
      ]
     },
     "execution_count": 30,
     "metadata": {},
     "output_type": "execute_result"
    },
    {
     "data": {
      "image/png": "[encoded data removed]",
      "text/plain": [
       "<Figure size 428.75x360 with 1 Axes>"
      ]
     },
     "metadata": {
      "needs_background": "light"
     },
     "output_type": "display_data"
    }
   ],
   "source": [
    "sns.catplot(x = 'Education', y = 'Credit_History', data = df, hue = 'Loan_Status')"
   ]
  },
  {
   "cell_type": "code",
   "execution_count": 31,
   "metadata": {},
   "outputs": [
    {
     "data": {
      "text/plain": [
       "<seaborn.axisgrid.FacetGrid at 0x1ea440bc488>"
      ]
     },
     "execution_count": 31,
     "metadata": {},
     "output_type": "execute_result"
    },
    {
     "data": {
      "image/png": "[encoded data removed]",
      "text/plain": [
       "<Figure size 360x360 with 1 Axes>"
      ]
     },
     "metadata": {
      "needs_background": "light"
     },
     "output_type": "display_data"
    }
   ],
   "source": [
    "sns.catplot(x = 'Credit_History', y = 'Loan_Status', data = df)"
   ]
  },
  {
   "cell_type": "code",
   "execution_count": 32,
   "metadata": {},
   "outputs": [],
   "source": [
    "# Credit_HIstory is an important feature in predicting loan_StautusTherefore imputing it with 0 or 1 may affect the aggregation of the other values present. \n",
    "#Therefore we create a new value for Nan's and can analyse how other features work on it.\n",
    "df['Credit_History'].fillna(2,inplace = True)"
   ]
  },
  {
   "cell_type": "code",
   "execution_count": 33,
   "metadata": {},
   "outputs": [],
   "source": [
    "#categorical and it is about 2.5% of the data. so used mode for imputing. \n",
    "df['Dependents'].fillna(df['Dependents'].mode()[0], inplace = True)"
   ]
  },
  {
   "cell_type": "code",
   "execution_count": 34,
   "metadata": {},
   "outputs": [
    {
     "data": {
      "text/plain": [
       "0    0\n",
       "dtype: object"
      ]
     },
     "execution_count": 34,
     "metadata": {},
     "output_type": "execute_result"
    }
   ],
   "source": [
    "df['Dependents'].mode()"
   ]
  },
  {
   "cell_type": "code",
   "execution_count": 35,
   "metadata": {},
   "outputs": [],
   "source": [
    "# Gender - 24 missing so applyting mode - moreover the data is in iteself skewd\n",
    "df['Gender'].fillna(df['Gender'].mode()[0],inplace = True)"
   ]
  },
  {
   "cell_type": "code",
   "execution_count": 36,
   "metadata": {},
   "outputs": [
    {
     "data": {
      "text/plain": [
       "0    Male\n",
       "dtype: object"
      ]
     },
     "execution_count": 36,
     "metadata": {},
     "output_type": "execute_result"
    }
   ],
   "source": [
    "df['Gender'].mode()"
   ]
  },
  {
   "cell_type": "code",
   "execution_count": 37,
   "metadata": {},
   "outputs": [],
   "source": [
    "#Loanamount\n",
    "LoanAmount_mean = df.pivot_table(values = 'LoanAmount', index = 'Credit_History')"
   ]
  },
  {
   "cell_type": "code",
   "execution_count": 38,
   "metadata": {},
   "outputs": [],
   "source": [
    "miss_Bool = df['LoanAmount'].isnull()"
   ]
  },
  {
   "cell_type": "code",
   "execution_count": 39,
   "metadata": {},
   "outputs": [],
   "source": [
    "df.loc[miss_Bool,'LoanAmount'] = df.loc[miss_Bool,'Credit_History'].apply(lambda x : LoanAmount_mean.at[x,'LoanAmount'])"
   ]
  },
  {
   "cell_type": "code",
   "execution_count": 40,
   "metadata": {},
   "outputs": [
    {
     "data": {
      "text/plain": [
       "count    981.000000\n",
       "mean     142.501884\n",
       "std       76.348369\n",
       "min        9.000000\n",
       "25%      101.000000\n",
       "50%      128.000000\n",
       "75%      160.000000\n",
       "max      700.000000\n",
       "Name: LoanAmount, dtype: float64"
      ]
     },
     "execution_count": 40,
     "metadata": {},
     "output_type": "execute_result"
    }
   ],
   "source": [
    "df.LoanAmount.describe()"
   ]
  },
  {
   "cell_type": "code",
   "execution_count": 41,
   "metadata": {},
   "outputs": [],
   "source": [
    "#LoanAmount_mean_1 = df.pivot_table(values = 'LoanAmount', index = ['Gender','Dependents'])"
   ]
  },
  {
   "cell_type": "code",
   "execution_count": 42,
   "metadata": {},
   "outputs": [],
   "source": [
    "#LoanAmount=df.set_index(['Gender', 'Dependents']).LoanAmount.fillna(LoanAmount_mean_1.LoanAmount).reset_index()"
   ]
  },
  {
   "cell_type": "code",
   "execution_count": 43,
   "metadata": {},
   "outputs": [],
   "source": [
    "#df.LoanAmount.describe()"
   ]
  },
  {
   "cell_type": "code",
   "execution_count": 44,
   "metadata": {},
   "outputs": [],
   "source": [
    "#Loan_Amount_Term\n",
    "Loan_Term_Avg = df.pivot_table(values = 'Loan_Amount_Term', index = 'Credit_History')"
   ]
  },
  {
   "cell_type": "code",
   "execution_count": 45,
   "metadata": {},
   "outputs": [],
   "source": [
    "miss_Bool = df['Loan_Amount_Term'].isnull()"
   ]
  },
  {
   "cell_type": "code",
   "execution_count": 46,
   "metadata": {},
   "outputs": [],
   "source": [
    "df.loc[miss_Bool,'Loan_Amount_Term'] = df.loc[miss_Bool,'Credit_History'].apply(lambda x : Loan_Term_Avg.at[x,'Loan_Amount_Term'])"
   ]
  },
  {
   "cell_type": "code",
   "execution_count": 47,
   "metadata": {},
   "outputs": [
    {
     "data": {
      "text/plain": [
       "count    981.000000\n",
       "mean     342.215695\n",
       "std       64.433426\n",
       "min        6.000000\n",
       "25%      360.000000\n",
       "50%      360.000000\n",
       "75%      360.000000\n",
       "max      480.000000\n",
       "Name: Loan_Amount_Term, dtype: float64"
      ]
     },
     "execution_count": 47,
     "metadata": {},
     "output_type": "execute_result"
    }
   ],
   "source": [
    "df.Loan_Amount_Term.describe()"
   ]
  },
  {
   "cell_type": "code",
   "execution_count": 48,
   "metadata": {},
   "outputs": [],
   "source": [
    "#Married\n",
    "df.Married.fillna(df['Married'].mode()[0], inplace = True)"
   ]
  },
  {
   "cell_type": "code",
   "execution_count": 49,
   "metadata": {},
   "outputs": [
    {
     "data": {
      "text/plain": [
       "0    Yes\n",
       "dtype: object"
      ]
     },
     "execution_count": 49,
     "metadata": {},
     "output_type": "execute_result"
    }
   ],
   "source": [
    "df['Married'].mode()"
   ]
  },
  {
   "cell_type": "code",
   "execution_count": 50,
   "metadata": {},
   "outputs": [
    {
     "data": {
      "text/plain": [
       "<seaborn.axisgrid.FacetGrid at 0x1ea43ff2948>"
      ]
     },
     "execution_count": 50,
     "metadata": {},
     "output_type": "execute_result"
    },
    {
     "data": {
      "image/png": "[encoded data removed]",
      "text/plain": [
       "<Figure size 428.75x360 with 1 Axes>"
      ]
     },
     "metadata": {
      "needs_background": "light"
     },
     "output_type": "display_data"
    }
   ],
   "source": [
    "sns.catplot(x = 'ApplicantIncome', y='Self_Employed', data = df, hue = 'Loan_Status')"
   ]
  },
  {
   "cell_type": "code",
   "execution_count": 51,
   "metadata": {},
   "outputs": [
    {
     "data": {
      "text/plain": [
       "<seaborn.axisgrid.FacetGrid at 0x1ea4420c188>"
      ]
     },
     "execution_count": 51,
     "metadata": {},
     "output_type": "execute_result"
    },
    {
     "data": {
      "image/png": "[encoded data removed]",
      "text/plain": [
       "<Figure size 428.75x360 with 1 Axes>"
      ]
     },
     "metadata": {
      "needs_background": "light"
     },
     "output_type": "display_data"
    }
   ],
   "source": [
    "sns.catplot(x = 'CoapplicantIncome', y='Self_Employed', data = df, hue = 'Loan_Status')"
   ]
  },
  {
   "cell_type": "code",
   "execution_count": 52,
   "metadata": {},
   "outputs": [],
   "source": [
    "#Self_Employed\n",
    "df['Self_Employed'].fillna(df['Self_Employed'].mode()[0], inplace = True)"
   ]
  },
  {
   "cell_type": "code",
   "execution_count": 53,
   "metadata": {},
   "outputs": [
    {
     "data": {
      "text/plain": [
       "0    No\n",
       "dtype: object"
      ]
     },
     "execution_count": 53,
     "metadata": {},
     "output_type": "execute_result"
    }
   ],
   "source": [
    "df['Self_Employed'].mode()"
   ]
  },
  {
   "cell_type": "code",
   "execution_count": 54,
   "metadata": {},
   "outputs": [
    {
     "data": {
      "text/plain": [
       "ApplicantIncome                                        0\n",
       "CoapplicantIncome                                      0\n",
       "Credit_History                                         0\n",
       "Dependents                                             0\n",
       "Education                                              0\n",
       "G:\\Loan prediction dataset - Capstone 3\\test.csv     614\n",
       "G:\\Loan prediction dataset - Capstone 3\\train.csv    367\n",
       "Gender                                                 0\n",
       "LoanAmount                                             0\n",
       "Loan_Amount_Term                                       0\n",
       "Loan_ID                                                0\n",
       "Loan_Status                                          367\n",
       "Married                                                0\n",
       "Property_Area                                          0\n",
       "Self_Employed                                          0\n",
       "dtype: int64"
      ]
     },
     "execution_count": 54,
     "metadata": {},
     "output_type": "execute_result"
    }
   ],
   "source": [
    "df.isna().sum()"
   ]
  },
  {
   "cell_type": "code",
   "execution_count": 56,
   "metadata": {
    "scrolled": true
   },
   "outputs": [
    {
     "data": {
      "text/html": [
       "<div>\n",
       "<style scoped>\n",
       "    .dataframe tbody tr th:only-of-type {\n",
       "        vertical-align: middle;\n",
       "    }\n",
       "\n",
       "    .dataframe tbody tr th {\n",
       "        vertical-align: top;\n",
       "    }\n",
       "\n",
       "    .dataframe thead th {\n",
       "        text-align: right;\n",
       "    }\n",
       "</style>\n",
       "<table border=\"1\" class=\"dataframe\">\n",
       "  <thead>\n",
       "    <tr style=\"text-align: right;\">\n",
       "      <th></th>\n",
       "      <th>ApplicantIncome</th>\n",
       "      <th>CoapplicantIncome</th>\n",
       "      <th>Credit_History</th>\n",
       "      <th>Dependents</th>\n",
       "      <th>Education</th>\n",
       "      <th>G:\\Loan prediction dataset - Capstone 3\\test.csv</th>\n",
       "      <th>G:\\Loan prediction dataset - Capstone 3\\train.csv</th>\n",
       "      <th>Gender</th>\n",
       "      <th>LoanAmount</th>\n",
       "      <th>Loan_Amount_Term</th>\n",
       "      <th>Loan_ID</th>\n",
       "      <th>Loan_Status</th>\n",
       "      <th>Married</th>\n",
       "      <th>Property_Area</th>\n",
       "      <th>Self_Employed</th>\n",
       "    </tr>\n",
       "  </thead>\n",
       "  <tbody>\n",
       "    <tr>\n",
       "      <td>0</td>\n",
       "      <td>5849</td>\n",
       "      <td>0.0</td>\n",
       "      <td>1.0</td>\n",
       "      <td>0</td>\n",
       "      <td>Graduate</td>\n",
       "      <td>NaN</td>\n",
       "      <td>train</td>\n",
       "      <td>Male</td>\n",
       "      <td>141.51296</td>\n",
       "      <td>360.000000</td>\n",
       "      <td>LP001002</td>\n",
       "      <td>Y</td>\n",
       "      <td>No</td>\n",
       "      <td>Urban</td>\n",
       "      <td>No</td>\n",
       "    </tr>\n",
       "    <tr>\n",
       "      <td>1</td>\n",
       "      <td>4583</td>\n",
       "      <td>1508.0</td>\n",
       "      <td>1.0</td>\n",
       "      <td>1</td>\n",
       "      <td>Graduate</td>\n",
       "      <td>NaN</td>\n",
       "      <td>train</td>\n",
       "      <td>Male</td>\n",
       "      <td>128.00000</td>\n",
       "      <td>360.000000</td>\n",
       "      <td>LP001003</td>\n",
       "      <td>N</td>\n",
       "      <td>Yes</td>\n",
       "      <td>Rural</td>\n",
       "      <td>No</td>\n",
       "    </tr>\n",
       "    <tr>\n",
       "      <td>2</td>\n",
       "      <td>3000</td>\n",
       "      <td>0.0</td>\n",
       "      <td>1.0</td>\n",
       "      <td>0</td>\n",
       "      <td>Graduate</td>\n",
       "      <td>NaN</td>\n",
       "      <td>train</td>\n",
       "      <td>Male</td>\n",
       "      <td>66.00000</td>\n",
       "      <td>360.000000</td>\n",
       "      <td>LP001005</td>\n",
       "      <td>Y</td>\n",
       "      <td>Yes</td>\n",
       "      <td>Urban</td>\n",
       "      <td>Yes</td>\n",
       "    </tr>\n",
       "    <tr>\n",
       "      <td>3</td>\n",
       "      <td>2583</td>\n",
       "      <td>2358.0</td>\n",
       "      <td>1.0</td>\n",
       "      <td>0</td>\n",
       "      <td>Not Graduate</td>\n",
       "      <td>NaN</td>\n",
       "      <td>train</td>\n",
       "      <td>Male</td>\n",
       "      <td>120.00000</td>\n",
       "      <td>360.000000</td>\n",
       "      <td>LP001006</td>\n",
       "      <td>Y</td>\n",
       "      <td>Yes</td>\n",
       "      <td>Urban</td>\n",
       "      <td>No</td>\n",
       "    </tr>\n",
       "    <tr>\n",
       "      <td>4</td>\n",
       "      <td>6000</td>\n",
       "      <td>0.0</td>\n",
       "      <td>1.0</td>\n",
       "      <td>0</td>\n",
       "      <td>Graduate</td>\n",
       "      <td>NaN</td>\n",
       "      <td>train</td>\n",
       "      <td>Male</td>\n",
       "      <td>141.00000</td>\n",
       "      <td>360.000000</td>\n",
       "      <td>LP001008</td>\n",
       "      <td>Y</td>\n",
       "      <td>No</td>\n",
       "      <td>Urban</td>\n",
       "      <td>No</td>\n",
       "    </tr>\n",
       "    <tr>\n",
       "      <td>5</td>\n",
       "      <td>5417</td>\n",
       "      <td>4196.0</td>\n",
       "      <td>1.0</td>\n",
       "      <td>2</td>\n",
       "      <td>Graduate</td>\n",
       "      <td>NaN</td>\n",
       "      <td>train</td>\n",
       "      <td>Male</td>\n",
       "      <td>267.00000</td>\n",
       "      <td>360.000000</td>\n",
       "      <td>LP001011</td>\n",
       "      <td>Y</td>\n",
       "      <td>Yes</td>\n",
       "      <td>Urban</td>\n",
       "      <td>Yes</td>\n",
       "    </tr>\n",
       "    <tr>\n",
       "      <td>6</td>\n",
       "      <td>2333</td>\n",
       "      <td>1516.0</td>\n",
       "      <td>1.0</td>\n",
       "      <td>0</td>\n",
       "      <td>Not Graduate</td>\n",
       "      <td>NaN</td>\n",
       "      <td>train</td>\n",
       "      <td>Male</td>\n",
       "      <td>95.00000</td>\n",
       "      <td>360.000000</td>\n",
       "      <td>LP001013</td>\n",
       "      <td>Y</td>\n",
       "      <td>Yes</td>\n",
       "      <td>Urban</td>\n",
       "      <td>No</td>\n",
       "    </tr>\n",
       "    <tr>\n",
       "      <td>7</td>\n",
       "      <td>3036</td>\n",
       "      <td>2504.0</td>\n",
       "      <td>0.0</td>\n",
       "      <td>3+</td>\n",
       "      <td>Graduate</td>\n",
       "      <td>NaN</td>\n",
       "      <td>train</td>\n",
       "      <td>Male</td>\n",
       "      <td>158.00000</td>\n",
       "      <td>360.000000</td>\n",
       "      <td>LP001014</td>\n",
       "      <td>N</td>\n",
       "      <td>Yes</td>\n",
       "      <td>Semiurban</td>\n",
       "      <td>No</td>\n",
       "    </tr>\n",
       "    <tr>\n",
       "      <td>8</td>\n",
       "      <td>4006</td>\n",
       "      <td>1526.0</td>\n",
       "      <td>1.0</td>\n",
       "      <td>2</td>\n",
       "      <td>Graduate</td>\n",
       "      <td>NaN</td>\n",
       "      <td>train</td>\n",
       "      <td>Male</td>\n",
       "      <td>168.00000</td>\n",
       "      <td>360.000000</td>\n",
       "      <td>LP001018</td>\n",
       "      <td>Y</td>\n",
       "      <td>Yes</td>\n",
       "      <td>Urban</td>\n",
       "      <td>No</td>\n",
       "    </tr>\n",
       "    <tr>\n",
       "      <td>9</td>\n",
       "      <td>12841</td>\n",
       "      <td>10968.0</td>\n",
       "      <td>1.0</td>\n",
       "      <td>1</td>\n",
       "      <td>Graduate</td>\n",
       "      <td>NaN</td>\n",
       "      <td>train</td>\n",
       "      <td>Male</td>\n",
       "      <td>349.00000</td>\n",
       "      <td>360.000000</td>\n",
       "      <td>LP001020</td>\n",
       "      <td>N</td>\n",
       "      <td>Yes</td>\n",
       "      <td>Semiurban</td>\n",
       "      <td>No</td>\n",
       "    </tr>\n",
       "    <tr>\n",
       "      <td>10</td>\n",
       "      <td>3200</td>\n",
       "      <td>700.0</td>\n",
       "      <td>1.0</td>\n",
       "      <td>2</td>\n",
       "      <td>Graduate</td>\n",
       "      <td>NaN</td>\n",
       "      <td>train</td>\n",
       "      <td>Male</td>\n",
       "      <td>70.00000</td>\n",
       "      <td>360.000000</td>\n",
       "      <td>LP001024</td>\n",
       "      <td>Y</td>\n",
       "      <td>Yes</td>\n",
       "      <td>Urban</td>\n",
       "      <td>No</td>\n",
       "    </tr>\n",
       "    <tr>\n",
       "      <td>11</td>\n",
       "      <td>2500</td>\n",
       "      <td>1840.0</td>\n",
       "      <td>1.0</td>\n",
       "      <td>2</td>\n",
       "      <td>Graduate</td>\n",
       "      <td>NaN</td>\n",
       "      <td>train</td>\n",
       "      <td>Male</td>\n",
       "      <td>109.00000</td>\n",
       "      <td>360.000000</td>\n",
       "      <td>LP001027</td>\n",
       "      <td>Y</td>\n",
       "      <td>Yes</td>\n",
       "      <td>Urban</td>\n",
       "      <td>No</td>\n",
       "    </tr>\n",
       "    <tr>\n",
       "      <td>12</td>\n",
       "      <td>3073</td>\n",
       "      <td>8106.0</td>\n",
       "      <td>1.0</td>\n",
       "      <td>2</td>\n",
       "      <td>Graduate</td>\n",
       "      <td>NaN</td>\n",
       "      <td>train</td>\n",
       "      <td>Male</td>\n",
       "      <td>200.00000</td>\n",
       "      <td>360.000000</td>\n",
       "      <td>LP001028</td>\n",
       "      <td>Y</td>\n",
       "      <td>Yes</td>\n",
       "      <td>Urban</td>\n",
       "      <td>No</td>\n",
       "    </tr>\n",
       "    <tr>\n",
       "      <td>13</td>\n",
       "      <td>1853</td>\n",
       "      <td>2840.0</td>\n",
       "      <td>1.0</td>\n",
       "      <td>0</td>\n",
       "      <td>Graduate</td>\n",
       "      <td>NaN</td>\n",
       "      <td>train</td>\n",
       "      <td>Male</td>\n",
       "      <td>114.00000</td>\n",
       "      <td>360.000000</td>\n",
       "      <td>LP001029</td>\n",
       "      <td>N</td>\n",
       "      <td>No</td>\n",
       "      <td>Rural</td>\n",
       "      <td>No</td>\n",
       "    </tr>\n",
       "    <tr>\n",
       "      <td>14</td>\n",
       "      <td>1299</td>\n",
       "      <td>1086.0</td>\n",
       "      <td>1.0</td>\n",
       "      <td>2</td>\n",
       "      <td>Graduate</td>\n",
       "      <td>NaN</td>\n",
       "      <td>train</td>\n",
       "      <td>Male</td>\n",
       "      <td>17.00000</td>\n",
       "      <td>120.000000</td>\n",
       "      <td>LP001030</td>\n",
       "      <td>Y</td>\n",
       "      <td>Yes</td>\n",
       "      <td>Urban</td>\n",
       "      <td>No</td>\n",
       "    </tr>\n",
       "    <tr>\n",
       "      <td>15</td>\n",
       "      <td>4950</td>\n",
       "      <td>0.0</td>\n",
       "      <td>1.0</td>\n",
       "      <td>0</td>\n",
       "      <td>Graduate</td>\n",
       "      <td>NaN</td>\n",
       "      <td>train</td>\n",
       "      <td>Male</td>\n",
       "      <td>125.00000</td>\n",
       "      <td>360.000000</td>\n",
       "      <td>LP001032</td>\n",
       "      <td>Y</td>\n",
       "      <td>No</td>\n",
       "      <td>Urban</td>\n",
       "      <td>No</td>\n",
       "    </tr>\n",
       "    <tr>\n",
       "      <td>16</td>\n",
       "      <td>3596</td>\n",
       "      <td>0.0</td>\n",
       "      <td>2.0</td>\n",
       "      <td>1</td>\n",
       "      <td>Not Graduate</td>\n",
       "      <td>NaN</td>\n",
       "      <td>train</td>\n",
       "      <td>Male</td>\n",
       "      <td>100.00000</td>\n",
       "      <td>240.000000</td>\n",
       "      <td>LP001034</td>\n",
       "      <td>Y</td>\n",
       "      <td>No</td>\n",
       "      <td>Urban</td>\n",
       "      <td>No</td>\n",
       "    </tr>\n",
       "    <tr>\n",
       "      <td>17</td>\n",
       "      <td>3510</td>\n",
       "      <td>0.0</td>\n",
       "      <td>0.0</td>\n",
       "      <td>0</td>\n",
       "      <td>Graduate</td>\n",
       "      <td>NaN</td>\n",
       "      <td>train</td>\n",
       "      <td>Female</td>\n",
       "      <td>76.00000</td>\n",
       "      <td>360.000000</td>\n",
       "      <td>LP001036</td>\n",
       "      <td>N</td>\n",
       "      <td>No</td>\n",
       "      <td>Urban</td>\n",
       "      <td>No</td>\n",
       "    </tr>\n",
       "    <tr>\n",
       "      <td>18</td>\n",
       "      <td>4887</td>\n",
       "      <td>0.0</td>\n",
       "      <td>1.0</td>\n",
       "      <td>0</td>\n",
       "      <td>Not Graduate</td>\n",
       "      <td>NaN</td>\n",
       "      <td>train</td>\n",
       "      <td>Male</td>\n",
       "      <td>133.00000</td>\n",
       "      <td>360.000000</td>\n",
       "      <td>LP001038</td>\n",
       "      <td>N</td>\n",
       "      <td>Yes</td>\n",
       "      <td>Rural</td>\n",
       "      <td>No</td>\n",
       "    </tr>\n",
       "    <tr>\n",
       "      <td>19</td>\n",
       "      <td>2600</td>\n",
       "      <td>3500.0</td>\n",
       "      <td>1.0</td>\n",
       "      <td>0</td>\n",
       "      <td>Graduate</td>\n",
       "      <td>NaN</td>\n",
       "      <td>train</td>\n",
       "      <td>Male</td>\n",
       "      <td>115.00000</td>\n",
       "      <td>341.501348</td>\n",
       "      <td>LP001041</td>\n",
       "      <td>Y</td>\n",
       "      <td>Yes</td>\n",
       "      <td>Urban</td>\n",
       "      <td>No</td>\n",
       "    </tr>\n",
       "  </tbody>\n",
       "</table>\n",
       "</div>"
      ],
      "text/plain": [
       "    ApplicantIncome  CoapplicantIncome  Credit_History Dependents  \\\n",
       "0              5849                0.0             1.0          0   \n",
       "1              4583             1508.0             1.0          1   \n",
       "2              3000                0.0             1.0          0   \n",
       "3              2583             2358.0             1.0          0   \n",
       "4              6000                0.0             1.0          0   \n",
       "5              5417             4196.0             1.0          2   \n",
       "6              2333             1516.0             1.0          0   \n",
       "7              3036             2504.0             0.0         3+   \n",
       "8              4006             1526.0             1.0          2   \n",
       "9             12841            10968.0             1.0          1   \n",
       "10             3200              700.0             1.0          2   \n",
       "11             2500             1840.0             1.0          2   \n",
       "12             3073             8106.0             1.0          2   \n",
       "13             1853             2840.0             1.0          0   \n",
       "14             1299             1086.0             1.0          2   \n",
       "15             4950                0.0             1.0          0   \n",
       "16             3596                0.0             2.0          1   \n",
       "17             3510                0.0             0.0          0   \n",
       "18             4887                0.0             1.0          0   \n",
       "19             2600             3500.0             1.0          0   \n",
       "\n",
       "       Education G:\\Loan prediction dataset - Capstone 3\\test.csv  \\\n",
       "0       Graduate                                              NaN   \n",
       "1       Graduate                                              NaN   \n",
       "2       Graduate                                              NaN   \n",
       "3   Not Graduate                                              NaN   \n",
       "4       Graduate                                              NaN   \n",
       "5       Graduate                                              NaN   \n",
       "6   Not Graduate                                              NaN   \n",
       "7       Graduate                                              NaN   \n",
       "8       Graduate                                              NaN   \n",
       "9       Graduate                                              NaN   \n",
       "10      Graduate                                              NaN   \n",
       "11      Graduate                                              NaN   \n",
       "12      Graduate                                              NaN   \n",
       "13      Graduate                                              NaN   \n",
       "14      Graduate                                              NaN   \n",
       "15      Graduate                                              NaN   \n",
       "16  Not Graduate                                              NaN   \n",
       "17      Graduate                                              NaN   \n",
       "18  Not Graduate                                              NaN   \n",
       "19      Graduate                                              NaN   \n",
       "\n",
       "   G:\\Loan prediction dataset - Capstone 3\\train.csv  Gender  LoanAmount  \\\n",
       "0                                              train    Male   141.51296   \n",
       "1                                              train    Male   128.00000   \n",
       "2                                              train    Male    66.00000   \n",
       "3                                              train    Male   120.00000   \n",
       "4                                              train    Male   141.00000   \n",
       "5                                              train    Male   267.00000   \n",
       "6                                              train    Male    95.00000   \n",
       "7                                              train    Male   158.00000   \n",
       "8                                              train    Male   168.00000   \n",
       "9                                              train    Male   349.00000   \n",
       "10                                             train    Male    70.00000   \n",
       "11                                             train    Male   109.00000   \n",
       "12                                             train    Male   200.00000   \n",
       "13                                             train    Male   114.00000   \n",
       "14                                             train    Male    17.00000   \n",
       "15                                             train    Male   125.00000   \n",
       "16                                             train    Male   100.00000   \n",
       "17                                             train  Female    76.00000   \n",
       "18                                             train    Male   133.00000   \n",
       "19                                             train    Male   115.00000   \n",
       "\n",
       "    Loan_Amount_Term   Loan_ID Loan_Status Married Property_Area Self_Employed  \n",
       "0         360.000000  LP001002           Y      No         Urban            No  \n",
       "1         360.000000  LP001003           N     Yes         Rural            No  \n",
       "2         360.000000  LP001005           Y     Yes         Urban           Yes  \n",
       "3         360.000000  LP001006           Y     Yes         Urban            No  \n",
       "4         360.000000  LP001008           Y      No         Urban            No  \n",
       "5         360.000000  LP001011           Y     Yes         Urban           Yes  \n",
       "6         360.000000  LP001013           Y     Yes         Urban            No  \n",
       "7         360.000000  LP001014           N     Yes     Semiurban            No  \n",
       "8         360.000000  LP001018           Y     Yes         Urban            No  \n",
       "9         360.000000  LP001020           N     Yes     Semiurban            No  \n",
       "10        360.000000  LP001024           Y     Yes         Urban            No  \n",
       "11        360.000000  LP001027           Y     Yes         Urban            No  \n",
       "12        360.000000  LP001028           Y     Yes         Urban            No  \n",
       "13        360.000000  LP001029           N      No         Rural            No  \n",
       "14        120.000000  LP001030           Y     Yes         Urban            No  \n",
       "15        360.000000  LP001032           Y      No         Urban            No  \n",
       "16        240.000000  LP001034           Y      No         Urban            No  \n",
       "17        360.000000  LP001036           N      No         Urban            No  \n",
       "18        360.000000  LP001038           N     Yes         Rural            No  \n",
       "19        341.501348  LP001041           Y     Yes         Urban            No  "
      ]
     },
     "execution_count": 56,
     "metadata": {},
     "output_type": "execute_result"
    }
   ],
   "source": [
    "df.head(20)"
   ]
  },
  {
   "cell_type": "code",
   "execution_count": 57,
   "metadata": {},
   "outputs": [],
   "source": [
    "### Feature Engineering"
   ]
  },
  {
   "cell_type": "code",
   "execution_count": 58,
   "metadata": {},
   "outputs": [],
   "source": [
    "# Combiining ApplicantIncome and CoapplicantIncome to new column Income As THey both dont contribute specifically., and 50% of coapplicant income = 0 could combinethem into one"
   ]
  },
  {
   "cell_type": "code",
   "execution_count": 59,
   "metadata": {},
   "outputs": [],
   "source": [
    "df['Income'] = df['ApplicantIncome']+df['CoapplicantIncome']"
   ]
  },
  {
   "cell_type": "code",
   "execution_count": 60,
   "metadata": {},
   "outputs": [
    {
     "data": {
      "text/html": [
       "<div>\n",
       "<style scoped>\n",
       "    .dataframe tbody tr th:only-of-type {\n",
       "        vertical-align: middle;\n",
       "    }\n",
       "\n",
       "    .dataframe tbody tr th {\n",
       "        vertical-align: top;\n",
       "    }\n",
       "\n",
       "    .dataframe thead th {\n",
       "        text-align: right;\n",
       "    }\n",
       "</style>\n",
       "<table border=\"1\" class=\"dataframe\">\n",
       "  <thead>\n",
       "    <tr style=\"text-align: right;\">\n",
       "      <th></th>\n",
       "      <th>ApplicantIncome</th>\n",
       "      <th>CoapplicantIncome</th>\n",
       "      <th>Credit_History</th>\n",
       "      <th>Dependents</th>\n",
       "      <th>Education</th>\n",
       "      <th>G:\\Loan prediction dataset - Capstone 3\\test.csv</th>\n",
       "      <th>G:\\Loan prediction dataset - Capstone 3\\train.csv</th>\n",
       "      <th>Gender</th>\n",
       "      <th>LoanAmount</th>\n",
       "      <th>Loan_Amount_Term</th>\n",
       "      <th>Loan_ID</th>\n",
       "      <th>Loan_Status</th>\n",
       "      <th>Married</th>\n",
       "      <th>Property_Area</th>\n",
       "      <th>Self_Employed</th>\n",
       "      <th>Income</th>\n",
       "    </tr>\n",
       "  </thead>\n",
       "  <tbody>\n",
       "    <tr>\n",
       "      <td>0</td>\n",
       "      <td>5849</td>\n",
       "      <td>0.0</td>\n",
       "      <td>1.0</td>\n",
       "      <td>0</td>\n",
       "      <td>Graduate</td>\n",
       "      <td>NaN</td>\n",
       "      <td>train</td>\n",
       "      <td>Male</td>\n",
       "      <td>141.51296</td>\n",
       "      <td>360.0</td>\n",
       "      <td>LP001002</td>\n",
       "      <td>Y</td>\n",
       "      <td>No</td>\n",
       "      <td>Urban</td>\n",
       "      <td>No</td>\n",
       "      <td>5849.0</td>\n",
       "    </tr>\n",
       "    <tr>\n",
       "      <td>1</td>\n",
       "      <td>4583</td>\n",
       "      <td>1508.0</td>\n",
       "      <td>1.0</td>\n",
       "      <td>1</td>\n",
       "      <td>Graduate</td>\n",
       "      <td>NaN</td>\n",
       "      <td>train</td>\n",
       "      <td>Male</td>\n",
       "      <td>128.00000</td>\n",
       "      <td>360.0</td>\n",
       "      <td>LP001003</td>\n",
       "      <td>N</td>\n",
       "      <td>Yes</td>\n",
       "      <td>Rural</td>\n",
       "      <td>No</td>\n",
       "      <td>6091.0</td>\n",
       "    </tr>\n",
       "    <tr>\n",
       "      <td>2</td>\n",
       "      <td>3000</td>\n",
       "      <td>0.0</td>\n",
       "      <td>1.0</td>\n",
       "      <td>0</td>\n",
       "      <td>Graduate</td>\n",
       "      <td>NaN</td>\n",
       "      <td>train</td>\n",
       "      <td>Male</td>\n",
       "      <td>66.00000</td>\n",
       "      <td>360.0</td>\n",
       "      <td>LP001005</td>\n",
       "      <td>Y</td>\n",
       "      <td>Yes</td>\n",
       "      <td>Urban</td>\n",
       "      <td>Yes</td>\n",
       "      <td>3000.0</td>\n",
       "    </tr>\n",
       "    <tr>\n",
       "      <td>3</td>\n",
       "      <td>2583</td>\n",
       "      <td>2358.0</td>\n",
       "      <td>1.0</td>\n",
       "      <td>0</td>\n",
       "      <td>Not Graduate</td>\n",
       "      <td>NaN</td>\n",
       "      <td>train</td>\n",
       "      <td>Male</td>\n",
       "      <td>120.00000</td>\n",
       "      <td>360.0</td>\n",
       "      <td>LP001006</td>\n",
       "      <td>Y</td>\n",
       "      <td>Yes</td>\n",
       "      <td>Urban</td>\n",
       "      <td>No</td>\n",
       "      <td>4941.0</td>\n",
       "    </tr>\n",
       "    <tr>\n",
       "      <td>4</td>\n",
       "      <td>6000</td>\n",
       "      <td>0.0</td>\n",
       "      <td>1.0</td>\n",
       "      <td>0</td>\n",
       "      <td>Graduate</td>\n",
       "      <td>NaN</td>\n",
       "      <td>train</td>\n",
       "      <td>Male</td>\n",
       "      <td>141.00000</td>\n",
       "      <td>360.0</td>\n",
       "      <td>LP001008</td>\n",
       "      <td>Y</td>\n",
       "      <td>No</td>\n",
       "      <td>Urban</td>\n",
       "      <td>No</td>\n",
       "      <td>6000.0</td>\n",
       "    </tr>\n",
       "  </tbody>\n",
       "</table>\n",
       "</div>"
      ],
      "text/plain": [
       "   ApplicantIncome  CoapplicantIncome  Credit_History Dependents  \\\n",
       "0             5849                0.0             1.0          0   \n",
       "1             4583             1508.0             1.0          1   \n",
       "2             3000                0.0             1.0          0   \n",
       "3             2583             2358.0             1.0          0   \n",
       "4             6000                0.0             1.0          0   \n",
       "\n",
       "      Education G:\\Loan prediction dataset - Capstone 3\\test.csv  \\\n",
       "0      Graduate                                              NaN   \n",
       "1      Graduate                                              NaN   \n",
       "2      Graduate                                              NaN   \n",
       "3  Not Graduate                                              NaN   \n",
       "4      Graduate                                              NaN   \n",
       "\n",
       "  G:\\Loan prediction dataset - Capstone 3\\train.csv Gender  LoanAmount  \\\n",
       "0                                             train   Male   141.51296   \n",
       "1                                             train   Male   128.00000   \n",
       "2                                             train   Male    66.00000   \n",
       "3                                             train   Male   120.00000   \n",
       "4                                             train   Male   141.00000   \n",
       "\n",
       "   Loan_Amount_Term   Loan_ID Loan_Status Married Property_Area Self_Employed  \\\n",
       "0             360.0  LP001002           Y      No         Urban            No   \n",
       "1             360.0  LP001003           N     Yes         Rural            No   \n",
       "2             360.0  LP001005           Y     Yes         Urban           Yes   \n",
       "3             360.0  LP001006           Y     Yes         Urban            No   \n",
       "4             360.0  LP001008           Y      No         Urban            No   \n",
       "\n",
       "   Income  \n",
       "0  5849.0  \n",
       "1  6091.0  \n",
       "2  3000.0  \n",
       "3  4941.0  \n",
       "4  6000.0  "
      ]
     },
     "execution_count": 60,
     "metadata": {},
     "output_type": "execute_result"
    }
   ],
   "source": [
    "df.head(5)"
   ]
  },
  {
   "cell_type": "code",
   "execution_count": 61,
   "metadata": {},
   "outputs": [],
   "source": [
    "df = df.drop(columns = ['ApplicantIncome','CoapplicantIncome'])"
   ]
  },
  {
   "cell_type": "code",
   "execution_count": 62,
   "metadata": {},
   "outputs": [
    {
     "data": {
      "text/html": [
       "<div>\n",
       "<style scoped>\n",
       "    .dataframe tbody tr th:only-of-type {\n",
       "        vertical-align: middle;\n",
       "    }\n",
       "\n",
       "    .dataframe tbody tr th {\n",
       "        vertical-align: top;\n",
       "    }\n",
       "\n",
       "    .dataframe thead th {\n",
       "        text-align: right;\n",
       "    }\n",
       "</style>\n",
       "<table border=\"1\" class=\"dataframe\">\n",
       "  <thead>\n",
       "    <tr style=\"text-align: right;\">\n",
       "      <th></th>\n",
       "      <th>Credit_History</th>\n",
       "      <th>Dependents</th>\n",
       "      <th>Education</th>\n",
       "      <th>G:\\Loan prediction dataset - Capstone 3\\test.csv</th>\n",
       "      <th>G:\\Loan prediction dataset - Capstone 3\\train.csv</th>\n",
       "      <th>Gender</th>\n",
       "      <th>LoanAmount</th>\n",
       "      <th>Loan_Amount_Term</th>\n",
       "      <th>Loan_ID</th>\n",
       "      <th>Loan_Status</th>\n",
       "      <th>Married</th>\n",
       "      <th>Property_Area</th>\n",
       "      <th>Self_Employed</th>\n",
       "      <th>Income</th>\n",
       "    </tr>\n",
       "  </thead>\n",
       "  <tbody>\n",
       "    <tr>\n",
       "      <td>0</td>\n",
       "      <td>1.0</td>\n",
       "      <td>0</td>\n",
       "      <td>Graduate</td>\n",
       "      <td>NaN</td>\n",
       "      <td>train</td>\n",
       "      <td>Male</td>\n",
       "      <td>141.51296</td>\n",
       "      <td>360.0</td>\n",
       "      <td>LP001002</td>\n",
       "      <td>Y</td>\n",
       "      <td>No</td>\n",
       "      <td>Urban</td>\n",
       "      <td>No</td>\n",
       "      <td>5849.0</td>\n",
       "    </tr>\n",
       "    <tr>\n",
       "      <td>1</td>\n",
       "      <td>1.0</td>\n",
       "      <td>1</td>\n",
       "      <td>Graduate</td>\n",
       "      <td>NaN</td>\n",
       "      <td>train</td>\n",
       "      <td>Male</td>\n",
       "      <td>128.00000</td>\n",
       "      <td>360.0</td>\n",
       "      <td>LP001003</td>\n",
       "      <td>N</td>\n",
       "      <td>Yes</td>\n",
       "      <td>Rural</td>\n",
       "      <td>No</td>\n",
       "      <td>6091.0</td>\n",
       "    </tr>\n",
       "    <tr>\n",
       "      <td>2</td>\n",
       "      <td>1.0</td>\n",
       "      <td>0</td>\n",
       "      <td>Graduate</td>\n",
       "      <td>NaN</td>\n",
       "      <td>train</td>\n",
       "      <td>Male</td>\n",
       "      <td>66.00000</td>\n",
       "      <td>360.0</td>\n",
       "      <td>LP001005</td>\n",
       "      <td>Y</td>\n",
       "      <td>Yes</td>\n",
       "      <td>Urban</td>\n",
       "      <td>Yes</td>\n",
       "      <td>3000.0</td>\n",
       "    </tr>\n",
       "    <tr>\n",
       "      <td>3</td>\n",
       "      <td>1.0</td>\n",
       "      <td>0</td>\n",
       "      <td>Not Graduate</td>\n",
       "      <td>NaN</td>\n",
       "      <td>train</td>\n",
       "      <td>Male</td>\n",
       "      <td>120.00000</td>\n",
       "      <td>360.0</td>\n",
       "      <td>LP001006</td>\n",
       "      <td>Y</td>\n",
       "      <td>Yes</td>\n",
       "      <td>Urban</td>\n",
       "      <td>No</td>\n",
       "      <td>4941.0</td>\n",
       "    </tr>\n",
       "    <tr>\n",
       "      <td>4</td>\n",
       "      <td>1.0</td>\n",
       "      <td>0</td>\n",
       "      <td>Graduate</td>\n",
       "      <td>NaN</td>\n",
       "      <td>train</td>\n",
       "      <td>Male</td>\n",
       "      <td>141.00000</td>\n",
       "      <td>360.0</td>\n",
       "      <td>LP001008</td>\n",
       "      <td>Y</td>\n",
       "      <td>No</td>\n",
       "      <td>Urban</td>\n",
       "      <td>No</td>\n",
       "      <td>6000.0</td>\n",
       "    </tr>\n",
       "  </tbody>\n",
       "</table>\n",
       "</div>"
      ],
      "text/plain": [
       "   Credit_History Dependents     Education  \\\n",
       "0             1.0          0      Graduate   \n",
       "1             1.0          1      Graduate   \n",
       "2             1.0          0      Graduate   \n",
       "3             1.0          0  Not Graduate   \n",
       "4             1.0          0      Graduate   \n",
       "\n",
       "  G:\\Loan prediction dataset - Capstone 3\\test.csv  \\\n",
       "0                                              NaN   \n",
       "1                                              NaN   \n",
       "2                                              NaN   \n",
       "3                                              NaN   \n",
       "4                                              NaN   \n",
       "\n",
       "  G:\\Loan prediction dataset - Capstone 3\\train.csv Gender  LoanAmount  \\\n",
       "0                                             train   Male   141.51296   \n",
       "1                                             train   Male   128.00000   \n",
       "2                                             train   Male    66.00000   \n",
       "3                                             train   Male   120.00000   \n",
       "4                                             train   Male   141.00000   \n",
       "\n",
       "   Loan_Amount_Term   Loan_ID Loan_Status Married Property_Area Self_Employed  \\\n",
       "0             360.0  LP001002           Y      No         Urban            No   \n",
       "1             360.0  LP001003           N     Yes         Rural            No   \n",
       "2             360.0  LP001005           Y     Yes         Urban           Yes   \n",
       "3             360.0  LP001006           Y     Yes         Urban            No   \n",
       "4             360.0  LP001008           Y      No         Urban            No   \n",
       "\n",
       "   Income  \n",
       "0  5849.0  \n",
       "1  6091.0  \n",
       "2  3000.0  \n",
       "3  4941.0  \n",
       "4  6000.0  "
      ]
     },
     "execution_count": 62,
     "metadata": {},
     "output_type": "execute_result"
    }
   ],
   "source": [
    "df.head(5)"
   ]
  },
  {
   "cell_type": "code",
   "execution_count": 63,
   "metadata": {},
   "outputs": [],
   "source": [
    "#Categorical values conversion - encoding"
   ]
  },
  {
   "cell_type": "code",
   "execution_count": 64,
   "metadata": {},
   "outputs": [],
   "source": [
    "#Education,Gender,Loan_Status,MArried,Self_Employed are all binary - Property_Area - multinomial\n",
    "from sklearn.preprocessing import LabelEncoder"
   ]
  },
  {
   "cell_type": "code",
   "execution_count": 65,
   "metadata": {},
   "outputs": [],
   "source": [
    "le = LabelEncoder()"
   ]
  },
  {
   "cell_type": "code",
   "execution_count": 66,
   "metadata": {},
   "outputs": [],
   "source": [
    "var = ['Property_Area','Self_Employed','Education','Gender','Married']"
   ]
  },
  {
   "cell_type": "code",
   "execution_count": 67,
   "metadata": {},
   "outputs": [],
   "source": [
    "for i in var:\n",
    "    df[i] = le.fit_transform(df[i])"
   ]
  },
  {
   "cell_type": "code",
   "execution_count": 68,
   "metadata": {},
   "outputs": [
    {
     "data": {
      "text/html": [
       "<div>\n",
       "<style scoped>\n",
       "    .dataframe tbody tr th:only-of-type {\n",
       "        vertical-align: middle;\n",
       "    }\n",
       "\n",
       "    .dataframe tbody tr th {\n",
       "        vertical-align: top;\n",
       "    }\n",
       "\n",
       "    .dataframe thead th {\n",
       "        text-align: right;\n",
       "    }\n",
       "</style>\n",
       "<table border=\"1\" class=\"dataframe\">\n",
       "  <thead>\n",
       "    <tr style=\"text-align: right;\">\n",
       "      <th></th>\n",
       "      <th>Credit_History</th>\n",
       "      <th>Dependents</th>\n",
       "      <th>Education</th>\n",
       "      <th>G:\\Loan prediction dataset - Capstone 3\\test.csv</th>\n",
       "      <th>G:\\Loan prediction dataset - Capstone 3\\train.csv</th>\n",
       "      <th>Gender</th>\n",
       "      <th>LoanAmount</th>\n",
       "      <th>Loan_Amount_Term</th>\n",
       "      <th>Loan_ID</th>\n",
       "      <th>Loan_Status</th>\n",
       "      <th>Married</th>\n",
       "      <th>Property_Area</th>\n",
       "      <th>Self_Employed</th>\n",
       "      <th>Income</th>\n",
       "    </tr>\n",
       "  </thead>\n",
       "  <tbody>\n",
       "    <tr>\n",
       "      <td>0</td>\n",
       "      <td>1.0</td>\n",
       "      <td>0</td>\n",
       "      <td>0</td>\n",
       "      <td>NaN</td>\n",
       "      <td>train</td>\n",
       "      <td>1</td>\n",
       "      <td>141.51296</td>\n",
       "      <td>360.000000</td>\n",
       "      <td>LP001002</td>\n",
       "      <td>Y</td>\n",
       "      <td>0</td>\n",
       "      <td>2</td>\n",
       "      <td>0</td>\n",
       "      <td>5849.0</td>\n",
       "    </tr>\n",
       "    <tr>\n",
       "      <td>1</td>\n",
       "      <td>1.0</td>\n",
       "      <td>1</td>\n",
       "      <td>0</td>\n",
       "      <td>NaN</td>\n",
       "      <td>train</td>\n",
       "      <td>1</td>\n",
       "      <td>128.00000</td>\n",
       "      <td>360.000000</td>\n",
       "      <td>LP001003</td>\n",
       "      <td>N</td>\n",
       "      <td>1</td>\n",
       "      <td>0</td>\n",
       "      <td>0</td>\n",
       "      <td>6091.0</td>\n",
       "    </tr>\n",
       "    <tr>\n",
       "      <td>2</td>\n",
       "      <td>1.0</td>\n",
       "      <td>0</td>\n",
       "      <td>0</td>\n",
       "      <td>NaN</td>\n",
       "      <td>train</td>\n",
       "      <td>1</td>\n",
       "      <td>66.00000</td>\n",
       "      <td>360.000000</td>\n",
       "      <td>LP001005</td>\n",
       "      <td>Y</td>\n",
       "      <td>1</td>\n",
       "      <td>2</td>\n",
       "      <td>1</td>\n",
       "      <td>3000.0</td>\n",
       "    </tr>\n",
       "    <tr>\n",
       "      <td>3</td>\n",
       "      <td>1.0</td>\n",
       "      <td>0</td>\n",
       "      <td>1</td>\n",
       "      <td>NaN</td>\n",
       "      <td>train</td>\n",
       "      <td>1</td>\n",
       "      <td>120.00000</td>\n",
       "      <td>360.000000</td>\n",
       "      <td>LP001006</td>\n",
       "      <td>Y</td>\n",
       "      <td>1</td>\n",
       "      <td>2</td>\n",
       "      <td>0</td>\n",
       "      <td>4941.0</td>\n",
       "    </tr>\n",
       "    <tr>\n",
       "      <td>4</td>\n",
       "      <td>1.0</td>\n",
       "      <td>0</td>\n",
       "      <td>0</td>\n",
       "      <td>NaN</td>\n",
       "      <td>train</td>\n",
       "      <td>1</td>\n",
       "      <td>141.00000</td>\n",
       "      <td>360.000000</td>\n",
       "      <td>LP001008</td>\n",
       "      <td>Y</td>\n",
       "      <td>0</td>\n",
       "      <td>2</td>\n",
       "      <td>0</td>\n",
       "      <td>6000.0</td>\n",
       "    </tr>\n",
       "    <tr>\n",
       "      <td>5</td>\n",
       "      <td>1.0</td>\n",
       "      <td>2</td>\n",
       "      <td>0</td>\n",
       "      <td>NaN</td>\n",
       "      <td>train</td>\n",
       "      <td>1</td>\n",
       "      <td>267.00000</td>\n",
       "      <td>360.000000</td>\n",
       "      <td>LP001011</td>\n",
       "      <td>Y</td>\n",
       "      <td>1</td>\n",
       "      <td>2</td>\n",
       "      <td>1</td>\n",
       "      <td>9613.0</td>\n",
       "    </tr>\n",
       "    <tr>\n",
       "      <td>6</td>\n",
       "      <td>1.0</td>\n",
       "      <td>0</td>\n",
       "      <td>1</td>\n",
       "      <td>NaN</td>\n",
       "      <td>train</td>\n",
       "      <td>1</td>\n",
       "      <td>95.00000</td>\n",
       "      <td>360.000000</td>\n",
       "      <td>LP001013</td>\n",
       "      <td>Y</td>\n",
       "      <td>1</td>\n",
       "      <td>2</td>\n",
       "      <td>0</td>\n",
       "      <td>3849.0</td>\n",
       "    </tr>\n",
       "    <tr>\n",
       "      <td>7</td>\n",
       "      <td>0.0</td>\n",
       "      <td>3+</td>\n",
       "      <td>0</td>\n",
       "      <td>NaN</td>\n",
       "      <td>train</td>\n",
       "      <td>1</td>\n",
       "      <td>158.00000</td>\n",
       "      <td>360.000000</td>\n",
       "      <td>LP001014</td>\n",
       "      <td>N</td>\n",
       "      <td>1</td>\n",
       "      <td>1</td>\n",
       "      <td>0</td>\n",
       "      <td>5540.0</td>\n",
       "    </tr>\n",
       "    <tr>\n",
       "      <td>8</td>\n",
       "      <td>1.0</td>\n",
       "      <td>2</td>\n",
       "      <td>0</td>\n",
       "      <td>NaN</td>\n",
       "      <td>train</td>\n",
       "      <td>1</td>\n",
       "      <td>168.00000</td>\n",
       "      <td>360.000000</td>\n",
       "      <td>LP001018</td>\n",
       "      <td>Y</td>\n",
       "      <td>1</td>\n",
       "      <td>2</td>\n",
       "      <td>0</td>\n",
       "      <td>5532.0</td>\n",
       "    </tr>\n",
       "    <tr>\n",
       "      <td>9</td>\n",
       "      <td>1.0</td>\n",
       "      <td>1</td>\n",
       "      <td>0</td>\n",
       "      <td>NaN</td>\n",
       "      <td>train</td>\n",
       "      <td>1</td>\n",
       "      <td>349.00000</td>\n",
       "      <td>360.000000</td>\n",
       "      <td>LP001020</td>\n",
       "      <td>N</td>\n",
       "      <td>1</td>\n",
       "      <td>1</td>\n",
       "      <td>0</td>\n",
       "      <td>23809.0</td>\n",
       "    </tr>\n",
       "    <tr>\n",
       "      <td>10</td>\n",
       "      <td>1.0</td>\n",
       "      <td>2</td>\n",
       "      <td>0</td>\n",
       "      <td>NaN</td>\n",
       "      <td>train</td>\n",
       "      <td>1</td>\n",
       "      <td>70.00000</td>\n",
       "      <td>360.000000</td>\n",
       "      <td>LP001024</td>\n",
       "      <td>Y</td>\n",
       "      <td>1</td>\n",
       "      <td>2</td>\n",
       "      <td>0</td>\n",
       "      <td>3900.0</td>\n",
       "    </tr>\n",
       "    <tr>\n",
       "      <td>11</td>\n",
       "      <td>1.0</td>\n",
       "      <td>2</td>\n",
       "      <td>0</td>\n",
       "      <td>NaN</td>\n",
       "      <td>train</td>\n",
       "      <td>1</td>\n",
       "      <td>109.00000</td>\n",
       "      <td>360.000000</td>\n",
       "      <td>LP001027</td>\n",
       "      <td>Y</td>\n",
       "      <td>1</td>\n",
       "      <td>2</td>\n",
       "      <td>0</td>\n",
       "      <td>4340.0</td>\n",
       "    </tr>\n",
       "    <tr>\n",
       "      <td>12</td>\n",
       "      <td>1.0</td>\n",
       "      <td>2</td>\n",
       "      <td>0</td>\n",
       "      <td>NaN</td>\n",
       "      <td>train</td>\n",
       "      <td>1</td>\n",
       "      <td>200.00000</td>\n",
       "      <td>360.000000</td>\n",
       "      <td>LP001028</td>\n",
       "      <td>Y</td>\n",
       "      <td>1</td>\n",
       "      <td>2</td>\n",
       "      <td>0</td>\n",
       "      <td>11179.0</td>\n",
       "    </tr>\n",
       "    <tr>\n",
       "      <td>13</td>\n",
       "      <td>1.0</td>\n",
       "      <td>0</td>\n",
       "      <td>0</td>\n",
       "      <td>NaN</td>\n",
       "      <td>train</td>\n",
       "      <td>1</td>\n",
       "      <td>114.00000</td>\n",
       "      <td>360.000000</td>\n",
       "      <td>LP001029</td>\n",
       "      <td>N</td>\n",
       "      <td>0</td>\n",
       "      <td>0</td>\n",
       "      <td>0</td>\n",
       "      <td>4693.0</td>\n",
       "    </tr>\n",
       "    <tr>\n",
       "      <td>14</td>\n",
       "      <td>1.0</td>\n",
       "      <td>2</td>\n",
       "      <td>0</td>\n",
       "      <td>NaN</td>\n",
       "      <td>train</td>\n",
       "      <td>1</td>\n",
       "      <td>17.00000</td>\n",
       "      <td>120.000000</td>\n",
       "      <td>LP001030</td>\n",
       "      <td>Y</td>\n",
       "      <td>1</td>\n",
       "      <td>2</td>\n",
       "      <td>0</td>\n",
       "      <td>2385.0</td>\n",
       "    </tr>\n",
       "    <tr>\n",
       "      <td>15</td>\n",
       "      <td>1.0</td>\n",
       "      <td>0</td>\n",
       "      <td>0</td>\n",
       "      <td>NaN</td>\n",
       "      <td>train</td>\n",
       "      <td>1</td>\n",
       "      <td>125.00000</td>\n",
       "      <td>360.000000</td>\n",
       "      <td>LP001032</td>\n",
       "      <td>Y</td>\n",
       "      <td>0</td>\n",
       "      <td>2</td>\n",
       "      <td>0</td>\n",
       "      <td>4950.0</td>\n",
       "    </tr>\n",
       "    <tr>\n",
       "      <td>16</td>\n",
       "      <td>2.0</td>\n",
       "      <td>1</td>\n",
       "      <td>1</td>\n",
       "      <td>NaN</td>\n",
       "      <td>train</td>\n",
       "      <td>1</td>\n",
       "      <td>100.00000</td>\n",
       "      <td>240.000000</td>\n",
       "      <td>LP001034</td>\n",
       "      <td>Y</td>\n",
       "      <td>0</td>\n",
       "      <td>2</td>\n",
       "      <td>0</td>\n",
       "      <td>3596.0</td>\n",
       "    </tr>\n",
       "    <tr>\n",
       "      <td>17</td>\n",
       "      <td>0.0</td>\n",
       "      <td>0</td>\n",
       "      <td>0</td>\n",
       "      <td>NaN</td>\n",
       "      <td>train</td>\n",
       "      <td>0</td>\n",
       "      <td>76.00000</td>\n",
       "      <td>360.000000</td>\n",
       "      <td>LP001036</td>\n",
       "      <td>N</td>\n",
       "      <td>0</td>\n",
       "      <td>2</td>\n",
       "      <td>0</td>\n",
       "      <td>3510.0</td>\n",
       "    </tr>\n",
       "    <tr>\n",
       "      <td>18</td>\n",
       "      <td>1.0</td>\n",
       "      <td>0</td>\n",
       "      <td>1</td>\n",
       "      <td>NaN</td>\n",
       "      <td>train</td>\n",
       "      <td>1</td>\n",
       "      <td>133.00000</td>\n",
       "      <td>360.000000</td>\n",
       "      <td>LP001038</td>\n",
       "      <td>N</td>\n",
       "      <td>1</td>\n",
       "      <td>0</td>\n",
       "      <td>0</td>\n",
       "      <td>4887.0</td>\n",
       "    </tr>\n",
       "    <tr>\n",
       "      <td>19</td>\n",
       "      <td>1.0</td>\n",
       "      <td>0</td>\n",
       "      <td>0</td>\n",
       "      <td>NaN</td>\n",
       "      <td>train</td>\n",
       "      <td>1</td>\n",
       "      <td>115.00000</td>\n",
       "      <td>341.501348</td>\n",
       "      <td>LP001041</td>\n",
       "      <td>Y</td>\n",
       "      <td>1</td>\n",
       "      <td>2</td>\n",
       "      <td>0</td>\n",
       "      <td>6100.0</td>\n",
       "    </tr>\n",
       "    <tr>\n",
       "      <td>20</td>\n",
       "      <td>0.0</td>\n",
       "      <td>0</td>\n",
       "      <td>1</td>\n",
       "      <td>NaN</td>\n",
       "      <td>train</td>\n",
       "      <td>1</td>\n",
       "      <td>104.00000</td>\n",
       "      <td>360.000000</td>\n",
       "      <td>LP001043</td>\n",
       "      <td>N</td>\n",
       "      <td>1</td>\n",
       "      <td>2</td>\n",
       "      <td>0</td>\n",
       "      <td>7660.0</td>\n",
       "    </tr>\n",
       "    <tr>\n",
       "      <td>21</td>\n",
       "      <td>1.0</td>\n",
       "      <td>1</td>\n",
       "      <td>0</td>\n",
       "      <td>NaN</td>\n",
       "      <td>train</td>\n",
       "      <td>1</td>\n",
       "      <td>315.00000</td>\n",
       "      <td>360.000000</td>\n",
       "      <td>LP001046</td>\n",
       "      <td>Y</td>\n",
       "      <td>1</td>\n",
       "      <td>2</td>\n",
       "      <td>0</td>\n",
       "      <td>11580.0</td>\n",
       "    </tr>\n",
       "    <tr>\n",
       "      <td>22</td>\n",
       "      <td>0.0</td>\n",
       "      <td>0</td>\n",
       "      <td>1</td>\n",
       "      <td>NaN</td>\n",
       "      <td>train</td>\n",
       "      <td>1</td>\n",
       "      <td>116.00000</td>\n",
       "      <td>360.000000</td>\n",
       "      <td>LP001047</td>\n",
       "      <td>N</td>\n",
       "      <td>1</td>\n",
       "      <td>1</td>\n",
       "      <td>0</td>\n",
       "      <td>4511.0</td>\n",
       "    </tr>\n",
       "    <tr>\n",
       "      <td>23</td>\n",
       "      <td>0.0</td>\n",
       "      <td>2</td>\n",
       "      <td>1</td>\n",
       "      <td>NaN</td>\n",
       "      <td>train</td>\n",
       "      <td>1</td>\n",
       "      <td>112.00000</td>\n",
       "      <td>360.000000</td>\n",
       "      <td>LP001050</td>\n",
       "      <td>N</td>\n",
       "      <td>1</td>\n",
       "      <td>0</td>\n",
       "      <td>0</td>\n",
       "      <td>5282.0</td>\n",
       "    </tr>\n",
       "    <tr>\n",
       "      <td>24</td>\n",
       "      <td>2.0</td>\n",
       "      <td>1</td>\n",
       "      <td>0</td>\n",
       "      <td>NaN</td>\n",
       "      <td>train</td>\n",
       "      <td>1</td>\n",
       "      <td>151.00000</td>\n",
       "      <td>360.000000</td>\n",
       "      <td>LP001052</td>\n",
       "      <td>N</td>\n",
       "      <td>1</td>\n",
       "      <td>1</td>\n",
       "      <td>0</td>\n",
       "      <td>6642.0</td>\n",
       "    </tr>\n",
       "  </tbody>\n",
       "</table>\n",
       "</div>"
      ],
      "text/plain": [
       "    Credit_History Dependents  Education  \\\n",
       "0              1.0          0          0   \n",
       "1              1.0          1          0   \n",
       "2              1.0          0          0   \n",
       "3              1.0          0          1   \n",
       "4              1.0          0          0   \n",
       "5              1.0          2          0   \n",
       "6              1.0          0          1   \n",
       "7              0.0         3+          0   \n",
       "8              1.0          2          0   \n",
       "9              1.0          1          0   \n",
       "10             1.0          2          0   \n",
       "11             1.0          2          0   \n",
       "12             1.0          2          0   \n",
       "13             1.0          0          0   \n",
       "14             1.0          2          0   \n",
       "15             1.0          0          0   \n",
       "16             2.0          1          1   \n",
       "17             0.0          0          0   \n",
       "18             1.0          0          1   \n",
       "19             1.0          0          0   \n",
       "20             0.0          0          1   \n",
       "21             1.0          1          0   \n",
       "22             0.0          0          1   \n",
       "23             0.0          2          1   \n",
       "24             2.0          1          0   \n",
       "\n",
       "   G:\\Loan prediction dataset - Capstone 3\\test.csv  \\\n",
       "0                                               NaN   \n",
       "1                                               NaN   \n",
       "2                                               NaN   \n",
       "3                                               NaN   \n",
       "4                                               NaN   \n",
       "5                                               NaN   \n",
       "6                                               NaN   \n",
       "7                                               NaN   \n",
       "8                                               NaN   \n",
       "9                                               NaN   \n",
       "10                                              NaN   \n",
       "11                                              NaN   \n",
       "12                                              NaN   \n",
       "13                                              NaN   \n",
       "14                                              NaN   \n",
       "15                                              NaN   \n",
       "16                                              NaN   \n",
       "17                                              NaN   \n",
       "18                                              NaN   \n",
       "19                                              NaN   \n",
       "20                                              NaN   \n",
       "21                                              NaN   \n",
       "22                                              NaN   \n",
       "23                                              NaN   \n",
       "24                                              NaN   \n",
       "\n",
       "   G:\\Loan prediction dataset - Capstone 3\\train.csv  Gender  LoanAmount  \\\n",
       "0                                              train       1   141.51296   \n",
       "1                                              train       1   128.00000   \n",
       "2                                              train       1    66.00000   \n",
       "3                                              train       1   120.00000   \n",
       "4                                              train       1   141.00000   \n",
       "5                                              train       1   267.00000   \n",
       "6                                              train       1    95.00000   \n",
       "7                                              train       1   158.00000   \n",
       "8                                              train       1   168.00000   \n",
       "9                                              train       1   349.00000   \n",
       "10                                             train       1    70.00000   \n",
       "11                                             train       1   109.00000   \n",
       "12                                             train       1   200.00000   \n",
       "13                                             train       1   114.00000   \n",
       "14                                             train       1    17.00000   \n",
       "15                                             train       1   125.00000   \n",
       "16                                             train       1   100.00000   \n",
       "17                                             train       0    76.00000   \n",
       "18                                             train       1   133.00000   \n",
       "19                                             train       1   115.00000   \n",
       "20                                             train       1   104.00000   \n",
       "21                                             train       1   315.00000   \n",
       "22                                             train       1   116.00000   \n",
       "23                                             train       1   112.00000   \n",
       "24                                             train       1   151.00000   \n",
       "\n",
       "    Loan_Amount_Term   Loan_ID Loan_Status  Married  Property_Area  \\\n",
       "0         360.000000  LP001002           Y        0              2   \n",
       "1         360.000000  LP001003           N        1              0   \n",
       "2         360.000000  LP001005           Y        1              2   \n",
       "3         360.000000  LP001006           Y        1              2   \n",
       "4         360.000000  LP001008           Y        0              2   \n",
       "5         360.000000  LP001011           Y        1              2   \n",
       "6         360.000000  LP001013           Y        1              2   \n",
       "7         360.000000  LP001014           N        1              1   \n",
       "8         360.000000  LP001018           Y        1              2   \n",
       "9         360.000000  LP001020           N        1              1   \n",
       "10        360.000000  LP001024           Y        1              2   \n",
       "11        360.000000  LP001027           Y        1              2   \n",
       "12        360.000000  LP001028           Y        1              2   \n",
       "13        360.000000  LP001029           N        0              0   \n",
       "14        120.000000  LP001030           Y        1              2   \n",
       "15        360.000000  LP001032           Y        0              2   \n",
       "16        240.000000  LP001034           Y        0              2   \n",
       "17        360.000000  LP001036           N        0              2   \n",
       "18        360.000000  LP001038           N        1              0   \n",
       "19        341.501348  LP001041           Y        1              2   \n",
       "20        360.000000  LP001043           N        1              2   \n",
       "21        360.000000  LP001046           Y        1              2   \n",
       "22        360.000000  LP001047           N        1              1   \n",
       "23        360.000000  LP001050           N        1              0   \n",
       "24        360.000000  LP001052           N        1              1   \n",
       "\n",
       "    Self_Employed   Income  \n",
       "0               0   5849.0  \n",
       "1               0   6091.0  \n",
       "2               1   3000.0  \n",
       "3               0   4941.0  \n",
       "4               0   6000.0  \n",
       "5               1   9613.0  \n",
       "6               0   3849.0  \n",
       "7               0   5540.0  \n",
       "8               0   5532.0  \n",
       "9               0  23809.0  \n",
       "10              0   3900.0  \n",
       "11              0   4340.0  \n",
       "12              0  11179.0  \n",
       "13              0   4693.0  \n",
       "14              0   2385.0  \n",
       "15              0   4950.0  \n",
       "16              0   3596.0  \n",
       "17              0   3510.0  \n",
       "18              0   4887.0  \n",
       "19              0   6100.0  \n",
       "20              0   7660.0  \n",
       "21              0  11580.0  \n",
       "22              0   4511.0  \n",
       "23              0   5282.0  \n",
       "24              0   6642.0  "
      ]
     },
     "execution_count": 68,
     "metadata": {},
     "output_type": "execute_result"
    }
   ],
   "source": [
    "df.head(25)"
   ]
  },
  {
   "cell_type": "code",
   "execution_count": 70,
   "metadata": {},
   "outputs": [],
   "source": [
    "# Dependent although float should change value 3+\n",
    "df['Dependents'].replace(to_replace = \"3+\", value = 3, inplace = True)"
   ]
  },
  {
   "cell_type": "code",
   "execution_count": 71,
   "metadata": {},
   "outputs": [],
   "source": [
    "df.Loan_Status = pd.Series(df.Loan_Status).map({'Y':1,'N':0})"
   ]
  },
  {
   "cell_type": "code",
   "execution_count": 72,
   "metadata": {},
   "outputs": [],
   "source": [
    "df = df.drop(columns = ['Loan_ID'])"
   ]
  },
  {
   "cell_type": "code",
   "execution_count": 73,
   "metadata": {},
   "outputs": [],
   "source": [
    "train = df.loc[df['G:\\Loan prediction dataset - Capstone 3\\train.csv']==\"train\"]\n",
    "test = df.loc[df['G:\\Loan prediction dataset - Capstone 3\\test.csv']==\"test\"]"
   ]
  },
  {
   "cell_type": "code",
   "execution_count": 74,
   "metadata": {},
   "outputs": [
    {
     "name": "stderr",
     "output_type": "stream",
     "text": [
      "C:\\Users\\Balamre\\Anaconda3\\lib\\site-packages\\pandas\\core\\frame.py:4102: SettingWithCopyWarning: \n",
      "A value is trying to be set on a copy of a slice from a DataFrame\n",
      "\n",
      "See the caveats in the documentation: http://pandas.pydata.org/pandas-docs/stable/user_guide/indexing.html#returning-a-view-versus-a-copy\n",
      "  errors=errors,\n"
     ]
    }
   ],
   "source": [
    "test.drop(['Loan_Status','G:\\Loan prediction dataset - Capstone 3\\test.csv'],axis=1,inplace=True)\n",
    "train.drop(['G:\\Loan prediction dataset - Capstone 3\\train.csv'], axis = 1,inplace=True)"
   ]
  },
  {
   "cell_type": "code",
   "execution_count": 75,
   "metadata": {},
   "outputs": [],
   "source": [
    "train.drop(['G:\\Loan prediction dataset - Capstone 3\\test.csv'], axis = 1,inplace=True)"
   ]
  },
  {
   "cell_type": "code",
   "execution_count": 76,
   "metadata": {},
   "outputs": [],
   "source": [
    "target ='Loan_Status'\n",
    "predictors = [x for x in train.columns if x not in target]"
   ]
  },
  {
   "cell_type": "code",
   "execution_count": 77,
   "metadata": {},
   "outputs": [
    {
     "data": {
      "text/html": [
       "<div>\n",
       "<style scoped>\n",
       "    .dataframe tbody tr th:only-of-type {\n",
       "        vertical-align: middle;\n",
       "    }\n",
       "\n",
       "    .dataframe tbody tr th {\n",
       "        vertical-align: top;\n",
       "    }\n",
       "\n",
       "    .dataframe thead th {\n",
       "        text-align: right;\n",
       "    }\n",
       "</style>\n",
       "<table border=\"1\" class=\"dataframe\">\n",
       "  <thead>\n",
       "    <tr style=\"text-align: right;\">\n",
       "      <th></th>\n",
       "      <th>Credit_History</th>\n",
       "      <th>Dependents</th>\n",
       "      <th>Education</th>\n",
       "      <th>Gender</th>\n",
       "      <th>LoanAmount</th>\n",
       "      <th>Loan_Amount_Term</th>\n",
       "      <th>Loan_Status</th>\n",
       "      <th>Married</th>\n",
       "      <th>Property_Area</th>\n",
       "      <th>Self_Employed</th>\n",
       "      <th>Income</th>\n",
       "    </tr>\n",
       "  </thead>\n",
       "  <tbody>\n",
       "    <tr>\n",
       "      <td>0</td>\n",
       "      <td>1.0</td>\n",
       "      <td>0</td>\n",
       "      <td>0</td>\n",
       "      <td>1</td>\n",
       "      <td>141.51296</td>\n",
       "      <td>360.0</td>\n",
       "      <td>1.0</td>\n",
       "      <td>0</td>\n",
       "      <td>2</td>\n",
       "      <td>0</td>\n",
       "      <td>5849.0</td>\n",
       "    </tr>\n",
       "    <tr>\n",
       "      <td>1</td>\n",
       "      <td>1.0</td>\n",
       "      <td>1</td>\n",
       "      <td>0</td>\n",
       "      <td>1</td>\n",
       "      <td>128.00000</td>\n",
       "      <td>360.0</td>\n",
       "      <td>0.0</td>\n",
       "      <td>1</td>\n",
       "      <td>0</td>\n",
       "      <td>0</td>\n",
       "      <td>6091.0</td>\n",
       "    </tr>\n",
       "    <tr>\n",
       "      <td>2</td>\n",
       "      <td>1.0</td>\n",
       "      <td>0</td>\n",
       "      <td>0</td>\n",
       "      <td>1</td>\n",
       "      <td>66.00000</td>\n",
       "      <td>360.0</td>\n",
       "      <td>1.0</td>\n",
       "      <td>1</td>\n",
       "      <td>2</td>\n",
       "      <td>1</td>\n",
       "      <td>3000.0</td>\n",
       "    </tr>\n",
       "    <tr>\n",
       "      <td>3</td>\n",
       "      <td>1.0</td>\n",
       "      <td>0</td>\n",
       "      <td>1</td>\n",
       "      <td>1</td>\n",
       "      <td>120.00000</td>\n",
       "      <td>360.0</td>\n",
       "      <td>1.0</td>\n",
       "      <td>1</td>\n",
       "      <td>2</td>\n",
       "      <td>0</td>\n",
       "      <td>4941.0</td>\n",
       "    </tr>\n",
       "    <tr>\n",
       "      <td>4</td>\n",
       "      <td>1.0</td>\n",
       "      <td>0</td>\n",
       "      <td>0</td>\n",
       "      <td>1</td>\n",
       "      <td>141.00000</td>\n",
       "      <td>360.0</td>\n",
       "      <td>1.0</td>\n",
       "      <td>0</td>\n",
       "      <td>2</td>\n",
       "      <td>0</td>\n",
       "      <td>6000.0</td>\n",
       "    </tr>\n",
       "    <tr>\n",
       "      <td>5</td>\n",
       "      <td>1.0</td>\n",
       "      <td>2</td>\n",
       "      <td>0</td>\n",
       "      <td>1</td>\n",
       "      <td>267.00000</td>\n",
       "      <td>360.0</td>\n",
       "      <td>1.0</td>\n",
       "      <td>1</td>\n",
       "      <td>2</td>\n",
       "      <td>1</td>\n",
       "      <td>9613.0</td>\n",
       "    </tr>\n",
       "    <tr>\n",
       "      <td>6</td>\n",
       "      <td>1.0</td>\n",
       "      <td>0</td>\n",
       "      <td>1</td>\n",
       "      <td>1</td>\n",
       "      <td>95.00000</td>\n",
       "      <td>360.0</td>\n",
       "      <td>1.0</td>\n",
       "      <td>1</td>\n",
       "      <td>2</td>\n",
       "      <td>0</td>\n",
       "      <td>3849.0</td>\n",
       "    </tr>\n",
       "    <tr>\n",
       "      <td>7</td>\n",
       "      <td>0.0</td>\n",
       "      <td>3</td>\n",
       "      <td>0</td>\n",
       "      <td>1</td>\n",
       "      <td>158.00000</td>\n",
       "      <td>360.0</td>\n",
       "      <td>0.0</td>\n",
       "      <td>1</td>\n",
       "      <td>1</td>\n",
       "      <td>0</td>\n",
       "      <td>5540.0</td>\n",
       "    </tr>\n",
       "    <tr>\n",
       "      <td>8</td>\n",
       "      <td>1.0</td>\n",
       "      <td>2</td>\n",
       "      <td>0</td>\n",
       "      <td>1</td>\n",
       "      <td>168.00000</td>\n",
       "      <td>360.0</td>\n",
       "      <td>1.0</td>\n",
       "      <td>1</td>\n",
       "      <td>2</td>\n",
       "      <td>0</td>\n",
       "      <td>5532.0</td>\n",
       "    </tr>\n",
       "    <tr>\n",
       "      <td>9</td>\n",
       "      <td>1.0</td>\n",
       "      <td>1</td>\n",
       "      <td>0</td>\n",
       "      <td>1</td>\n",
       "      <td>349.00000</td>\n",
       "      <td>360.0</td>\n",
       "      <td>0.0</td>\n",
       "      <td>1</td>\n",
       "      <td>1</td>\n",
       "      <td>0</td>\n",
       "      <td>23809.0</td>\n",
       "    </tr>\n",
       "  </tbody>\n",
       "</table>\n",
       "</div>"
      ],
      "text/plain": [
       "   Credit_History Dependents  Education  Gender  LoanAmount  Loan_Amount_Term  \\\n",
       "0             1.0          0          0       1   141.51296             360.0   \n",
       "1             1.0          1          0       1   128.00000             360.0   \n",
       "2             1.0          0          0       1    66.00000             360.0   \n",
       "3             1.0          0          1       1   120.00000             360.0   \n",
       "4             1.0          0          0       1   141.00000             360.0   \n",
       "5             1.0          2          0       1   267.00000             360.0   \n",
       "6             1.0          0          1       1    95.00000             360.0   \n",
       "7             0.0          3          0       1   158.00000             360.0   \n",
       "8             1.0          2          0       1   168.00000             360.0   \n",
       "9             1.0          1          0       1   349.00000             360.0   \n",
       "\n",
       "   Loan_Status  Married  Property_Area  Self_Employed   Income  \n",
       "0          1.0        0              2              0   5849.0  \n",
       "1          0.0        1              0              0   6091.0  \n",
       "2          1.0        1              2              1   3000.0  \n",
       "3          1.0        1              2              0   4941.0  \n",
       "4          1.0        0              2              0   6000.0  \n",
       "5          1.0        1              2              1   9613.0  \n",
       "6          1.0        1              2              0   3849.0  \n",
       "7          0.0        1              1              0   5540.0  \n",
       "8          1.0        1              2              0   5532.0  \n",
       "9          0.0        1              1              0  23809.0  "
      ]
     },
     "execution_count": 77,
     "metadata": {},
     "output_type": "execute_result"
    }
   ],
   "source": [
    "train.head(10)"
   ]
  },
  {
   "cell_type": "code",
   "execution_count": 78,
   "metadata": {},
   "outputs": [],
   "source": [
    "#Modelling"
   ]
  },
  {
   "cell_type": "code",
   "execution_count": 79,
   "metadata": {},
   "outputs": [],
   "source": [
    "from sklearn.model_selection import cross_val_score\n",
    "from sklearn import linear_model,metrics"
   ]
  },
  {
   "cell_type": "code",
   "execution_count": 80,
   "metadata": {},
   "outputs": [
    {
     "data": {
      "text/plain": [
       "0      1.0\n",
       "1      0.0\n",
       "2      1.0\n",
       "3      1.0\n",
       "4      1.0\n",
       "      ... \n",
       "609    1.0\n",
       "610    1.0\n",
       "611    1.0\n",
       "612    1.0\n",
       "613    0.0\n",
       "Name: Loan_Status, Length: 614, dtype: float64"
      ]
     },
     "execution_count": 80,
     "metadata": {},
     "output_type": "execute_result"
    }
   ],
   "source": [
    "train[target]"
   ]
  },
  {
   "cell_type": "code",
   "execution_count": 81,
   "metadata": {},
   "outputs": [
    {
     "data": {
      "text/html": [
       "<div>\n",
       "<style scoped>\n",
       "    .dataframe tbody tr th:only-of-type {\n",
       "        vertical-align: middle;\n",
       "    }\n",
       "\n",
       "    .dataframe tbody tr th {\n",
       "        vertical-align: top;\n",
       "    }\n",
       "\n",
       "    .dataframe thead th {\n",
       "        text-align: right;\n",
       "    }\n",
       "</style>\n",
       "<table border=\"1\" class=\"dataframe\">\n",
       "  <thead>\n",
       "    <tr style=\"text-align: right;\">\n",
       "      <th></th>\n",
       "      <th>Credit_History</th>\n",
       "      <th>Dependents</th>\n",
       "      <th>Education</th>\n",
       "      <th>Gender</th>\n",
       "      <th>LoanAmount</th>\n",
       "      <th>Loan_Amount_Term</th>\n",
       "      <th>Married</th>\n",
       "      <th>Property_Area</th>\n",
       "      <th>Self_Employed</th>\n",
       "      <th>Income</th>\n",
       "    </tr>\n",
       "  </thead>\n",
       "  <tbody>\n",
       "    <tr>\n",
       "      <td>0</td>\n",
       "      <td>1.0</td>\n",
       "      <td>0</td>\n",
       "      <td>0</td>\n",
       "      <td>1</td>\n",
       "      <td>141.51296</td>\n",
       "      <td>360.0</td>\n",
       "      <td>0</td>\n",
       "      <td>2</td>\n",
       "      <td>0</td>\n",
       "      <td>5849.0</td>\n",
       "    </tr>\n",
       "    <tr>\n",
       "      <td>1</td>\n",
       "      <td>1.0</td>\n",
       "      <td>1</td>\n",
       "      <td>0</td>\n",
       "      <td>1</td>\n",
       "      <td>128.00000</td>\n",
       "      <td>360.0</td>\n",
       "      <td>1</td>\n",
       "      <td>0</td>\n",
       "      <td>0</td>\n",
       "      <td>6091.0</td>\n",
       "    </tr>\n",
       "    <tr>\n",
       "      <td>2</td>\n",
       "      <td>1.0</td>\n",
       "      <td>0</td>\n",
       "      <td>0</td>\n",
       "      <td>1</td>\n",
       "      <td>66.00000</td>\n",
       "      <td>360.0</td>\n",
       "      <td>1</td>\n",
       "      <td>2</td>\n",
       "      <td>1</td>\n",
       "      <td>3000.0</td>\n",
       "    </tr>\n",
       "    <tr>\n",
       "      <td>3</td>\n",
       "      <td>1.0</td>\n",
       "      <td>0</td>\n",
       "      <td>1</td>\n",
       "      <td>1</td>\n",
       "      <td>120.00000</td>\n",
       "      <td>360.0</td>\n",
       "      <td>1</td>\n",
       "      <td>2</td>\n",
       "      <td>0</td>\n",
       "      <td>4941.0</td>\n",
       "    </tr>\n",
       "    <tr>\n",
       "      <td>4</td>\n",
       "      <td>1.0</td>\n",
       "      <td>0</td>\n",
       "      <td>0</td>\n",
       "      <td>1</td>\n",
       "      <td>141.00000</td>\n",
       "      <td>360.0</td>\n",
       "      <td>0</td>\n",
       "      <td>2</td>\n",
       "      <td>0</td>\n",
       "      <td>6000.0</td>\n",
       "    </tr>\n",
       "    <tr>\n",
       "      <td>...</td>\n",
       "      <td>...</td>\n",
       "      <td>...</td>\n",
       "      <td>...</td>\n",
       "      <td>...</td>\n",
       "      <td>...</td>\n",
       "      <td>...</td>\n",
       "      <td>...</td>\n",
       "      <td>...</td>\n",
       "      <td>...</td>\n",
       "      <td>...</td>\n",
       "    </tr>\n",
       "    <tr>\n",
       "      <td>609</td>\n",
       "      <td>1.0</td>\n",
       "      <td>0</td>\n",
       "      <td>0</td>\n",
       "      <td>0</td>\n",
       "      <td>71.00000</td>\n",
       "      <td>360.0</td>\n",
       "      <td>0</td>\n",
       "      <td>0</td>\n",
       "      <td>0</td>\n",
       "      <td>2900.0</td>\n",
       "    </tr>\n",
       "    <tr>\n",
       "      <td>610</td>\n",
       "      <td>1.0</td>\n",
       "      <td>3</td>\n",
       "      <td>0</td>\n",
       "      <td>1</td>\n",
       "      <td>40.00000</td>\n",
       "      <td>180.0</td>\n",
       "      <td>1</td>\n",
       "      <td>0</td>\n",
       "      <td>0</td>\n",
       "      <td>4106.0</td>\n",
       "    </tr>\n",
       "    <tr>\n",
       "      <td>611</td>\n",
       "      <td>1.0</td>\n",
       "      <td>1</td>\n",
       "      <td>0</td>\n",
       "      <td>1</td>\n",
       "      <td>253.00000</td>\n",
       "      <td>360.0</td>\n",
       "      <td>1</td>\n",
       "      <td>2</td>\n",
       "      <td>0</td>\n",
       "      <td>8312.0</td>\n",
       "    </tr>\n",
       "    <tr>\n",
       "      <td>612</td>\n",
       "      <td>1.0</td>\n",
       "      <td>2</td>\n",
       "      <td>0</td>\n",
       "      <td>1</td>\n",
       "      <td>187.00000</td>\n",
       "      <td>360.0</td>\n",
       "      <td>1</td>\n",
       "      <td>2</td>\n",
       "      <td>0</td>\n",
       "      <td>7583.0</td>\n",
       "    </tr>\n",
       "    <tr>\n",
       "      <td>613</td>\n",
       "      <td>0.0</td>\n",
       "      <td>0</td>\n",
       "      <td>0</td>\n",
       "      <td>0</td>\n",
       "      <td>133.00000</td>\n",
       "      <td>360.0</td>\n",
       "      <td>0</td>\n",
       "      <td>1</td>\n",
       "      <td>1</td>\n",
       "      <td>4583.0</td>\n",
       "    </tr>\n",
       "  </tbody>\n",
       "</table>\n",
       "<p>614 rows × 10 columns</p>\n",
       "</div>"
      ],
      "text/plain": [
       "     Credit_History Dependents  Education  Gender  LoanAmount  \\\n",
       "0               1.0          0          0       1   141.51296   \n",
       "1               1.0          1          0       1   128.00000   \n",
       "2               1.0          0          0       1    66.00000   \n",
       "3               1.0          0          1       1   120.00000   \n",
       "4               1.0          0          0       1   141.00000   \n",
       "..              ...        ...        ...     ...         ...   \n",
       "609             1.0          0          0       0    71.00000   \n",
       "610             1.0          3          0       1    40.00000   \n",
       "611             1.0          1          0       1   253.00000   \n",
       "612             1.0          2          0       1   187.00000   \n",
       "613             0.0          0          0       0   133.00000   \n",
       "\n",
       "     Loan_Amount_Term  Married  Property_Area  Self_Employed  Income  \n",
       "0               360.0        0              2              0  5849.0  \n",
       "1               360.0        1              0              0  6091.0  \n",
       "2               360.0        1              2              1  3000.0  \n",
       "3               360.0        1              2              0  4941.0  \n",
       "4               360.0        0              2              0  6000.0  \n",
       "..                ...      ...            ...            ...     ...  \n",
       "609             360.0        0              0              0  2900.0  \n",
       "610             180.0        1              0              0  4106.0  \n",
       "611             360.0        1              2              0  8312.0  \n",
       "612             360.0        1              2              0  7583.0  \n",
       "613             360.0        0              1              1  4583.0  \n",
       "\n",
       "[614 rows x 10 columns]"
      ]
     },
     "execution_count": 81,
     "metadata": {},
     "output_type": "execute_result"
    }
   ],
   "source": [
    "train[predictors]"
   ]
  },
  {
   "cell_type": "code",
   "execution_count": 82,
   "metadata": {},
   "outputs": [
    {
     "name": "stdout",
     "output_type": "stream",
     "text": [
      "<class 'pandas.core.frame.DataFrame'>\n",
      "Int64Index: 614 entries, 0 to 613\n",
      "Data columns (total 11 columns):\n",
      "Credit_History      614 non-null float64\n",
      "Dependents          614 non-null object\n",
      "Education           614 non-null int32\n",
      "Gender              614 non-null int32\n",
      "LoanAmount          614 non-null float64\n",
      "Loan_Amount_Term    614 non-null float64\n",
      "Loan_Status         614 non-null float64\n",
      "Married             614 non-null int32\n",
      "Property_Area       614 non-null int32\n",
      "Self_Employed       614 non-null int32\n",
      "Income              614 non-null float64\n",
      "dtypes: float64(5), int32(5), object(1)\n",
      "memory usage: 45.6+ KB\n"
     ]
    }
   ],
   "source": [
    "train.info()"
   ]
  },
  {
   "cell_type": "code",
   "execution_count": 83,
   "metadata": {},
   "outputs": [],
   "source": [
    "# Linear regression"
   ]
  },
  {
   "cell_type": "code",
   "execution_count": 84,
   "metadata": {},
   "outputs": [],
   "source": [
    "lr = linear_model.LinearRegression()"
   ]
  },
  {
   "cell_type": "code",
   "execution_count": 85,
   "metadata": {},
   "outputs": [
    {
     "data": {
      "text/plain": [
       "LinearRegression(copy_X=True, fit_intercept=True, n_jobs=None, normalize=False)"
      ]
     },
     "execution_count": 85,
     "metadata": {},
     "output_type": "execute_result"
    }
   ],
   "source": [
    "lr.fit(train[predictors],train[target])"
   ]
  },
  {
   "cell_type": "code",
   "execution_count": 86,
   "metadata": {},
   "outputs": [],
   "source": [
    "lr_predictions = lr.predict(train[predictors])"
   ]
  },
  {
   "cell_type": "code",
   "execution_count": 661,
   "metadata": {},
   "outputs": [
    {
     "data": {
      "text/plain": [
       "array([0.6848557 , 0.76182302, 0.80008413, 0.67810038, 0.68492205,\n",
       "       0.73322204, 0.68860427, 0.362054  , 0.77120365, 0.67020083,\n",
       "       0.8101003 , 0.79480122, 0.75410312, 0.68003579, 0.85423951,\n",
       "       0.6919466 , 1.03822885, 0.29812315, 0.65683306, 0.77700527,\n",
       "       0.2692215 , 0.70189906, 0.25916947, 0.26759157, 1.17338086,\n",
       "       0.73844826, 0.76531986, 0.69737176, 0.63314626, 0.69950735,\n",
       "       1.16165384, 0.71299197, 0.69436433, 0.76828155, 0.61551537,\n",
       "       0.76663556, 0.37227103, 0.75569191, 0.66384629, 0.59286399,\n",
       "       0.710324  , 0.72345407, 1.20641366, 0.75967507, 0.69263716,\n",
       "       0.70801807, 0.81068009, 0.76441171, 0.35955788, 0.67422003,\n",
       "       0.67761198, 0.68614536, 0.68822182, 0.78499933, 0.30265851,\n",
       "       0.79162207, 0.77641021, 0.75173403, 0.75462247, 0.68354683,\n",
       "       0.77318495, 0.80761744, 0.25124603, 0.34433966, 0.27408555,\n",
       "       0.70875639, 0.19913858, 0.70376083, 0.72952142, 0.26631871,\n",
       "       0.75330981, 0.6988838 , 0.70749713, 0.29197744, 0.76573428,\n",
       "       0.68629026, 0.6693811 , 0.79023408, 0.3578774 , 1.1052777 ,\n",
       "       0.68893475, 0.77140746, 0.77239409, 1.12052101, 0.82109318,\n",
       "       0.6796137 , 1.10601337, 0.77257963, 0.65631666, 0.74090524,\n",
       "       0.76118327, 0.76681964, 0.70861536, 0.68562706, 0.64948744,\n",
       "       1.09321207, 0.75866246, 0.79465316, 0.68941036, 0.76166331,\n",
       "       0.70352614, 0.67064724, 0.75862802, 0.75511634, 0.75936668,\n",
       "       0.79060378, 0.74336523, 0.57921891, 0.33857187, 0.69400582,\n",
       "       0.68742337, 0.7574878 , 0.23589107, 0.68542688, 0.68636849,\n",
       "       0.74962995, 0.7515874 , 1.20940781, 0.73458645, 0.63483811,\n",
       "       0.73213674, 0.71429219, 0.26007156, 0.79853306, 0.63226817,\n",
       "       1.10044453, 0.66972692, 0.66881138, 0.36646736, 1.14376161,\n",
       "       0.88278881, 0.71232439, 0.70673843, 0.82976407, 0.69262308,\n",
       "       0.71887233, 0.77094361, 0.80410975, 0.21770879, 0.67344938,\n",
       "       0.74698913, 0.67509398, 0.68325087, 0.76559515, 0.77549881,\n",
       "       0.77107147, 0.79951883, 0.81834692, 0.63042327, 0.76362327,\n",
       "       0.26448177, 0.74797998, 0.64279283, 0.68245172, 0.72209901,\n",
       "       0.18022928, 1.16231983, 0.75262576, 0.67742202, 0.71000133,\n",
       "       0.68009938, 0.71247705, 0.36149159, 0.75861863, 0.80471631,\n",
       "       0.73436728, 0.76023142, 0.75385228, 0.28588963, 0.74866784,\n",
       "       0.67248768, 0.5414026 , 0.71840863, 0.73504883, 0.68584021,\n",
       "       0.75909335, 0.78210314, 0.22342457, 0.77659802, 0.1815581 ,\n",
       "       0.3391053 , 1.10871137, 0.80137447, 0.6956156 , 0.77075601,\n",
       "       0.73607167, 0.38529241, 1.19475257, 0.74216585, 0.74514042,\n",
       "       0.60887052, 0.66279091, 0.66185782, 0.70346223, 0.67817219,\n",
       "       0.75425436, 0.64575007, 0.59878375, 1.17926138, 0.70621461,\n",
       "       0.68913341, 0.27117817, 0.71119362, 0.68053229, 0.68500607,\n",
       "       0.58875781, 0.70948269, 0.60479795, 0.71932252, 0.68432927,\n",
       "       0.644235  , 0.37427119, 0.73725994, 0.68427105, 0.76676887,\n",
       "       0.70126252, 0.75484482, 0.76148953, 0.38755768, 1.18925711,\n",
       "       0.38698429, 0.78276069, 0.67580893, 0.74374006, 0.76199377,\n",
       "       0.74033622, 0.67479565, 0.74488937, 0.74052036, 0.64907002,\n",
       "       0.78050503, 0.80582475, 0.58228773, 0.62041894, 0.76639757,\n",
       "       0.74517921, 1.13467108, 1.10929148, 0.68827389, 0.78462381,\n",
       "       0.76867881, 0.69561625, 0.70547147, 0.77948648, 0.66630317,\n",
       "       0.70950944, 0.78903978, 0.69494448, 0.76180158, 0.78691539,\n",
       "       0.22574961, 0.70286092, 0.59096674, 0.62973491, 0.24733607,\n",
       "       0.64991755, 0.16957883, 0.80761963, 0.67742849, 1.10312704,\n",
       "       1.10989418, 0.68091912, 0.71073288, 0.67443602, 0.68584737,\n",
       "       0.66342945, 0.76943559, 0.36893936, 0.67195095, 0.71249405,\n",
       "       0.72861762, 0.76289131, 0.67544744, 0.75478747, 0.79427861,\n",
       "       0.77625624, 0.73089519, 0.7901166 , 0.63699094, 1.07246676,\n",
       "       0.18036192, 0.76942524, 0.82448662, 0.71922928, 0.73625114,\n",
       "       0.68829433, 0.70216476, 0.75735398, 0.68716528, 0.64796531,\n",
       "       0.75026824, 0.36703205, 0.78491588, 0.25957023, 0.74561886,\n",
       "       0.8011405 , 0.74177306, 0.77556357, 0.65100312, 0.784893  ,\n",
       "       0.27594705, 0.67594078, 0.67173771, 0.79269672, 0.66853422,\n",
       "       0.59191669, 0.67022177, 0.28676317, 0.52664334, 1.06293362,\n",
       "       0.70006356, 0.59255368, 0.70295834, 1.20586976, 0.74362751,\n",
       "       0.7062413 , 0.78295869, 1.19989851, 1.10933817, 0.75153501,\n",
       "       0.76841515, 0.7885907 , 0.66903986, 1.08340854, 0.70408049,\n",
       "       0.25118504, 0.26106082, 0.74248728, 0.77544334, 0.71509626,\n",
       "       0.70181425, 0.69583956, 0.71442704, 0.59947889, 0.77303185,\n",
       "       0.78610652, 0.74971215, 0.7538583 , 0.20120367, 0.70396774,\n",
       "       0.66567949, 0.7068951 , 0.67070065, 0.71263762, 0.77184677,\n",
       "       0.75086362, 0.23529777, 0.69126342, 1.12052296, 0.72899328,\n",
       "       0.72129876, 0.59874064, 0.7913278 , 0.35286402, 0.76293891,\n",
       "       0.7121398 , 0.75087694, 0.80340694, 0.26204789, 0.7562431 ,\n",
       "       0.70752022, 0.73432121, 0.76868213, 1.20126531, 0.67127909,\n",
       "       0.57520634, 0.68569932, 0.26457416, 0.75181067, 0.56859718,\n",
       "       0.70351499, 0.76830556, 0.67276671, 0.30933853, 0.69716313,\n",
       "       0.7905827 , 0.77019757, 1.17555859, 0.7029444 , 0.78586292,\n",
       "       0.76235251, 0.61386233, 0.6780358 , 0.69229607, 0.79805   ,\n",
       "       0.7224233 , 0.58571189, 0.25553386, 0.7683937 , 0.75562691,\n",
       "       0.67261161, 0.71837307, 1.18722071, 0.70639108, 0.79313327,\n",
       "       1.18984405, 0.30031993, 0.78430136, 0.58494568, 0.27980407,\n",
       "       0.32854265, 0.60983891, 0.67709517, 0.61649394, 0.64932236,\n",
       "       0.68680138, 0.68033502, 0.60313523, 0.35188969, 0.2116859 ,\n",
       "       0.62267981, 1.17057726, 0.21061282, 0.66614939, 0.2335493 ,\n",
       "       0.71734847, 0.68729306, 0.73362198, 0.76205431, 0.75953326,\n",
       "       0.75036004, 0.20241816, 0.78320832, 0.37135345, 0.766812  ,\n",
       "       0.75588572, 0.60320049, 0.77607706, 0.77236023, 0.63940437,\n",
       "       0.68117081, 0.26926344, 0.56983596, 0.75753262, 0.7025434 ,\n",
       "       0.76368955, 0.71347895, 0.76749929, 0.25426787, 0.65523711,\n",
       "       0.6568099 , 0.73093234, 0.6008092 , 0.65311874, 1.14604284,\n",
       "       0.76567963, 0.68155972, 0.78290033, 0.34950344, 0.98713643,\n",
       "       0.26409602, 1.13639475, 0.33361798, 0.37373925, 0.70102992,\n",
       "       0.79201841, 0.77566638, 0.75292466, 0.6876359 , 0.74795843,\n",
       "       1.16588901, 0.80938929, 0.74515991, 0.59135586, 0.28211952,\n",
       "       0.66896437, 0.32535938, 0.75989707, 0.69448515, 0.77659091,\n",
       "       0.76087343, 0.27723708, 0.79763493, 1.1212147 , 0.67267685,\n",
       "       0.7548248 , 0.74244317, 0.36482236, 0.77843186, 0.78218182,\n",
       "       0.56762992, 0.68961405, 0.76286868, 0.7174978 , 0.73078277,\n",
       "       0.66588494, 0.29709351, 0.62531259, 0.76852304, 0.71323913,\n",
       "       1.01082261, 1.07206362, 0.58617786, 0.54093258, 0.34503253,\n",
       "       0.80518125, 0.66728508, 1.22097976, 0.78877216, 0.22586297,\n",
       "       0.66830519, 0.69373412, 0.74346596, 1.07160261, 0.67373349,\n",
       "       0.72411051, 1.02987633, 0.70421738, 0.75126576, 0.72403007,\n",
       "       0.58897646, 0.72161697, 0.77903932, 0.79891244, 0.60054885,\n",
       "       0.76844069, 0.77325601, 0.25617914, 0.65940403, 0.5910193 ,\n",
       "       0.71521512, 0.71266464, 0.79079597, 0.6306602 , 0.67589583,\n",
       "       0.65921381, 0.77100939, 0.24791998, 0.60808235, 0.58403642,\n",
       "       1.1325812 , 0.80615778, 0.2855809 , 1.07171723, 0.58658455,\n",
       "       0.57928149, 0.69191896, 0.70753483, 0.68369945, 0.78309242,\n",
       "       0.78000236, 0.28233404, 0.70308549, 0.68305548, 1.08941493,\n",
       "       0.74481199, 0.63656677, 0.66850622, 0.27834158, 0.7619566 ,\n",
       "       0.35415455, 0.66145599, 0.76626268, 0.24223458, 0.35516753,\n",
       "       0.80866427, 1.11971182, 0.73514005, 0.74872287, 0.73998395,\n",
       "       0.69112732, 0.58015134, 0.72058394, 0.58752138, 0.32130004,\n",
       "       1.07482892, 0.71437948, 0.3669644 , 0.73739075, 0.36756225,\n",
       "       0.75676865, 0.34307478, 0.72068936, 0.64632655, 0.77703064,\n",
       "       0.82174633, 0.34709198, 0.6968095 , 0.77164398, 0.67718532,\n",
       "       0.74801096, 0.67890627, 0.79869651, 1.20373944, 0.34346881,\n",
       "       0.76990724, 0.78143713, 0.60981634, 0.69580845, 0.37991077,\n",
       "       0.80631602, 0.76315959, 0.64308688, 0.76460497, 0.71457702,\n",
       "       0.58605569, 0.65315622, 0.28695958, 0.73413979, 0.76180842,\n",
       "       1.02594218, 0.64772898, 0.79422227, 0.65502108, 0.62297339,\n",
       "       0.68570632, 0.75294145, 0.66293677, 0.76239399, 0.69688158,\n",
       "       0.82984219, 0.72843032, 0.76217022, 0.27062743])"
      ]
     },
     "execution_count": 661,
     "metadata": {},
     "output_type": "execute_result"
    }
   ],
   "source": [
    "lr_predictions"
   ]
  },
  {
   "cell_type": "code",
   "execution_count": null,
   "metadata": {},
   "outputs": [],
   "source": [
    "#If we see the predictions ar ein decimal points rather than 0 or 1 in linear regression, as these are coocrdinated of the line that fits them all."
   ]
  },
  {
   "cell_type": "code",
   "execution_count": 87,
   "metadata": {},
   "outputs": [],
   "source": [
    "from sklearn.model_selection import train_test_split \n",
    "X_train,X_test,Y_train,y_test = train_test_split(train[predictors],train[target],test_size = 0.3, random_state = 0)"
   ]
  },
  {
   "cell_type": "code",
   "execution_count": 88,
   "metadata": {},
   "outputs": [],
   "source": [
    "lr = linear_model.LinearRegression(normalize = True)"
   ]
  },
  {
   "cell_type": "code",
   "execution_count": 89,
   "metadata": {},
   "outputs": [
    {
     "data": {
      "text/plain": [
       "LinearRegression(copy_X=True, fit_intercept=True, n_jobs=None, normalize=True)"
      ]
     },
     "execution_count": 89,
     "metadata": {},
     "output_type": "execute_result"
    }
   ],
   "source": [
    "lr.fit(X_train,Y_train)"
   ]
  },
  {
   "cell_type": "code",
   "execution_count": 90,
   "metadata": {},
   "outputs": [],
   "source": [
    "lr_predict = lr.predict(X_test)"
   ]
  },
  {
   "cell_type": "code",
   "execution_count": 91,
   "metadata": {},
   "outputs": [],
   "source": [
    "from sklearn.metrics import *"
   ]
  },
  {
   "cell_type": "code",
   "execution_count": 92,
   "metadata": {},
   "outputs": [
    {
     "data": {
      "text/plain": [
       "0.827027027027027"
      ]
     },
     "execution_count": 92,
     "metadata": {},
     "output_type": "execute_result"
    }
   ],
   "source": [
    "accuracy_score(y_test, lr_predict.round()) # .round() is just a workaround - to get an idea of accuracy, but not recommended"
   ]
  },
  {
   "cell_type": "code",
   "execution_count": 93,
   "metadata": {},
   "outputs": [],
   "source": [
    "#cv"
   ]
  },
  {
   "cell_type": "code",
   "execution_count": 94,
   "metadata": {},
   "outputs": [],
   "source": [
    "cv_Score = cross_val_score(lr,train[predictors],train[target],cv = 20,scoring = 'neg_mean_squared_error')"
   ]
  },
  {
   "cell_type": "code",
   "execution_count": 95,
   "metadata": {},
   "outputs": [],
   "source": [
    "cv_score_lr = np.sqrt(np.abs(cv_Score))"
   ]
  },
  {
   "cell_type": "code",
   "execution_count": 96,
   "metadata": {},
   "outputs": [
    {
     "name": "stdout",
     "output_type": "stream",
     "text": [
      "\n",
      "Model Report\n",
      "RMSE : 0.4156\n",
      "CV Score : Mean - 0.423 | Std - 0.03108 | Min - 0.3545 | Max - 0.4729\n"
     ]
    }
   ],
   "source": [
    "\n",
    "    #Print model report:\n",
    "print (\"\\nModel Report\")\n",
    "print (\"RMSE : %.4g\" % np.sqrt(metrics.mean_squared_error(train[target].values, lr_predictions)))\n",
    "print (\"CV Score : Mean - %.4g | Std - %.4g | Min - %.4g | Max - %.4g\" % (np.mean(cv_score_lr),np.std(cv_score_lr),np.min(cv_score_lr),np.max(cv_score_lr)))"
   ]
  },
  {
   "cell_type": "code",
   "execution_count": 99,
   "metadata": {},
   "outputs": [
    {
     "name": "stdout",
     "output_type": "stream",
     "text": [
      "              precision    recall  f1-score   support\n",
      "\n",
      "         0.0       0.91      0.41      0.57        51\n",
      "         1.0       0.81      0.99      0.89       134\n",
      "\n",
      "    accuracy                           0.83       185\n",
      "   macro avg       0.86      0.70      0.73       185\n",
      "weighted avg       0.84      0.83      0.80       185\n",
      "\n"
     ]
    }
   ],
   "source": [
    "print(classification_report(y_test, lr_predict.round()))"
   ]
  },
  {
   "cell_type": "code",
   "execution_count": 104,
   "metadata": {},
   "outputs": [],
   "source": [
    "# Logistic REgression"
   ]
  },
  {
   "cell_type": "code",
   "execution_count": 107,
   "metadata": {},
   "outputs": [],
   "source": [
    "# Using train test split"
   ]
  },
  {
   "cell_type": "code",
   "execution_count": 108,
   "metadata": {},
   "outputs": [],
   "source": [
    "logreg = linear_model.LogisticRegression()"
   ]
  },
  {
   "cell_type": "code",
   "execution_count": 109,
   "metadata": {},
   "outputs": [
    {
     "name": "stderr",
     "output_type": "stream",
     "text": [
      "C:\\Users\\Balamre\\Anaconda3\\lib\\site-packages\\sklearn\\linear_model\\logistic.py:432: FutureWarning: Default solver will be changed to 'lbfgs' in 0.22. Specify a solver to silence this warning.\n",
      "  FutureWarning)\n"
     ]
    },
    {
     "data": {
      "text/plain": [
       "LogisticRegression(C=1.0, class_weight=None, dual=False, fit_intercept=True,\n",
       "                   intercept_scaling=1, l1_ratio=None, max_iter=100,\n",
       "                   multi_class='warn', n_jobs=None, penalty='l2',\n",
       "                   random_state=None, solver='warn', tol=0.0001, verbose=0,\n",
       "                   warm_start=False)"
      ]
     },
     "execution_count": 109,
     "metadata": {},
     "output_type": "execute_result"
    }
   ],
   "source": [
    "logreg.fit(X_train,Y_train)"
   ]
  },
  {
   "cell_type": "code",
   "execution_count": 110,
   "metadata": {},
   "outputs": [],
   "source": [
    "logreg_predictions = logreg.predict(X_test)"
   ]
  },
  {
   "cell_type": "code",
   "execution_count": 111,
   "metadata": {},
   "outputs": [
    {
     "name": "stdout",
     "output_type": "stream",
     "text": [
      "MSE 0.16756756756756758\n"
     ]
    }
   ],
   "source": [
    "print(\"MSE\",mean_squared_error(y_test,logreg_predictions))"
   ]
  },
  {
   "cell_type": "code",
   "execution_count": 112,
   "metadata": {},
   "outputs": [
    {
     "data": {
      "text/plain": [
       "0.8949152542372881"
      ]
     },
     "execution_count": 112,
     "metadata": {},
     "output_type": "execute_result"
    }
   ],
   "source": [
    "f1_score(y_test,logreg_predictions)"
   ]
  },
  {
   "cell_type": "code",
   "execution_count": 121,
   "metadata": {},
   "outputs": [
    {
     "name": "stdout",
     "output_type": "stream",
     "text": [
      "              precision    recall  f1-score   support\n",
      "\n",
      "         0.0       0.92      0.43      0.59        51\n",
      "         1.0       0.82      0.99      0.89       134\n",
      "\n",
      "    accuracy                           0.83       185\n",
      "   macro avg       0.87      0.71      0.74       185\n",
      "weighted avg       0.85      0.83      0.81       185\n",
      "\n"
     ]
    }
   ],
   "source": [
    "print(classification_report(y_test, logreg_predictions))"
   ]
  },
  {
   "cell_type": "code",
   "execution_count": 113,
   "metadata": {},
   "outputs": [],
   "source": [
    "# Using cv"
   ]
  },
  {
   "cell_type": "code",
   "execution_count": 114,
   "metadata": {},
   "outputs": [
    {
     "name": "stderr",
     "output_type": "stream",
     "text": [
      "C:\\Users\\Balamre\\Anaconda3\\lib\\site-packages\\sklearn\\linear_model\\logistic.py:432: FutureWarning: Default solver will be changed to 'lbfgs' in 0.22. Specify a solver to silence this warning.\n",
      "  FutureWarning)\n"
     ]
    },
    {
     "data": {
      "text/plain": [
       "LogisticRegression(C=1.0, class_weight=None, dual=False, fit_intercept=True,\n",
       "                   intercept_scaling=1, l1_ratio=None, max_iter=100,\n",
       "                   multi_class='warn', n_jobs=None, penalty='l2',\n",
       "                   random_state=None, solver='warn', tol=0.0001, verbose=0,\n",
       "                   warm_start=False)"
      ]
     },
     "execution_count": 114,
     "metadata": {},
     "output_type": "execute_result"
    }
   ],
   "source": [
    "logreg.fit(train[predictors],train[target])"
   ]
  },
  {
   "cell_type": "code",
   "execution_count": 115,
   "metadata": {},
   "outputs": [],
   "source": [
    "logreg_predictions_cv = logreg.predict(train[predictors])"
   ]
  },
  {
   "cell_type": "code",
   "execution_count": 116,
   "metadata": {},
   "outputs": [
    {
     "name": "stderr",
     "output_type": "stream",
     "text": [
      "C:\\Users\\Balamre\\Anaconda3\\lib\\site-packages\\sklearn\\linear_model\\logistic.py:432: FutureWarning: Default solver will be changed to 'lbfgs' in 0.22. Specify a solver to silence this warning.\n",
      "  FutureWarning)\n",
      "C:\\Users\\Balamre\\Anaconda3\\lib\\site-packages\\sklearn\\linear_model\\logistic.py:432: FutureWarning: Default solver will be changed to 'lbfgs' in 0.22. Specify a solver to silence this warning.\n",
      "  FutureWarning)\n",
      "C:\\Users\\Balamre\\Anaconda3\\lib\\site-packages\\sklearn\\linear_model\\logistic.py:432: FutureWarning: Default solver will be changed to 'lbfgs' in 0.22. Specify a solver to silence this warning.\n",
      "  FutureWarning)\n",
      "C:\\Users\\Balamre\\Anaconda3\\lib\\site-packages\\sklearn\\linear_model\\logistic.py:432: FutureWarning: Default solver will be changed to 'lbfgs' in 0.22. Specify a solver to silence this warning.\n",
      "  FutureWarning)\n",
      "C:\\Users\\Balamre\\Anaconda3\\lib\\site-packages\\sklearn\\linear_model\\logistic.py:432: FutureWarning: Default solver will be changed to 'lbfgs' in 0.22. Specify a solver to silence this warning.\n",
      "  FutureWarning)\n",
      "C:\\Users\\Balamre\\Anaconda3\\lib\\site-packages\\sklearn\\linear_model\\logistic.py:432: FutureWarning: Default solver will be changed to 'lbfgs' in 0.22. Specify a solver to silence this warning.\n",
      "  FutureWarning)\n",
      "C:\\Users\\Balamre\\Anaconda3\\lib\\site-packages\\sklearn\\linear_model\\logistic.py:432: FutureWarning: Default solver will be changed to 'lbfgs' in 0.22. Specify a solver to silence this warning.\n",
      "  FutureWarning)\n",
      "C:\\Users\\Balamre\\Anaconda3\\lib\\site-packages\\sklearn\\linear_model\\logistic.py:432: FutureWarning: Default solver will be changed to 'lbfgs' in 0.22. Specify a solver to silence this warning.\n",
      "  FutureWarning)\n",
      "C:\\Users\\Balamre\\Anaconda3\\lib\\site-packages\\sklearn\\linear_model\\logistic.py:432: FutureWarning: Default solver will be changed to 'lbfgs' in 0.22. Specify a solver to silence this warning.\n",
      "  FutureWarning)\n",
      "C:\\Users\\Balamre\\Anaconda3\\lib\\site-packages\\sklearn\\linear_model\\logistic.py:432: FutureWarning: Default solver will be changed to 'lbfgs' in 0.22. Specify a solver to silence this warning.\n",
      "  FutureWarning)\n",
      "C:\\Users\\Balamre\\Anaconda3\\lib\\site-packages\\sklearn\\linear_model\\logistic.py:432: FutureWarning: Default solver will be changed to 'lbfgs' in 0.22. Specify a solver to silence this warning.\n",
      "  FutureWarning)\n",
      "C:\\Users\\Balamre\\Anaconda3\\lib\\site-packages\\sklearn\\linear_model\\logistic.py:432: FutureWarning: Default solver will be changed to 'lbfgs' in 0.22. Specify a solver to silence this warning.\n",
      "  FutureWarning)\n",
      "C:\\Users\\Balamre\\Anaconda3\\lib\\site-packages\\sklearn\\linear_model\\logistic.py:432: FutureWarning: Default solver will be changed to 'lbfgs' in 0.22. Specify a solver to silence this warning.\n",
      "  FutureWarning)\n",
      "C:\\Users\\Balamre\\Anaconda3\\lib\\site-packages\\sklearn\\linear_model\\logistic.py:432: FutureWarning: Default solver will be changed to 'lbfgs' in 0.22. Specify a solver to silence this warning.\n",
      "  FutureWarning)\n",
      "C:\\Users\\Balamre\\Anaconda3\\lib\\site-packages\\sklearn\\linear_model\\logistic.py:432: FutureWarning: Default solver will be changed to 'lbfgs' in 0.22. Specify a solver to silence this warning.\n",
      "  FutureWarning)\n",
      "C:\\Users\\Balamre\\Anaconda3\\lib\\site-packages\\sklearn\\linear_model\\logistic.py:432: FutureWarning: Default solver will be changed to 'lbfgs' in 0.22. Specify a solver to silence this warning.\n",
      "  FutureWarning)\n",
      "C:\\Users\\Balamre\\Anaconda3\\lib\\site-packages\\sklearn\\linear_model\\logistic.py:432: FutureWarning: Default solver will be changed to 'lbfgs' in 0.22. Specify a solver to silence this warning.\n",
      "  FutureWarning)\n",
      "C:\\Users\\Balamre\\Anaconda3\\lib\\site-packages\\sklearn\\linear_model\\logistic.py:432: FutureWarning: Default solver will be changed to 'lbfgs' in 0.22. Specify a solver to silence this warning.\n",
      "  FutureWarning)\n",
      "C:\\Users\\Balamre\\Anaconda3\\lib\\site-packages\\sklearn\\linear_model\\logistic.py:432: FutureWarning: Default solver will be changed to 'lbfgs' in 0.22. Specify a solver to silence this warning.\n",
      "  FutureWarning)\n",
      "C:\\Users\\Balamre\\Anaconda3\\lib\\site-packages\\sklearn\\linear_model\\logistic.py:432: FutureWarning: Default solver will be changed to 'lbfgs' in 0.22. Specify a solver to silence this warning.\n",
      "  FutureWarning)\n"
     ]
    }
   ],
   "source": [
    "cv_Score_log = cross_val_score(logreg,train[predictors],train[target],cv = 20,scoring = 'f1')"
   ]
  },
  {
   "cell_type": "code",
   "execution_count": 117,
   "metadata": {},
   "outputs": [
    {
     "data": {
      "text/plain": [
       "array([0.89795918, 0.84615385, 0.93333333, 0.83333333, 0.83333333,\n",
       "       0.86956522, 0.8       , 0.875     , 0.83333333, 0.875     ,\n",
       "       0.85106383, 0.875     , 0.93333333, 0.91304348, 0.88888889,\n",
       "       0.91304348, 0.85714286, 0.90909091, 0.86956522, 0.89361702])"
      ]
     },
     "execution_count": 117,
     "metadata": {},
     "output_type": "execute_result"
    }
   ],
   "source": [
    "cv_Score_log"
   ]
  },
  {
   "cell_type": "code",
   "execution_count": 118,
   "metadata": {},
   "outputs": [],
   "source": [
    "cv_score_log = np.sqrt(np.abs(cv_Score_log))"
   ]
  },
  {
   "cell_type": "code",
   "execution_count": 119,
   "metadata": {},
   "outputs": [
    {
     "data": {
      "text/plain": [
       "0.8764519535374867"
      ]
     },
     "execution_count": 119,
     "metadata": {},
     "output_type": "execute_result"
    }
   ],
   "source": [
    "f1_score(train[target],logreg_predictions_cv)"
   ]
  },
  {
   "cell_type": "code",
   "execution_count": 120,
   "metadata": {},
   "outputs": [
    {
     "name": "stdout",
     "output_type": "stream",
     "text": [
      "              precision    recall  f1-score   support\n",
      "\n",
      "         0.0       0.92      0.43      0.58       192\n",
      "         1.0       0.79      0.98      0.88       422\n",
      "\n",
      "    accuracy                           0.81       614\n",
      "   macro avg       0.86      0.71      0.73       614\n",
      "weighted avg       0.83      0.81      0.78       614\n",
      "\n"
     ]
    }
   ],
   "source": [
    "print(classification_report(train[target], logreg_predictions_cv))"
   ]
  },
  {
   "cell_type": "code",
   "execution_count": 122,
   "metadata": {},
   "outputs": [],
   "source": [
    "#RAndom forest"
   ]
  },
  {
   "cell_type": "code",
   "execution_count": 123,
   "metadata": {},
   "outputs": [],
   "source": [
    "from sklearn.ensemble import RandomForestClassifier"
   ]
  },
  {
   "cell_type": "code",
   "execution_count": 124,
   "metadata": {},
   "outputs": [],
   "source": [
    "rf = RandomForestClassifier(max_depth = 50, oob_score = True)"
   ]
  },
  {
   "cell_type": "code",
   "execution_count": 125,
   "metadata": {},
   "outputs": [
    {
     "name": "stderr",
     "output_type": "stream",
     "text": [
      "C:\\Users\\Balamre\\Anaconda3\\lib\\site-packages\\sklearn\\ensemble\\forest.py:245: FutureWarning: The default value of n_estimators will change from 10 in version 0.20 to 100 in 0.22.\n",
      "  \"10 in version 0.20 to 100 in 0.22.\", FutureWarning)\n",
      "C:\\Users\\Balamre\\Anaconda3\\lib\\site-packages\\sklearn\\ensemble\\forest.py:460: UserWarning: Some inputs do not have OOB scores. This probably means too few trees were used to compute any reliable oob estimates.\n",
      "  warn(\"Some inputs do not have OOB scores. \"\n",
      "C:\\Users\\Balamre\\Anaconda3\\lib\\site-packages\\sklearn\\ensemble\\forest.py:465: RuntimeWarning: invalid value encountered in true_divide\n",
      "  predictions[k].sum(axis=1)[:, np.newaxis])\n"
     ]
    },
    {
     "data": {
      "text/plain": [
       "RandomForestClassifier(bootstrap=True, class_weight=None, criterion='gini',\n",
       "                       max_depth=50, max_features='auto', max_leaf_nodes=None,\n",
       "                       min_impurity_decrease=0.0, min_impurity_split=None,\n",
       "                       min_samples_leaf=1, min_samples_split=2,\n",
       "                       min_weight_fraction_leaf=0.0, n_estimators=10,\n",
       "                       n_jobs=None, oob_score=True, random_state=None,\n",
       "                       verbose=0, warm_start=False)"
      ]
     },
     "execution_count": 125,
     "metadata": {},
     "output_type": "execute_result"
    }
   ],
   "source": [
    "rf.fit(X_train,Y_train)"
   ]
  },
  {
   "cell_type": "code",
   "execution_count": 126,
   "metadata": {},
   "outputs": [],
   "source": [
    "rf_predictions = rf.predict(X_test)"
   ]
  },
  {
   "cell_type": "code",
   "execution_count": 127,
   "metadata": {},
   "outputs": [
    {
     "data": {
      "text/plain": [
       "0.7837837837837838"
      ]
     },
     "execution_count": 127,
     "metadata": {},
     "output_type": "execute_result"
    }
   ],
   "source": [
    "rf.score(X_test,y_test)"
   ]
  },
  {
   "cell_type": "code",
   "execution_count": 128,
   "metadata": {},
   "outputs": [
    {
     "data": {
      "text/plain": [
       "0.7837837837837838"
      ]
     },
     "execution_count": 128,
     "metadata": {},
     "output_type": "execute_result"
    }
   ],
   "source": [
    "accuracy_score(y_test,rf_predictions)"
   ]
  },
  {
   "cell_type": "code",
   "execution_count": 129,
   "metadata": {},
   "outputs": [
    {
     "data": {
      "text/plain": [
       "0.717948717948718"
      ]
     },
     "execution_count": 129,
     "metadata": {},
     "output_type": "execute_result"
    }
   ],
   "source": [
    "rf.oob_score_"
   ]
  },
  {
   "cell_type": "code",
   "execution_count": 131,
   "metadata": {},
   "outputs": [
    {
     "name": "stdout",
     "output_type": "stream",
     "text": [
      "              precision    recall  f1-score   support\n",
      "\n",
      "         0.0       0.62      0.55      0.58        51\n",
      "         1.0       0.84      0.87      0.85       134\n",
      "\n",
      "    accuracy                           0.78       185\n",
      "   macro avg       0.73      0.71      0.72       185\n",
      "weighted avg       0.78      0.78      0.78       185\n",
      "\n"
     ]
    }
   ],
   "source": [
    "print(classification_report(y_test,rf_predictions))"
   ]
  },
  {
   "cell_type": "code",
   "execution_count": 730,
   "metadata": {},
   "outputs": [],
   "source": [
    "# rf cv"
   ]
  },
  {
   "cell_type": "code",
   "execution_count": 132,
   "metadata": {},
   "outputs": [
    {
     "name": "stderr",
     "output_type": "stream",
     "text": [
      "C:\\Users\\Balamre\\Anaconda3\\lib\\site-packages\\sklearn\\ensemble\\forest.py:460: UserWarning: Some inputs do not have OOB scores. This probably means too few trees were used to compute any reliable oob estimates.\n",
      "  warn(\"Some inputs do not have OOB scores. \"\n",
      "C:\\Users\\Balamre\\Anaconda3\\lib\\site-packages\\sklearn\\ensemble\\forest.py:465: RuntimeWarning: invalid value encountered in true_divide\n",
      "  predictions[k].sum(axis=1)[:, np.newaxis])\n"
     ]
    },
    {
     "data": {
      "text/plain": [
       "RandomForestClassifier(bootstrap=True, class_weight=None, criterion='gini',\n",
       "                       max_depth=50, max_features='auto', max_leaf_nodes=None,\n",
       "                       min_impurity_decrease=0.0, min_impurity_split=None,\n",
       "                       min_samples_leaf=1, min_samples_split=2,\n",
       "                       min_weight_fraction_leaf=0.0, n_estimators=10,\n",
       "                       n_jobs=None, oob_score=True, random_state=None,\n",
       "                       verbose=0, warm_start=False)"
      ]
     },
     "execution_count": 132,
     "metadata": {},
     "output_type": "execute_result"
    }
   ],
   "source": [
    "rf.fit(train[predictors],train[target])"
   ]
  },
  {
   "cell_type": "code",
   "execution_count": 133,
   "metadata": {},
   "outputs": [],
   "source": [
    "rf_predictions_cv = rf.predict(train[predictors])"
   ]
  },
  {
   "cell_type": "code",
   "execution_count": 134,
   "metadata": {},
   "outputs": [
    {
     "name": "stderr",
     "output_type": "stream",
     "text": [
      "C:\\Users\\Balamre\\Anaconda3\\lib\\site-packages\\sklearn\\ensemble\\forest.py:460: UserWarning: Some inputs do not have OOB scores. This probably means too few trees were used to compute any reliable oob estimates.\n",
      "  warn(\"Some inputs do not have OOB scores. \"\n",
      "C:\\Users\\Balamre\\Anaconda3\\lib\\site-packages\\sklearn\\ensemble\\forest.py:465: RuntimeWarning: invalid value encountered in true_divide\n",
      "  predictions[k].sum(axis=1)[:, np.newaxis])\n",
      "C:\\Users\\Balamre\\Anaconda3\\lib\\site-packages\\sklearn\\ensemble\\forest.py:460: UserWarning: Some inputs do not have OOB scores. This probably means too few trees were used to compute any reliable oob estimates.\n",
      "  warn(\"Some inputs do not have OOB scores. \"\n",
      "C:\\Users\\Balamre\\Anaconda3\\lib\\site-packages\\sklearn\\ensemble\\forest.py:465: RuntimeWarning: invalid value encountered in true_divide\n",
      "  predictions[k].sum(axis=1)[:, np.newaxis])\n",
      "C:\\Users\\Balamre\\Anaconda3\\lib\\site-packages\\sklearn\\ensemble\\forest.py:460: UserWarning: Some inputs do not have OOB scores. This probably means too few trees were used to compute any reliable oob estimates.\n",
      "  warn(\"Some inputs do not have OOB scores. \"\n",
      "C:\\Users\\Balamre\\Anaconda3\\lib\\site-packages\\sklearn\\ensemble\\forest.py:465: RuntimeWarning: invalid value encountered in true_divide\n",
      "  predictions[k].sum(axis=1)[:, np.newaxis])\n",
      "C:\\Users\\Balamre\\Anaconda3\\lib\\site-packages\\sklearn\\ensemble\\forest.py:460: UserWarning: Some inputs do not have OOB scores. This probably means too few trees were used to compute any reliable oob estimates.\n",
      "  warn(\"Some inputs do not have OOB scores. \"\n",
      "C:\\Users\\Balamre\\Anaconda3\\lib\\site-packages\\sklearn\\ensemble\\forest.py:465: RuntimeWarning: invalid value encountered in true_divide\n",
      "  predictions[k].sum(axis=1)[:, np.newaxis])\n",
      "C:\\Users\\Balamre\\Anaconda3\\lib\\site-packages\\sklearn\\ensemble\\forest.py:460: UserWarning: Some inputs do not have OOB scores. This probably means too few trees were used to compute any reliable oob estimates.\n",
      "  warn(\"Some inputs do not have OOB scores. \"\n",
      "C:\\Users\\Balamre\\Anaconda3\\lib\\site-packages\\sklearn\\ensemble\\forest.py:465: RuntimeWarning: invalid value encountered in true_divide\n",
      "  predictions[k].sum(axis=1)[:, np.newaxis])\n",
      "C:\\Users\\Balamre\\Anaconda3\\lib\\site-packages\\sklearn\\ensemble\\forest.py:460: UserWarning: Some inputs do not have OOB scores. This probably means too few trees were used to compute any reliable oob estimates.\n",
      "  warn(\"Some inputs do not have OOB scores. \"\n",
      "C:\\Users\\Balamre\\Anaconda3\\lib\\site-packages\\sklearn\\ensemble\\forest.py:465: RuntimeWarning: invalid value encountered in true_divide\n",
      "  predictions[k].sum(axis=1)[:, np.newaxis])\n",
      "C:\\Users\\Balamre\\Anaconda3\\lib\\site-packages\\sklearn\\ensemble\\forest.py:460: UserWarning: Some inputs do not have OOB scores. This probably means too few trees were used to compute any reliable oob estimates.\n",
      "  warn(\"Some inputs do not have OOB scores. \"\n",
      "C:\\Users\\Balamre\\Anaconda3\\lib\\site-packages\\sklearn\\ensemble\\forest.py:465: RuntimeWarning: invalid value encountered in true_divide\n",
      "  predictions[k].sum(axis=1)[:, np.newaxis])\n",
      "C:\\Users\\Balamre\\Anaconda3\\lib\\site-packages\\sklearn\\ensemble\\forest.py:460: UserWarning: Some inputs do not have OOB scores. This probably means too few trees were used to compute any reliable oob estimates.\n",
      "  warn(\"Some inputs do not have OOB scores. \"\n",
      "C:\\Users\\Balamre\\Anaconda3\\lib\\site-packages\\sklearn\\ensemble\\forest.py:465: RuntimeWarning: invalid value encountered in true_divide\n",
      "  predictions[k].sum(axis=1)[:, np.newaxis])\n",
      "C:\\Users\\Balamre\\Anaconda3\\lib\\site-packages\\sklearn\\ensemble\\forest.py:460: UserWarning: Some inputs do not have OOB scores. This probably means too few trees were used to compute any reliable oob estimates.\n",
      "  warn(\"Some inputs do not have OOB scores. \"\n",
      "C:\\Users\\Balamre\\Anaconda3\\lib\\site-packages\\sklearn\\ensemble\\forest.py:465: RuntimeWarning: invalid value encountered in true_divide\n",
      "  predictions[k].sum(axis=1)[:, np.newaxis])\n",
      "C:\\Users\\Balamre\\Anaconda3\\lib\\site-packages\\sklearn\\ensemble\\forest.py:460: UserWarning: Some inputs do not have OOB scores. This probably means too few trees were used to compute any reliable oob estimates.\n",
      "  warn(\"Some inputs do not have OOB scores. \"\n",
      "C:\\Users\\Balamre\\Anaconda3\\lib\\site-packages\\sklearn\\ensemble\\forest.py:465: RuntimeWarning: invalid value encountered in true_divide\n",
      "  predictions[k].sum(axis=1)[:, np.newaxis])\n"
     ]
    }
   ],
   "source": [
    "cv_Score_rf = cross_val_score(rf,train[predictors],train[target],cv = 10,scoring = 'f1')"
   ]
  },
  {
   "cell_type": "code",
   "execution_count": 135,
   "metadata": {},
   "outputs": [],
   "source": [
    "cv_score_rf = np.sqrt(np.abs(cv_Score_rf))"
   ]
  },
  {
   "cell_type": "code",
   "execution_count": 136,
   "metadata": {},
   "outputs": [
    {
     "name": "stdout",
     "output_type": "stream",
     "text": [
      "\n",
      "Model Report\n",
      "RMSE : 0.1338\n",
      "CV Score : Mean - 0.912 | Std - 0.01935 | Min - 0.8889 | Max - 0.9524\n"
     ]
    }
   ],
   "source": [
    "  \n",
    "    #Print model report:\n",
    "print (\"\\nModel Report\")\n",
    "print (\"RMSE : %.4g\" % np.sqrt(metrics.mean_squared_error(train[target].values, rf_predictions_cv)))\n",
    "print (\"CV Score : Mean - %.4g | Std - %.4g | Min - %.4g | Max - %.4g\" % (np.mean(cv_score_rf),np.std(cv_score_rf),np.min(cv_score_rf),np.max(cv_score_rf)))"
   ]
  },
  {
   "cell_type": "code",
   "execution_count": 137,
   "metadata": {},
   "outputs": [
    {
     "data": {
      "text/plain": [
       "0.987012987012987"
      ]
     },
     "execution_count": 137,
     "metadata": {},
     "output_type": "execute_result"
    }
   ],
   "source": [
    "f1_score(train[target],rf_predictions_cv)"
   ]
  },
  {
   "cell_type": "code",
   "execution_count": 138,
   "metadata": {},
   "outputs": [
    {
     "data": {
      "text/plain": [
       "0.7198697068403909"
      ]
     },
     "execution_count": 138,
     "metadata": {},
     "output_type": "execute_result"
    }
   ],
   "source": [
    "rf.oob_score_"
   ]
  },
  {
   "cell_type": "code",
   "execution_count": 139,
   "metadata": {},
   "outputs": [],
   "source": [
    "#rf score and oob score should be as cloas as possible. oob score  is a score of subset of training data. and rf score is of the test data.\n",
    "#As we measure model performance based ont est data rf score should be higher cmpared ot oob score"
   ]
  },
  {
   "cell_type": "code",
   "execution_count": 140,
   "metadata": {},
   "outputs": [
    {
     "name": "stdout",
     "output_type": "stream",
     "text": [
      "              precision    recall  f1-score   support\n",
      "\n",
      "         0.0       0.98      0.96      0.97       192\n",
      "         1.0       0.98      0.99      0.99       422\n",
      "\n",
      "    accuracy                           0.98       614\n",
      "   macro avg       0.98      0.98      0.98       614\n",
      "weighted avg       0.98      0.98      0.98       614\n",
      "\n"
     ]
    }
   ],
   "source": [
    "print(classification_report(train[target], rf_predictions_cv))"
   ]
  },
  {
   "cell_type": "code",
   "execution_count": 141,
   "metadata": {},
   "outputs": [],
   "source": [
    "# DEcision tree"
   ]
  },
  {
   "cell_type": "code",
   "execution_count": 142,
   "metadata": {},
   "outputs": [],
   "source": [
    "from sklearn.tree import DecisionTreeClassifier"
   ]
  },
  {
   "cell_type": "code",
   "execution_count": 155,
   "metadata": {},
   "outputs": [],
   "source": [
    "decision_tree = DecisionTreeClassifier(random_state=0,max_depth = 50)"
   ]
  },
  {
   "cell_type": "code",
   "execution_count": 156,
   "metadata": {},
   "outputs": [
    {
     "data": {
      "text/plain": [
       "DecisionTreeClassifier(class_weight=None, criterion='gini', max_depth=50,\n",
       "                       max_features=None, max_leaf_nodes=None,\n",
       "                       min_impurity_decrease=0.0, min_impurity_split=None,\n",
       "                       min_samples_leaf=1, min_samples_split=2,\n",
       "                       min_weight_fraction_leaf=0.0, presort=False,\n",
       "                       random_state=0, splitter='best')"
      ]
     },
     "execution_count": 156,
     "metadata": {},
     "output_type": "execute_result"
    }
   ],
   "source": [
    "decision_tree.fit(X_train,Y_train)"
   ]
  },
  {
   "cell_type": "code",
   "execution_count": 157,
   "metadata": {},
   "outputs": [],
   "source": [
    "dt_predictions = decision_tree.predict(X_test)"
   ]
  },
  {
   "cell_type": "code",
   "execution_count": 158,
   "metadata": {},
   "outputs": [
    {
     "data": {
      "text/plain": [
       "0.6594594594594595"
      ]
     },
     "execution_count": 158,
     "metadata": {},
     "output_type": "execute_result"
    }
   ],
   "source": [
    "decision_tree.score(X_test,y_test)"
   ]
  },
  {
   "cell_type": "code",
   "execution_count": 159,
   "metadata": {},
   "outputs": [
    {
     "data": {
      "text/plain": [
       "0.7428571428571428"
      ]
     },
     "execution_count": 159,
     "metadata": {},
     "output_type": "execute_result"
    }
   ],
   "source": [
    "f1_score(y_test,dt_predictions)"
   ]
  },
  {
   "cell_type": "code",
   "execution_count": 160,
   "metadata": {},
   "outputs": [
    {
     "name": "stdout",
     "output_type": "stream",
     "text": [
      "              precision    recall  f1-score   support\n",
      "\n",
      "         0.0       0.42      0.61      0.50        51\n",
      "         1.0       0.82      0.68      0.74       134\n",
      "\n",
      "    accuracy                           0.66       185\n",
      "   macro avg       0.62      0.64      0.62       185\n",
      "weighted avg       0.71      0.66      0.67       185\n",
      "\n"
     ]
    }
   ],
   "source": [
    "print(classification_report(y_test,dt_predictions))"
   ]
  },
  {
   "cell_type": "code",
   "execution_count": 161,
   "metadata": {},
   "outputs": [],
   "source": [
    "#cv decision tree"
   ]
  },
  {
   "cell_type": "code",
   "execution_count": 162,
   "metadata": {},
   "outputs": [
    {
     "data": {
      "text/plain": [
       "DecisionTreeClassifier(class_weight=None, criterion='gini', max_depth=50,\n",
       "                       max_features=None, max_leaf_nodes=None,\n",
       "                       min_impurity_decrease=0.0, min_impurity_split=None,\n",
       "                       min_samples_leaf=1, min_samples_split=2,\n",
       "                       min_weight_fraction_leaf=0.0, presort=False,\n",
       "                       random_state=0, splitter='best')"
      ]
     },
     "execution_count": 162,
     "metadata": {},
     "output_type": "execute_result"
    }
   ],
   "source": [
    "decision_tree.fit(train[predictors],train[target])"
   ]
  },
  {
   "cell_type": "code",
   "execution_count": 163,
   "metadata": {},
   "outputs": [],
   "source": [
    "dt_predictions_cv = decision_tree.predict(train[predictors])"
   ]
  },
  {
   "cell_type": "code",
   "execution_count": 170,
   "metadata": {},
   "outputs": [],
   "source": [
    "cv_Score_dt = cross_val_score(decision_tree,train[predictors],train[target],cv = 20,scoring = 'precision')"
   ]
  },
  {
   "cell_type": "code",
   "execution_count": 171,
   "metadata": {},
   "outputs": [],
   "source": [
    "cv_score_dt = np.sqrt(np.abs(cv_Score_dt))"
   ]
  },
  {
   "cell_type": "code",
   "execution_count": 172,
   "metadata": {},
   "outputs": [
    {
     "name": "stdout",
     "output_type": "stream",
     "text": [
      "\n",
      "Model Report\n",
      "RMSE : 0\n",
      "CV Score : Mean - 0.8906 | Std - 0.03728 | Min - 0.8076 | Max - 0.9459\n"
     ]
    }
   ],
   "source": [
    "  \n",
    "    #Print model report:\n",
    "print (\"\\nModel Report\")\n",
    "print (\"RMSE : %.4g\" % np.sqrt(metrics.mean_squared_error(train[target].values, dt_predictions_cv)))\n",
    "print (\"CV Score : Mean - %.4g | Std - %.4g | Min - %.4g | Max - %.4g\" % (np.mean(cv_score_dt),np.std(cv_score_dt),np.min(cv_score_dt),np.max(cv_score_dt)))"
   ]
  },
  {
   "cell_type": "code",
   "execution_count": 173,
   "metadata": {},
   "outputs": [
    {
     "data": {
      "text/plain": [
       "1.0"
      ]
     },
     "execution_count": 173,
     "metadata": {},
     "output_type": "execute_result"
    }
   ],
   "source": [
    "f1_score(train[target],dt_predictions_cv)"
   ]
  },
  {
   "cell_type": "code",
   "execution_count": 174,
   "metadata": {},
   "outputs": [
    {
     "name": "stdout",
     "output_type": "stream",
     "text": [
      "              precision    recall  f1-score   support\n",
      "\n",
      "         0.0       1.00      1.00      1.00       192\n",
      "         1.0       1.00      1.00      1.00       422\n",
      "\n",
      "    accuracy                           1.00       614\n",
      "   macro avg       1.00      1.00      1.00       614\n",
      "weighted avg       1.00      1.00      1.00       614\n",
      "\n"
     ]
    }
   ],
   "source": [
    "print(classification_report(train[target], dt_predictions_cv))"
   ]
  },
  {
   "cell_type": "code",
   "execution_count": 175,
   "metadata": {},
   "outputs": [
    {
     "data": {
      "text/plain": [
       "[Text(80.90877692885772, 212.26285714285714, 'X[0] <= 0.5\\ngini = 0.43\\nsamples = 614\\nvalue = [192, 422]'),\n",
       " Text(10.73507014028056, 201.90857142857143, 'X[4] <= 547.5\\ngini = 0.145\\nsamples = 89\\nvalue = [82, 7]'),\n",
       " Text(8.05130260521042, 191.5542857142857, 'X[9] <= 4895.5\\ngini = 0.127\\nsamples = 88\\nvalue = [82, 6]'),\n",
       " Text(5.36753507014028, 181.2, 'gini = 0.0\\nsamples = 35\\nvalue = [35, 0]'),\n",
       " Text(10.73507014028056, 181.2, 'X[9] <= 4974.5\\ngini = 0.201\\nsamples = 53\\nvalue = [47, 6]'),\n",
       " Text(5.36753507014028, 170.84571428571428, 'X[9] <= 4934.0\\ngini = 0.375\\nsamples = 4\\nvalue = [1, 3]'),\n",
       " Text(2.68376753507014, 160.49142857142857, 'gini = 0.0\\nsamples = 2\\nvalue = [0, 2]'),\n",
       " Text(8.05130260521042, 160.49142857142857, 'X[5] <= 270.0\\ngini = 0.5\\nsamples = 2\\nvalue = [1, 1]'),\n",
       " Text(5.36753507014028, 150.13714285714286, 'gini = 0.0\\nsamples = 1\\nvalue = [0, 1]'),\n",
       " Text(10.73507014028056, 150.13714285714286, 'gini = 0.0\\nsamples = 1\\nvalue = [1, 0]'),\n",
       " Text(16.10260521042084, 170.84571428571428, 'X[9] <= 6120.0\\ngini = 0.115\\nsamples = 49\\nvalue = [46, 3]'),\n",
       " Text(13.418837675350701, 160.49142857142857, 'gini = 0.0\\nsamples = 21\\nvalue = [21, 0]'),\n",
       " Text(18.786372745490983, 160.49142857142857, 'X[9] <= 6145.0\\ngini = 0.191\\nsamples = 28\\nvalue = [25, 3]'),\n",
       " Text(16.10260521042084, 150.13714285714286, 'gini = 0.0\\nsamples = 1\\nvalue = [0, 1]'),\n",
       " Text(21.47014028056112, 150.13714285714286, 'X[3] <= 0.5\\ngini = 0.137\\nsamples = 27\\nvalue = [25, 2]'),\n",
       " Text(16.10260521042084, 139.78285714285715, 'X[6] <= 0.5\\ngini = 0.5\\nsamples = 2\\nvalue = [1, 1]'),\n",
       " Text(13.418837675350701, 129.42857142857144, 'gini = 0.0\\nsamples = 1\\nvalue = [0, 1]'),\n",
       " Text(18.786372745490983, 129.42857142857144, 'gini = 0.0\\nsamples = 1\\nvalue = [1, 0]'),\n",
       " Text(26.837675350701403, 139.78285714285715, 'X[2] <= 0.5\\ngini = 0.077\\nsamples = 25\\nvalue = [24, 1]'),\n",
       " Text(24.15390781563126, 129.42857142857144, 'gini = 0.0\\nsamples = 19\\nvalue = [19, 0]'),\n",
       " Text(29.521442885771542, 129.42857142857144, 'X[4] <= 159.5\\ngini = 0.278\\nsamples = 6\\nvalue = [5, 1]'),\n",
       " Text(26.837675350701403, 119.07428571428571, 'gini = 0.0\\nsamples = 5\\nvalue = [5, 0]'),\n",
       " Text(32.20521042084168, 119.07428571428571, 'gini = 0.0\\nsamples = 1\\nvalue = [0, 1]'),\n",
       " Text(13.418837675350701, 191.5542857142857, 'gini = 0.0\\nsamples = 1\\nvalue = [0, 1]'),\n",
       " Text(151.08248371743485, 201.90857142857143, 'X[9] <= 2381.5\\ngini = 0.331\\nsamples = 525\\nvalue = [110, 415]'),\n",
       " Text(66.737750501002, 191.5542857142857, 'X[3] <= 0.5\\ngini = 0.42\\nsamples = 10\\nvalue = [7, 3]'),\n",
       " Text(64.05398296593187, 181.2, 'X[9] <= 2295.5\\ngini = 0.48\\nsamples = 5\\nvalue = [2, 3]'),\n",
       " Text(61.37021543086172, 170.84571428571428, 'gini = 0.0\\nsamples = 3\\nvalue = [0, 3]'),\n",
       " Text(66.737750501002, 170.84571428571428, 'gini = 0.0\\nsamples = 2\\nvalue = [2, 0]'),\n",
       " Text(69.42151803607214, 181.2, 'gini = 0.0\\nsamples = 5\\nvalue = [5, 0]'),\n",
       " Text(235.42721693386773, 191.5542857142857, 'X[9] <= 20199.5\\ngini = 0.32\\nsamples = 515\\nvalue = [103, 412]'),\n",
       " Text(149.47327154308616, 181.2, 'X[6] <= 0.5\\ngini = 0.308\\nsamples = 500\\nvalue = [95, 405]'),\n",
       " Text(72.10528557114229, 170.84571428571428, 'X[4] <= 61.0\\ngini = 0.379\\nsamples = 169\\nvalue = [43, 126]'),\n",
       " Text(69.42151803607214, 160.49142857142857, 'gini = 0.0\\nsamples = 16\\nvalue = [0, 16]'),\n",
       " Text(74.78905310621242, 160.49142857142857, 'X[4] <= 83.5\\ngini = 0.404\\nsamples = 153\\nvalue = [43, 110]'),\n",
       " Text(45.62404809619238, 150.13714285714286, 'X[2] <= 0.5\\ngini = 0.499\\nsamples = 21\\nvalue = [11, 10]'),\n",
       " Text(42.94028056112224, 139.78285714285715, 'X[9] <= 4441.5\\ngini = 0.484\\nsamples = 17\\nvalue = [7, 10]'),\n",
       " Text(40.256513026052104, 129.42857142857144, 'X[7] <= 1.5\\ngini = 0.408\\nsamples = 14\\nvalue = [4, 10]'),\n",
       " Text(37.572745490981966, 119.07428571428571, 'gini = 0.0\\nsamples = 5\\nvalue = [0, 5]'),\n",
       " Text(42.94028056112224, 119.07428571428571, 'X[3] <= 0.5\\ngini = 0.494\\nsamples = 9\\nvalue = [4, 5]'),\n",
       " Text(40.256513026052104, 108.72, 'gini = 0.0\\nsamples = 2\\nvalue = [0, 2]'),\n",
       " Text(45.62404809619238, 108.72, 'X[4] <= 74.5\\ngini = 0.49\\nsamples = 7\\nvalue = [4, 3]'),\n",
       " Text(42.94028056112224, 98.36571428571429, 'X[9] <= 3250.0\\ngini = 0.48\\nsamples = 5\\nvalue = [2, 3]'),\n",
       " Text(40.256513026052104, 88.01142857142858, 'X[9] <= 2951.0\\ngini = 0.444\\nsamples = 3\\nvalue = [2, 1]'),\n",
       " Text(37.572745490981966, 77.65714285714284, 'gini = 0.0\\nsamples = 1\\nvalue = [0, 1]'),\n",
       " Text(42.94028056112224, 77.65714285714284, 'gini = 0.0\\nsamples = 2\\nvalue = [2, 0]'),\n",
       " Text(45.62404809619238, 88.01142857142858, 'gini = 0.0\\nsamples = 2\\nvalue = [0, 2]'),\n",
       " Text(48.30781563126252, 98.36571428571429, 'gini = 0.0\\nsamples = 2\\nvalue = [2, 0]'),\n",
       " Text(45.62404809619238, 129.42857142857144, 'gini = 0.0\\nsamples = 3\\nvalue = [3, 0]'),\n",
       " Text(48.30781563126252, 139.78285714285715, 'gini = 0.0\\nsamples = 4\\nvalue = [4, 0]'),\n",
       " Text(103.95405811623246, 150.13714285714286, 'X[4] <= 150.333\\ngini = 0.367\\nsamples = 132\\nvalue = [32, 100]'),\n",
       " Text(71.70691382765531, 139.78285714285715, 'X[9] <= 3589.5\\ngini = 0.29\\nsamples = 91\\nvalue = [16, 75]'),\n",
       " Text(61.72665330661322, 129.42857142857144, 'X[4] <= 124.5\\ngini = 0.49\\nsamples = 14\\nvalue = [6, 8]'),\n",
       " Text(59.042885771543084, 119.07428571428571, 'X[4] <= 97.0\\ngini = 0.397\\nsamples = 11\\nvalue = [3, 8]'),\n",
       " Text(56.359118236472945, 108.72, 'X[4] <= 94.0\\ngini = 0.5\\nsamples = 6\\nvalue = [3, 3]'),\n",
       " Text(53.675350701402806, 98.36571428571429, 'gini = 0.0\\nsamples = 3\\nvalue = [0, 3]'),\n",
       " Text(59.042885771543084, 98.36571428571429, 'gini = 0.0\\nsamples = 3\\nvalue = [3, 0]'),\n",
       " Text(61.72665330661322, 108.72, 'gini = 0.0\\nsamples = 5\\nvalue = [0, 5]'),\n",
       " Text(64.41042084168336, 119.07428571428571, 'gini = 0.0\\nsamples = 3\\nvalue = [3, 0]'),\n",
       " Text(81.6871743486974, 129.42857142857144, 'X[5] <= 320.751\\ngini = 0.226\\nsamples = 77\\nvalue = [10, 67]'),\n",
       " Text(71.79078156312625, 119.07428571428571, 'X[9] <= 4065.0\\ngini = 0.48\\nsamples = 5\\nvalue = [2, 3]'),\n",
       " Text(69.10701402805611, 108.72, 'gini = 0.0\\nsamples = 3\\nvalue = [0, 3]'),\n",
       " Text(74.47454909819639, 108.72, 'gini = 0.0\\nsamples = 2\\nvalue = [2, 0]'),\n",
       " Text(91.58356713426853, 119.07428571428571, 'X[5] <= 420.0\\ngini = 0.198\\nsamples = 72\\nvalue = [8, 64]'),\n",
       " Text(79.84208416833667, 108.72, 'X[7] <= 0.5\\ngini = 0.18\\nsamples = 70\\nvalue = [7, 63]'),\n",
       " Text(64.41042084168336, 98.36571428571429, 'X[9] <= 7266.5\\ngini = 0.302\\nsamples = 27\\nvalue = [5, 22]'),\n",
       " Text(61.72665330661322, 88.01142857142858, 'X[4] <= 107.5\\ngini = 0.26\\nsamples = 26\\nvalue = [4, 22]'),\n",
       " Text(49.649699398797594, 77.65714285714284, 'X[4] <= 96.5\\ngini = 0.48\\nsamples = 5\\nvalue = [2, 3]'),\n",
       " Text(46.965931863727455, 67.30285714285714, 'gini = 0.0\\nsamples = 2\\nvalue = [0, 2]'),\n",
       " Text(52.33346693386773, 67.30285714285714, 'X[9] <= 4721.0\\ngini = 0.444\\nsamples = 3\\nvalue = [2, 1]'),\n",
       " Text(49.649699398797594, 56.94857142857143, 'gini = 0.0\\nsamples = 1\\nvalue = [1, 0]'),\n",
       " Text(55.01723446893787, 56.94857142857143, 'X[8] <= 0.5\\ngini = 0.5\\nsamples = 2\\nvalue = [1, 1]'),\n",
       " Text(52.33346693386773, 46.59428571428572, 'gini = 0.0\\nsamples = 1\\nvalue = [1, 0]'),\n",
       " Text(57.70100200400802, 46.59428571428572, 'gini = 0.0\\nsamples = 1\\nvalue = [0, 1]'),\n",
       " Text(73.80360721442885, 77.65714285714284, 'X[9] <= 6183.5\\ngini = 0.172\\nsamples = 21\\nvalue = [2, 19]'),\n",
       " Text(68.43607214428857, 67.30285714285714, 'X[4] <= 117.0\\ngini = 0.111\\nsamples = 17\\nvalue = [1, 16]'),\n",
       " Text(65.75230460921844, 56.94857142857143, 'X[4] <= 113.0\\ngini = 0.32\\nsamples = 5\\nvalue = [1, 4]'),\n",
       " Text(63.068537074148296, 46.59428571428572, 'gini = 0.0\\nsamples = 4\\nvalue = [0, 4]'),\n",
       " Text(68.43607214428857, 46.59428571428572, 'gini = 0.0\\nsamples = 1\\nvalue = [1, 0]'),\n",
       " Text(71.11983967935872, 56.94857142857143, 'gini = 0.0\\nsamples = 12\\nvalue = [0, 12]'),\n",
       " Text(79.17114228456914, 67.30285714285714, 'X[9] <= 6358.0\\ngini = 0.375\\nsamples = 4\\nvalue = [1, 3]'),\n",
       " Text(76.487374749499, 56.94857142857143, 'gini = 0.0\\nsamples = 1\\nvalue = [1, 0]'),\n",
       " Text(81.85490981963927, 56.94857142857143, 'gini = 0.0\\nsamples = 3\\nvalue = [0, 3]'),\n",
       " Text(67.09418837675351, 88.01142857142858, 'gini = 0.0\\nsamples = 1\\nvalue = [1, 0]'),\n",
       " Text(95.27374749498998, 98.36571428571429, 'X[9] <= 6733.5\\ngini = 0.089\\nsamples = 43\\nvalue = [2, 41]'),\n",
       " Text(89.9062124248497, 88.01142857142858, 'X[9] <= 4249.5\\ngini = 0.054\\nsamples = 36\\nvalue = [1, 35]'),\n",
       " Text(87.22244488977955, 77.65714285714284, 'X[9] <= 4226.5\\ngini = 0.18\\nsamples = 10\\nvalue = [1, 9]'),\n",
       " Text(84.53867735470942, 67.30285714285714, 'gini = 0.0\\nsamples = 9\\nvalue = [0, 9]'),\n",
       " Text(89.9062124248497, 67.30285714285714, 'gini = 0.0\\nsamples = 1\\nvalue = [1, 0]'),\n",
       " Text(92.58997995991983, 77.65714285714284, 'gini = 0.0\\nsamples = 26\\nvalue = [0, 26]'),\n",
       " Text(100.64128256513025, 88.01142857142858, 'X[9] <= 6775.0\\ngini = 0.245\\nsamples = 7\\nvalue = [1, 6]'),\n",
       " Text(97.95751503006012, 77.65714285714284, 'gini = 0.0\\nsamples = 1\\nvalue = [1, 0]'),\n",
       " Text(103.3250501002004, 77.65714285714284, 'gini = 0.0\\nsamples = 6\\nvalue = [0, 6]'),\n",
       " Text(103.3250501002004, 108.72, 'X[7] <= 1.0\\ngini = 0.5\\nsamples = 2\\nvalue = [1, 1]'),\n",
       " Text(100.64128256513025, 98.36571428571429, 'gini = 0.0\\nsamples = 1\\nvalue = [0, 1]'),\n",
       " Text(106.00881763527053, 98.36571428571429, 'gini = 0.0\\nsamples = 1\\nvalue = [1, 0]'),\n",
       " Text(136.2012024048096, 139.78285714285715, 'X[0] <= 1.5\\ngini = 0.476\\nsamples = 41\\nvalue = [16, 25]'),\n",
       " Text(128.82084168336672, 129.42857142857144, 'X[4] <= 302.0\\ngini = 0.456\\nsamples = 37\\nvalue = [13, 24]'),\n",
       " Text(122.11142284569138, 119.07428571428571, 'X[3] <= 0.5\\ngini = 0.422\\nsamples = 33\\nvalue = [10, 23]'),\n",
       " Text(116.7438877755511, 108.72, 'X[4] <= 240.0\\ngini = 0.5\\nsamples = 12\\nvalue = [6, 6]'),\n",
       " Text(114.06012024048096, 98.36571428571429, 'X[2] <= 0.5\\ngini = 0.444\\nsamples = 9\\nvalue = [6, 3]'),\n",
       " Text(111.37635270541082, 88.01142857142858, 'X[7] <= 1.5\\ngini = 0.245\\nsamples = 7\\nvalue = [6, 1]'),\n",
       " Text(108.69258517034068, 77.65714285714284, 'gini = 0.0\\nsamples = 5\\nvalue = [5, 0]'),\n",
       " Text(114.06012024048096, 77.65714285714284, 'X[1] <= 0.5\\ngini = 0.5\\nsamples = 2\\nvalue = [1, 1]'),\n",
       " Text(111.37635270541082, 67.30285714285714, 'gini = 0.0\\nsamples = 1\\nvalue = [0, 1]'),\n",
       " Text(116.7438877755511, 67.30285714285714, 'gini = 0.0\\nsamples = 1\\nvalue = [1, 0]'),\n",
       " Text(116.7438877755511, 88.01142857142858, 'gini = 0.0\\nsamples = 2\\nvalue = [0, 2]'),\n",
       " Text(119.42765531062123, 98.36571428571429, 'gini = 0.0\\nsamples = 3\\nvalue = [0, 3]'),\n",
       " Text(127.47895791583166, 108.72, 'X[7] <= 0.5\\ngini = 0.308\\nsamples = 21\\nvalue = [4, 17]'),\n",
       " Text(124.79519038076153, 98.36571428571429, 'gini = 0.0\\nsamples = 7\\nvalue = [0, 7]'),\n",
       " Text(130.1627254509018, 98.36571428571429, 'X[9] <= 11688.0\\ngini = 0.408\\nsamples = 14\\nvalue = [4, 10]'),\n",
       " Text(127.47895791583166, 88.01142857142858, 'X[4] <= 175.5\\ngini = 0.355\\nsamples = 13\\nvalue = [3, 10]'),\n",
       " Text(124.79519038076153, 77.65714285714284, 'gini = 0.0\\nsamples = 5\\nvalue = [0, 5]'),\n",
       " Text(130.1627254509018, 77.65714285714284, 'X[9] <= 8533.0\\ngini = 0.469\\nsamples = 8\\nvalue = [3, 5]'),\n",
       " Text(127.47895791583166, 67.30285714285714, 'gini = 0.0\\nsamples = 2\\nvalue = [2, 0]'),\n",
       " Text(132.84649298597193, 67.30285714285714, 'X[7] <= 1.5\\ngini = 0.278\\nsamples = 6\\nvalue = [1, 5]'),\n",
       " Text(130.1627254509018, 56.94857142857143, 'gini = 0.0\\nsamples = 3\\nvalue = [0, 3]'),\n",
       " Text(135.53026052104207, 56.94857142857143, 'X[4] <= 227.0\\ngini = 0.444\\nsamples = 3\\nvalue = [1, 2]'),\n",
       " Text(132.84649298597193, 46.59428571428572, 'gini = 0.0\\nsamples = 2\\nvalue = [0, 2]'),\n",
       " Text(138.21402805611223, 46.59428571428572, 'gini = 0.0\\nsamples = 1\\nvalue = [1, 0]'),\n",
       " Text(132.84649298597193, 88.01142857142858, 'gini = 0.0\\nsamples = 1\\nvalue = [1, 0]'),\n",
       " Text(135.53026052104207, 119.07428571428571, 'X[7] <= 0.5\\ngini = 0.375\\nsamples = 4\\nvalue = [3, 1]'),\n",
       " Text(132.84649298597193, 108.72, 'gini = 0.0\\nsamples = 3\\nvalue = [3, 0]'),\n",
       " Text(138.21402805611223, 108.72, 'gini = 0.0\\nsamples = 1\\nvalue = [0, 1]'),\n",
       " Text(143.5815631262525, 129.42857142857144, 'X[4] <= 423.0\\ngini = 0.375\\nsamples = 4\\nvalue = [3, 1]'),\n",
       " Text(140.89779559118236, 119.07428571428571, 'gini = 0.0\\nsamples = 3\\nvalue = [3, 0]'),\n",
       " Text(146.26533066132265, 119.07428571428571, 'gini = 0.0\\nsamples = 1\\nvalue = [0, 1]'),\n",
       " Text(226.84125751503007, 170.84571428571428, 'X[4] <= 132.0\\ngini = 0.265\\nsamples = 331\\nvalue = [52, 279]'),\n",
       " Text(177.96733466933867, 160.49142857142857, 'X[4] <= 94.5\\ngini = 0.188\\nsamples = 162\\nvalue = [17, 145]'),\n",
       " Text(163.70981963927855, 150.13714285714286, 'X[7] <= 0.5\\ngini = 0.303\\nsamples = 43\\nvalue = [8, 35]'),\n",
       " Text(157.0004008016032, 139.78285714285715, 'X[2] <= 0.5\\ngini = 0.5\\nsamples = 8\\nvalue = [4, 4]'),\n",
       " Text(154.31663326653307, 129.42857142857144, 'X[9] <= 4552.0\\ngini = 0.444\\nsamples = 6\\nvalue = [2, 4]'),\n",
       " Text(151.6328657314629, 119.07428571428571, 'gini = 0.0\\nsamples = 4\\nvalue = [0, 4]'),\n",
       " Text(157.0004008016032, 119.07428571428571, 'gini = 0.0\\nsamples = 2\\nvalue = [2, 0]'),\n",
       " Text(159.68416833667334, 129.42857142857144, 'gini = 0.0\\nsamples = 2\\nvalue = [2, 0]'),\n",
       " Text(170.4192384769539, 139.78285714285715, 'X[4] <= 92.0\\ngini = 0.202\\nsamples = 35\\nvalue = [4, 31]'),\n",
       " Text(165.05170340681363, 129.42857142857144, 'X[9] <= 3776.0\\ngini = 0.165\\nsamples = 33\\nvalue = [3, 30]'),\n",
       " Text(162.36793587174347, 119.07428571428571, 'gini = 0.0\\nsamples = 13\\nvalue = [0, 13]'),\n",
       " Text(167.73547094188376, 119.07428571428571, 'X[9] <= 3887.5\\ngini = 0.255\\nsamples = 20\\nvalue = [3, 17]'),\n",
       " Text(165.05170340681363, 108.72, 'gini = 0.0\\nsamples = 1\\nvalue = [1, 0]'),\n",
       " Text(170.4192384769539, 108.72, 'X[1] <= 0.5\\ngini = 0.188\\nsamples = 19\\nvalue = [2, 17]'),\n",
       " Text(167.73547094188376, 98.36571428571429, 'X[2] <= 0.5\\ngini = 0.375\\nsamples = 8\\nvalue = [2, 6]'),\n",
       " Text(165.05170340681363, 88.01142857142858, 'X[4] <= 71.5\\ngini = 0.245\\nsamples = 7\\nvalue = [1, 6]'),\n",
       " Text(162.36793587174347, 77.65714285714284, 'X[5] <= 260.751\\ngini = 0.444\\nsamples = 3\\nvalue = [1, 2]'),\n",
       " Text(159.68416833667334, 67.30285714285714, 'X[4] <= 63.0\\ngini = 0.5\\nsamples = 2\\nvalue = [1, 1]'),\n",
       " Text(157.0004008016032, 56.94857142857143, 'gini = 0.0\\nsamples = 1\\nvalue = [0, 1]'),\n",
       " Text(162.36793587174347, 56.94857142857143, 'gini = 0.0\\nsamples = 1\\nvalue = [1, 0]'),\n",
       " Text(165.05170340681363, 67.30285714285714, 'gini = 0.0\\nsamples = 1\\nvalue = [0, 1]'),\n",
       " Text(167.73547094188376, 77.65714285714284, 'gini = 0.0\\nsamples = 4\\nvalue = [0, 4]'),\n",
       " Text(170.4192384769539, 88.01142857142858, 'gini = 0.0\\nsamples = 1\\nvalue = [1, 0]'),\n",
       " Text(173.10300601202405, 98.36571428571429, 'gini = 0.0\\nsamples = 11\\nvalue = [0, 11]'),\n",
       " Text(175.78677354709419, 129.42857142857144, 'X[2] <= 0.5\\ngini = 0.5\\nsamples = 2\\nvalue = [1, 1]'),\n",
       " Text(173.10300601202405, 119.07428571428571, 'gini = 0.0\\nsamples = 1\\nvalue = [1, 0]'),\n",
       " Text(178.47054108216432, 119.07428571428571, 'gini = 0.0\\nsamples = 1\\nvalue = [0, 1]'),\n",
       " Text(192.2248496993988, 150.13714285714286, 'X[9] <= 4555.5\\ngini = 0.14\\nsamples = 119\\nvalue = [9, 110]'),\n",
       " Text(183.8380761523046, 139.78285714285715, 'X[8] <= 0.5\\ngini = 0.042\\nsamples = 47\\nvalue = [1, 46]'),\n",
       " Text(181.15430861723448, 129.42857142857144, 'gini = 0.0\\nsamples = 44\\nvalue = [0, 44]'),\n",
       " Text(186.52184368737474, 129.42857142857144, 'X[4] <= 103.5\\ngini = 0.444\\nsamples = 3\\nvalue = [1, 2]'),\n",
       " Text(183.8380761523046, 119.07428571428571, 'gini = 0.0\\nsamples = 2\\nvalue = [0, 2]'),\n",
       " Text(189.20561122244487, 119.07428571428571, 'gini = 0.0\\nsamples = 1\\nvalue = [1, 0]'),\n",
       " Text(200.61162324649297, 139.78285714285715, 'X[9] <= 4566.5\\ngini = 0.198\\nsamples = 72\\nvalue = [8, 64]'),\n",
       " Text(197.92785571142284, 129.42857142857144, 'gini = 0.0\\nsamples = 1\\nvalue = [1, 0]'),\n",
       " Text(203.29539078156313, 129.42857142857144, 'X[3] <= 0.5\\ngini = 0.178\\nsamples = 71\\nvalue = [7, 64]'),\n",
       " Text(194.57314629258516, 119.07428571428571, 'X[0] <= 1.5\\ngini = 0.48\\nsamples = 5\\nvalue = [2, 3]'),\n",
       " Text(191.88937875751503, 108.72, 'X[9] <= 6800.0\\ngini = 0.444\\nsamples = 3\\nvalue = [2, 1]'),\n",
       " Text(189.20561122244487, 98.36571428571429, 'gini = 0.0\\nsamples = 2\\nvalue = [2, 0]'),\n",
       " Text(194.57314629258516, 98.36571428571429, 'gini = 0.0\\nsamples = 1\\nvalue = [0, 1]'),\n",
       " Text(197.2569138276553, 108.72, 'gini = 0.0\\nsamples = 2\\nvalue = [0, 2]'),\n",
       " Text(212.01763527054106, 119.07428571428571, 'X[1] <= 0.5\\ngini = 0.14\\nsamples = 66\\nvalue = [5, 61]'),\n",
       " Text(202.6244488977956, 108.72, 'X[9] <= 6540.0\\ngini = 0.054\\nsamples = 36\\nvalue = [1, 35]'),\n",
       " Text(199.94068136272546, 98.36571428571429, 'gini = 0.0\\nsamples = 29\\nvalue = [0, 29]'),\n",
       " Text(205.30821643286572, 98.36571428571429, 'X[9] <= 6875.0\\ngini = 0.245\\nsamples = 7\\nvalue = [1, 6]'),\n",
       " Text(202.6244488977956, 88.01142857142858, 'gini = 0.0\\nsamples = 1\\nvalue = [1, 0]'),\n",
       " Text(207.99198396793588, 88.01142857142858, 'gini = 0.0\\nsamples = 6\\nvalue = [0, 6]'),\n",
       " Text(221.41082164328657, 108.72, 'X[4] <= 127.0\\ngini = 0.231\\nsamples = 30\\nvalue = [4, 26]'),\n",
       " Text(216.04328657314628, 98.36571428571429, 'X[1] <= 1.5\\ngini = 0.1\\nsamples = 19\\nvalue = [1, 18]'),\n",
       " Text(213.35951903807614, 88.01142857142858, 'X[9] <= 4832.0\\ngini = 0.375\\nsamples = 4\\nvalue = [1, 3]'),\n",
       " Text(210.675751503006, 77.65714285714284, 'gini = 0.0\\nsamples = 2\\nvalue = [0, 2]'),\n",
       " Text(216.04328657314628, 77.65714285714284, 'X[4] <= 112.0\\ngini = 0.5\\nsamples = 2\\nvalue = [1, 1]'),\n",
       " Text(213.35951903807614, 67.30285714285714, 'gini = 0.0\\nsamples = 1\\nvalue = [0, 1]'),\n",
       " Text(218.72705410821644, 67.30285714285714, 'gini = 0.0\\nsamples = 1\\nvalue = [1, 0]'),\n",
       " Text(218.72705410821644, 88.01142857142858, 'gini = 0.0\\nsamples = 15\\nvalue = [0, 15]'),\n",
       " Text(226.77835671342686, 98.36571428571429, 'X[4] <= 129.5\\ngini = 0.397\\nsamples = 11\\nvalue = [3, 8]'),\n",
       " Text(224.0945891783567, 88.01142857142858, 'X[7] <= 1.5\\ngini = 0.5\\nsamples = 6\\nvalue = [3, 3]'),\n",
       " Text(221.41082164328657, 77.65714285714284, 'gini = 0.0\\nsamples = 3\\nvalue = [3, 0]'),\n",
       " Text(226.77835671342686, 77.65714285714284, 'gini = 0.0\\nsamples = 3\\nvalue = [0, 3]'),\n",
       " Text(229.462124248497, 88.01142857142858, 'gini = 0.0\\nsamples = 5\\nvalue = [0, 5]'),\n",
       " Text(275.71518036072143, 160.49142857142857, 'X[9] <= 4560.0\\ngini = 0.328\\nsamples = 169\\nvalue = [35, 134]'),\n",
       " Text(255.2933867735471, 150.13714285714286, 'X[4] <= 150.256\\ngini = 0.463\\nsamples = 11\\nvalue = [7, 4]'),\n",
       " Text(252.60961923847694, 139.78285714285715, 'X[9] <= 3876.0\\ngini = 0.49\\nsamples = 7\\nvalue = [3, 4]'),\n",
       " Text(249.9258517034068, 129.42857142857144, 'gini = 0.0\\nsamples = 3\\nvalue = [0, 3]'),\n",
       " Text(255.2933867735471, 129.42857142857144, 'X[1] <= 0.5\\ngini = 0.375\\nsamples = 4\\nvalue = [3, 1]'),\n",
       " Text(252.60961923847694, 119.07428571428571, 'gini = 0.0\\nsamples = 1\\nvalue = [0, 1]'),\n",
       " Text(257.97715430861723, 119.07428571428571, 'gini = 0.0\\nsamples = 3\\nvalue = [3, 0]'),\n",
       " Text(257.97715430861723, 139.78285714285715, 'gini = 0.0\\nsamples = 4\\nvalue = [4, 0]'),\n",
       " Text(296.1369739478958, 150.13714285714286, 'X[0] <= 1.5\\ngini = 0.292\\nsamples = 158\\nvalue = [28, 130]'),\n",
       " Text(278.9440881763527, 139.78285714285715, 'X[5] <= 132.0\\ngini = 0.262\\nsamples = 142\\nvalue = [22, 120]'),\n",
       " Text(276.26032064128253, 129.42857142857144, 'gini = 0.0\\nsamples = 1\\nvalue = [1, 0]'),\n",
       " Text(281.62785571142285, 129.42857142857144, 'X[2] <= 0.5\\ngini = 0.254\\nsamples = 141\\nvalue = [21, 120]'),\n",
       " Text(263.3446893787575, 119.07428571428571, 'X[4] <= 256.5\\ngini = 0.214\\nsamples = 123\\nvalue = [15, 108]'),\n",
       " Text(242.88096192384768, 108.72, 'X[4] <= 135.5\\ngini = 0.175\\nsamples = 103\\nvalue = [10, 93]'),\n",
       " Text(237.51342685370741, 98.36571428571429, 'X[9] <= 4641.0\\ngini = 0.444\\nsamples = 6\\nvalue = [2, 4]'),\n",
       " Text(234.82965931863725, 88.01142857142858, 'gini = 0.0\\nsamples = 1\\nvalue = [1, 0]'),\n",
       " Text(240.19719438877755, 88.01142857142858, 'X[7] <= 0.5\\ngini = 0.32\\nsamples = 5\\nvalue = [1, 4]'),\n",
       " Text(237.51342685370741, 77.65714285714284, 'gini = 0.0\\nsamples = 1\\nvalue = [1, 0]'),\n",
       " Text(242.88096192384768, 77.65714285714284, 'gini = 0.0\\nsamples = 4\\nvalue = [0, 4]'),\n",
       " Text(248.24849699398797, 98.36571428571429, 'X[9] <= 5661.0\\ngini = 0.151\\nsamples = 97\\nvalue = [8, 89]'),\n",
       " Text(245.56472945891784, 88.01142857142858, 'gini = 0.0\\nsamples = 22\\nvalue = [0, 22]'),\n",
       " Text(250.9322645290581, 88.01142857142858, 'X[9] <= 5712.5\\ngini = 0.191\\nsamples = 75\\nvalue = [8, 67]'),\n",
       " Text(248.24849699398797, 77.65714285714284, 'gini = 0.0\\nsamples = 1\\nvalue = [1, 0]'),\n",
       " Text(253.61603206412826, 77.65714285714284, 'X[4] <= 175.5\\ngini = 0.171\\nsamples = 74\\nvalue = [7, 67]'),\n",
       " Text(242.21002004008017, 67.30285714285714, 'X[4] <= 147.0\\ngini = 0.264\\nsamples = 32\\nvalue = [5, 27]'),\n",
       " Text(239.52625250501, 56.94857142857143, 'gini = 0.0\\nsamples = 9\\nvalue = [0, 9]'),\n",
       " Text(244.8937875751503, 56.94857142857143, 'X[9] <= 7302.0\\ngini = 0.34\\nsamples = 23\\nvalue = [5, 18]'),\n",
       " Text(238.18436873747495, 46.59428571428572, 'X[7] <= 1.5\\ngini = 0.219\\nsamples = 16\\nvalue = [2, 14]'),\n",
       " Text(232.81683366733466, 36.24000000000001, 'X[4] <= 151.0\\ngini = 0.142\\nsamples = 13\\nvalue = [1, 12]'),\n",
       " Text(230.13306613226453, 25.8857142857143, 'X[7] <= 0.5\\ngini = 0.444\\nsamples = 3\\nvalue = [1, 2]'),\n",
       " Text(227.44929859719437, 15.531428571428563, 'gini = 0.0\\nsamples = 1\\nvalue = [0, 1]'),\n",
       " Text(232.81683366733466, 15.531428571428563, 'X[1] <= 2.5\\ngini = 0.5\\nsamples = 2\\nvalue = [1, 1]'),\n",
       " Text(230.13306613226453, 5.177142857142854, 'gini = 0.0\\nsamples = 1\\nvalue = [0, 1]'),\n",
       " Text(235.5006012024048, 5.177142857142854, 'gini = 0.0\\nsamples = 1\\nvalue = [1, 0]'),\n",
       " Text(235.5006012024048, 25.8857142857143, 'gini = 0.0\\nsamples = 10\\nvalue = [0, 10]'),\n",
       " Text(243.55190380761522, 36.24000000000001, 'X[4] <= 172.5\\ngini = 0.444\\nsamples = 3\\nvalue = [1, 2]'),\n",
       " Text(240.8681362725451, 25.8857142857143, 'gini = 0.0\\nsamples = 2\\nvalue = [0, 2]'),\n",
       " Text(246.23567134268535, 25.8857142857143, 'gini = 0.0\\nsamples = 1\\nvalue = [1, 0]'),\n",
       " Text(251.60320641282564, 46.59428571428572, 'X[9] <= 8461.0\\ngini = 0.49\\nsamples = 7\\nvalue = [3, 4]'),\n",
       " Text(248.9194388777555, 36.24000000000001, 'gini = 0.0\\nsamples = 2\\nvalue = [2, 0]'),\n",
       " Text(254.28697394789577, 36.24000000000001, 'X[8] <= 0.5\\ngini = 0.32\\nsamples = 5\\nvalue = [1, 4]'),\n",
       " Text(251.60320641282564, 25.8857142857143, 'gini = 0.0\\nsamples = 3\\nvalue = [0, 3]'),\n",
       " Text(256.97074148296593, 25.8857142857143, 'X[1] <= 1.5\\ngini = 0.5\\nsamples = 2\\nvalue = [1, 1]'),\n",
       " Text(254.28697394789577, 15.531428571428563, 'gini = 0.0\\nsamples = 1\\nvalue = [1, 0]'),\n",
       " Text(259.65450901803604, 15.531428571428563, 'gini = 0.0\\nsamples = 1\\nvalue = [0, 1]'),\n",
       " Text(265.02204408817636, 67.30285714285714, 'X[9] <= 6243.0\\ngini = 0.091\\nsamples = 42\\nvalue = [2, 40]'),\n",
       " Text(259.65450901803604, 56.94857142857143, 'X[5] <= 300.0\\ngini = 0.5\\nsamples = 2\\nvalue = [1, 1]'),\n",
       " Text(256.97074148296593, 46.59428571428572, 'gini = 0.0\\nsamples = 1\\nvalue = [1, 0]'),\n",
       " Text(262.3382765531062, 46.59428571428572, 'gini = 0.0\\nsamples = 1\\nvalue = [0, 1]'),\n",
       " Text(270.3895791583166, 56.94857142857143, 'X[9] <= 7196.0\\ngini = 0.049\\nsamples = 40\\nvalue = [1, 39]'),\n",
       " Text(267.70581162324646, 46.59428571428572, 'X[9] <= 7112.5\\ngini = 0.245\\nsamples = 7\\nvalue = [1, 6]'),\n",
       " Text(265.02204408817636, 36.24000000000001, 'gini = 0.0\\nsamples = 6\\nvalue = [0, 6]'),\n",
       " Text(270.3895791583166, 36.24000000000001, 'gini = 0.0\\nsamples = 1\\nvalue = [1, 0]'),\n",
       " Text(273.0733466933868, 46.59428571428572, 'gini = 0.0\\nsamples = 33\\nvalue = [0, 33]'),\n",
       " Text(283.8084168336673, 108.72, 'X[8] <= 0.5\\ngini = 0.375\\nsamples = 20\\nvalue = [5, 15]'),\n",
       " Text(281.1246492985972, 98.36571428571429, 'X[9] <= 16724.5\\ngini = 0.473\\nsamples = 13\\nvalue = [5, 8]'),\n",
       " Text(278.44088176352705, 88.01142857142858, 'X[4] <= 295.0\\ngini = 0.397\\nsamples = 11\\nvalue = [3, 8]'),\n",
       " Text(275.7571142284569, 77.65714285714284, 'X[1] <= 1.0\\ngini = 0.48\\nsamples = 5\\nvalue = [3, 2]'),\n",
       " Text(273.0733466933868, 67.30285714285714, 'gini = 0.0\\nsamples = 2\\nvalue = [2, 0]'),\n",
       " Text(278.44088176352705, 67.30285714285714, 'X[4] <= 282.5\\ngini = 0.444\\nsamples = 3\\nvalue = [1, 2]'),\n",
       " Text(275.7571142284569, 56.94857142857143, 'gini = 0.0\\nsamples = 2\\nvalue = [0, 2]'),\n",
       " Text(281.1246492985972, 56.94857142857143, 'gini = 0.0\\nsamples = 1\\nvalue = [1, 0]'),\n",
       " Text(281.1246492985972, 77.65714285714284, 'gini = 0.0\\nsamples = 6\\nvalue = [0, 6]'),\n",
       " Text(283.8084168336673, 88.01142857142858, 'gini = 0.0\\nsamples = 2\\nvalue = [2, 0]'),\n",
       " Text(286.49218436873747, 98.36571428571429, 'gini = 0.0\\nsamples = 7\\nvalue = [0, 7]'),\n",
       " Text(299.91102204408816, 119.07428571428571, 'X[1] <= 0.5\\ngini = 0.444\\nsamples = 18\\nvalue = [6, 12]'),\n",
       " Text(294.5434869739479, 108.72, 'X[7] <= 1.0\\ngini = 0.49\\nsamples = 7\\nvalue = [4, 3]'),\n",
       " Text(291.85971943887773, 98.36571428571429, 'X[4] <= 135.5\\ngini = 0.375\\nsamples = 4\\nvalue = [1, 3]'),\n",
       " Text(289.17595190380763, 88.01142857142858, 'gini = 0.0\\nsamples = 1\\nvalue = [1, 0]'),\n",
       " Text(294.5434869739479, 88.01142857142858, 'gini = 0.0\\nsamples = 3\\nvalue = [0, 3]'),\n",
       " Text(297.22725450901805, 98.36571428571429, 'gini = 0.0\\nsamples = 3\\nvalue = [3, 0]'),\n",
       " Text(305.2785571142285, 108.72, 'X[4] <= 172.5\\ngini = 0.298\\nsamples = 11\\nvalue = [2, 9]'),\n",
       " Text(302.5947895791583, 98.36571428571429, 'gini = 0.0\\nsamples = 8\\nvalue = [0, 8]'),\n",
       " Text(307.9623246492986, 98.36571428571429, 'X[4] <= 233.0\\ngini = 0.444\\nsamples = 3\\nvalue = [2, 1]'),\n",
       " Text(305.2785571142285, 88.01142857142858, 'gini = 0.0\\nsamples = 2\\nvalue = [2, 0]'),\n",
       " Text(310.64609218436874, 88.01142857142858, 'gini = 0.0\\nsamples = 1\\nvalue = [0, 1]'),\n",
       " Text(313.32985971943884, 139.78285714285715, 'X[9] <= 6583.5\\ngini = 0.469\\nsamples = 16\\nvalue = [6, 10]'),\n",
       " Text(307.9623246492986, 129.42857142857144, 'X[4] <= 235.5\\ngini = 0.245\\nsamples = 7\\nvalue = [1, 6]'),\n",
       " Text(305.2785571142285, 119.07428571428571, 'gini = 0.0\\nsamples = 6\\nvalue = [0, 6]'),\n",
       " Text(310.64609218436874, 119.07428571428571, 'gini = 0.0\\nsamples = 1\\nvalue = [1, 0]'),\n",
       " Text(318.69739478957916, 129.42857142857144, 'X[9] <= 9842.5\\ngini = 0.494\\nsamples = 9\\nvalue = [5, 4]'),\n",
       " Text(316.013627254509, 119.07428571428571, 'X[1] <= 1.5\\ngini = 0.278\\nsamples = 6\\nvalue = [5, 1]'),\n",
       " Text(313.32985971943884, 108.72, 'gini = 0.0\\nsamples = 5\\nvalue = [5, 0]'),\n",
       " Text(318.69739478957916, 108.72, 'gini = 0.0\\nsamples = 1\\nvalue = [0, 1]'),\n",
       " Text(321.38116232464927, 119.07428571428571, 'gini = 0.0\\nsamples = 3\\nvalue = [0, 3]'),\n",
       " Text(321.38116232464927, 181.2, 'X[9] <= 42990.0\\ngini = 0.498\\nsamples = 15\\nvalue = [8, 7]'),\n",
       " Text(318.69739478957916, 170.84571428571428, 'X[9] <= 22050.0\\ngini = 0.444\\nsamples = 12\\nvalue = [8, 4]'),\n",
       " Text(316.013627254509, 160.49142857142857, 'gini = 0.0\\nsamples = 3\\nvalue = [3, 0]'),\n",
       " Text(321.38116232464927, 160.49142857142857, 'X[9] <= 23806.0\\ngini = 0.494\\nsamples = 9\\nvalue = [5, 4]'),\n",
       " Text(318.69739478957916, 150.13714285714286, 'gini = 0.0\\nsamples = 2\\nvalue = [0, 2]'),\n",
       " Text(324.0649298597194, 150.13714285714286, 'X[9] <= 26248.0\\ngini = 0.408\\nsamples = 7\\nvalue = [5, 2]'),\n",
       " Text(321.38116232464927, 139.78285714285715, 'gini = 0.0\\nsamples = 2\\nvalue = [2, 0]'),\n",
       " Text(326.7486973947896, 139.78285714285715, 'X[9] <= 30673.0\\ngini = 0.48\\nsamples = 5\\nvalue = [3, 2]'),\n",
       " Text(324.0649298597194, 129.42857142857144, 'gini = 0.0\\nsamples = 1\\nvalue = [0, 1]'),\n",
       " Text(329.4324649298597, 129.42857142857144, 'X[4] <= 206.0\\ngini = 0.375\\nsamples = 4\\nvalue = [3, 1]'),\n",
       " Text(326.7486973947896, 119.07428571428571, 'X[1] <= 0.5\\ngini = 0.5\\nsamples = 2\\nvalue = [1, 1]'),\n",
       " Text(324.0649298597194, 108.72, 'gini = 0.0\\nsamples = 1\\nvalue = [1, 0]'),\n",
       " Text(329.4324649298597, 108.72, 'gini = 0.0\\nsamples = 1\\nvalue = [0, 1]'),\n",
       " Text(332.11623246492985, 119.07428571428571, 'gini = 0.0\\nsamples = 2\\nvalue = [2, 0]'),\n",
       " Text(324.0649298597194, 170.84571428571428, 'gini = 0.0\\nsamples = 3\\nvalue = [0, 3]')]"
      ]
     },
     "execution_count": 175,
     "metadata": {},
     "output_type": "execute_result"
    },
    {
     "data": {
      "image/png": "[encoded data removed]",
      "text/plain": [
       "<Figure size 432x288 with 1 Axes>"
      ]
     },
     "metadata": {
      "needs_background": "light"
     },
     "output_type": "display_data"
    }
   ],
   "source": [
    "from sklearn import tree\n",
    "tree.plot_tree(decision_tree)"
   ]
  },
  {
   "cell_type": "code",
   "execution_count": null,
   "metadata": {},
   "outputs": [],
   "source": []
  }
 ],
 "metadata": {
  "kernelspec": {
   "display_name": "Python 3",
   "language": "python",
   "name": "python3"
  },
  "language_info": {
   "codemirror_mode": {
    "name": "ipython",
    "version": 3
   },
   "file_extension": ".py",
   "mimetype": "text/x-python",
   "name": "python",
   "nbconvert_exporter": "python",
   "pygments_lexer": "ipython3",
   "version": "3.7.4"
  }
 },
 "nbformat": 4,
 "nbformat_minor": 2
}
